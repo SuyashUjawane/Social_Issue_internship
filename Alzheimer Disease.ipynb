{
 "cells": [
  {
   "cell_type": "markdown",
   "metadata": {},
   "source": [
    "# **`Alzheimer’s Disease Classification`** \n",
    "- **`using ML and DL algorithms`**\n"
   ]
  },
  {
   "cell_type": "markdown",
   "metadata": {},
   "source": [
    "**Alzheimer’s disease**\n",
    "- Alzheimer’s disease is a progressive and irreversible disorder that slowly destroys memory, thinking skills, and other important mental functions that will eventually remove a person’s ability to carry out simple tasks. \n",
    "- Alzheimer’s disease is the most common cause of dementia, which is a `group of brain disorders that cause the loss of intellectual and social skills`. There is `no known cure for Alzheimer’s disease`, but there are `medications and management strategies that may temporarily improve symptoms`. \n",
    "\n"
   ]
  },
  {
   "cell_type": "markdown",
   "metadata": {},
   "source": [
    "#### ***Data preprocessing***\n",
    "- Data used in the preparation of this report was obtained from the Alzheimer’s Disease Neuroimaging Initiative (ADNI) database (http://adni.loni.usc.edu). \n",
    "- After downloading the images from ADNI database, we need to `remove unnecessary details of brain MR images that might cause poor training of our classification model`, cortical reconstruction and volumetric segmentation was performed with the Free-Surfer image analysis suite\n",
    "- After we have pre-processed images using `free-surfer software`, we need to extract the features from the pre-processed images using `the frees-surfer commands`.\n",
    "- **Frees-surfer Command** \n",
    "    - ***asegstats2table:-***   It produces the volumetric data from different cortical structures of the brain segmented.\n",
    "    - ***aparcstats2table:-*** It produces the area or thickness data from different subcortical structures of left part of the brain segmented\n",
    "\n",
    "- After collecting extracted features from the pre-processed images , we prepare `4 csv files which contains subject features of CN and AD, AD and MCI, MCI and CN`. \n"
   ]
  },
  {
   "cell_type": "markdown",
   "metadata": {},
   "source": [
    "#### 1. CN  :: (Cognitively Normal)\n",
    "- ***(early stage)***\n",
    "- People suffering from Alzheimer’s disease can appear to be healthy and functioning independently - participating in social activities, driving themselves, or working. Despite looking healthy, they may actually be having trouble making sense of their surroundings and experience memory lapses, like forgetting familiar words or locating everyday objects. This stage is often mistaken for normal aging. \n",
    "\n",
    "#### 2. MCI :: (Mild Cognitive Impairment) \n",
    "- ***(middle stage)*** \n",
    "- This stage is typically the longest stage and can last for several years. In this stage, the degeneration of the brain worsens and spreads to other areas that control language, reasoning, sensory processing and thought. The damage to nerve cells in the brain makes it difficult to express thoughts and perform routine tasks. You may notice in this stage, someone with Alzheimer’s will confuse words, get frustrated or angry, or act out. \n",
    "\n",
    "#### 3. AD  :: \n",
    "- ***(late stage)***\n",
    "- This is the final stage of the disease where the damage to brain’s nerve cells is widespread and people may lose their motor coordination and the ability to walk, speak, feed themselves, and recognize others. Full-time care is usually required during this stage. \n"
   ]
  },
  {
   "cell_type": "markdown",
   "metadata": {},
   "source": [
    "### ***Import Necessary libraries***"
   ]
  },
  {
   "cell_type": "code",
   "execution_count": 1,
   "metadata": {},
   "outputs": [],
   "source": [
    "import pandas as pd \n",
    "import numpy as np\n",
    "import matplotlib.pyplot as plt\n",
    "import seaborn as sns\n",
    "from sklearn.model_selection import train_test_split\n",
    "from sklearn.preprocessing import MinMaxScaler\n",
    "from sklearn.metrics import accuracy_score\n",
    "from sklearn.model_selection import cross_val_score"
   ]
  },
  {
   "cell_type": "markdown",
   "metadata": {},
   "source": [
    "# **`A. CN and AD Classification`**\n",
    "- Two Way"
   ]
  },
  {
   "cell_type": "markdown",
   "metadata": {},
   "source": [
    "###  ***Load Dataset***"
   ]
  },
  {
   "cell_type": "code",
   "execution_count": 2,
   "metadata": {},
   "outputs": [
    {
     "data": {
      "text/html": [
       "<div>\n",
       "<style scoped>\n",
       "    .dataframe tbody tr th:only-of-type {\n",
       "        vertical-align: middle;\n",
       "    }\n",
       "\n",
       "    .dataframe tbody tr th {\n",
       "        vertical-align: top;\n",
       "    }\n",
       "\n",
       "    .dataframe thead th {\n",
       "        text-align: right;\n",
       "    }\n",
       "</style>\n",
       "<table border=\"1\" class=\"dataframe\">\n",
       "  <thead>\n",
       "    <tr style=\"text-align: right;\">\n",
       "      <th></th>\n",
       "      <th>Measure:volume</th>\n",
       "      <th>Left-Lateral-Ventricle</th>\n",
       "      <th>Left-Inf-Lat-Vent</th>\n",
       "      <th>Left-Cerebellum-White-Matter</th>\n",
       "      <th>Left-Cerebellum-Cortex</th>\n",
       "      <th>Left-Thalamus-Proper</th>\n",
       "      <th>Left-Caudate</th>\n",
       "      <th>Left-Putamen</th>\n",
       "      <th>Left-Pallidum</th>\n",
       "      <th>3rd-Ventricle</th>\n",
       "      <th>...</th>\n",
       "      <th>rh_superiortemporal_area</th>\n",
       "      <th>rh_supramarginal_area</th>\n",
       "      <th>rh_frontalpole_area</th>\n",
       "      <th>rh_temporalpole_area</th>\n",
       "      <th>rh_transversetemporal_area</th>\n",
       "      <th>rh_insula_area</th>\n",
       "      <th>rh_WhiteSurfArea_area</th>\n",
       "      <th>BrainSegVolNotVent.2</th>\n",
       "      <th>eTIV.1</th>\n",
       "      <th>category</th>\n",
       "    </tr>\n",
       "  </thead>\n",
       "  <tbody>\n",
       "    <tr>\n",
       "      <th>0</th>\n",
       "      <td>002_S_0295</td>\n",
       "      <td>23090.0</td>\n",
       "      <td>1020.1</td>\n",
       "      <td>13583.2</td>\n",
       "      <td>57689.5</td>\n",
       "      <td>6969.1</td>\n",
       "      <td>3218.3</td>\n",
       "      <td>4556.4</td>\n",
       "      <td>2030.0</td>\n",
       "      <td>2086.8</td>\n",
       "      <td>...</td>\n",
       "      <td>3180</td>\n",
       "      <td>3186</td>\n",
       "      <td>267</td>\n",
       "      <td>461</td>\n",
       "      <td>266</td>\n",
       "      <td>2741</td>\n",
       "      <td>79747.8</td>\n",
       "      <td>1091729</td>\n",
       "      <td>1.627656e+06</td>\n",
       "      <td>0</td>\n",
       "    </tr>\n",
       "    <tr>\n",
       "      <th>1</th>\n",
       "      <td>002_S_0413</td>\n",
       "      <td>14953.7</td>\n",
       "      <td>841.5</td>\n",
       "      <td>11062.3</td>\n",
       "      <td>46273.3</td>\n",
       "      <td>6061.1</td>\n",
       "      <td>3376.1</td>\n",
       "      <td>3502.1</td>\n",
       "      <td>1390.6</td>\n",
       "      <td>2545.5</td>\n",
       "      <td>...</td>\n",
       "      <td>3562</td>\n",
       "      <td>3288</td>\n",
       "      <td>296</td>\n",
       "      <td>424</td>\n",
       "      <td>313</td>\n",
       "      <td>1911</td>\n",
       "      <td>80805.6</td>\n",
       "      <td>1035836</td>\n",
       "      <td>1.586448e+06</td>\n",
       "      <td>0</td>\n",
       "    </tr>\n",
       "    <tr>\n",
       "      <th>2</th>\n",
       "      <td>002_S_0559</td>\n",
       "      <td>16334.9</td>\n",
       "      <td>1261.3</td>\n",
       "      <td>12688.1</td>\n",
       "      <td>52498.2</td>\n",
       "      <td>6931.2</td>\n",
       "      <td>3402.5</td>\n",
       "      <td>4248.9</td>\n",
       "      <td>1774.8</td>\n",
       "      <td>2673.0</td>\n",
       "      <td>...</td>\n",
       "      <td>3891</td>\n",
       "      <td>4059</td>\n",
       "      <td>300</td>\n",
       "      <td>487</td>\n",
       "      <td>310</td>\n",
       "      <td>2342</td>\n",
       "      <td>87450.3</td>\n",
       "      <td>1127258</td>\n",
       "      <td>1.660782e+06</td>\n",
       "      <td>0</td>\n",
       "    </tr>\n",
       "    <tr>\n",
       "      <th>3</th>\n",
       "      <td>002_S_1261</td>\n",
       "      <td>14344.1</td>\n",
       "      <td>867.0</td>\n",
       "      <td>11743.8</td>\n",
       "      <td>52665.4</td>\n",
       "      <td>6080.0</td>\n",
       "      <td>3152.7</td>\n",
       "      <td>3615.4</td>\n",
       "      <td>1713.3</td>\n",
       "      <td>1177.5</td>\n",
       "      <td>...</td>\n",
       "      <td>3086</td>\n",
       "      <td>3220</td>\n",
       "      <td>337</td>\n",
       "      <td>349</td>\n",
       "      <td>319</td>\n",
       "      <td>2249</td>\n",
       "      <td>76685.4</td>\n",
       "      <td>1008174</td>\n",
       "      <td>1.456087e+06</td>\n",
       "      <td>0</td>\n",
       "    </tr>\n",
       "    <tr>\n",
       "      <th>4</th>\n",
       "      <td>002_S_1280</td>\n",
       "      <td>11270.4</td>\n",
       "      <td>405.6</td>\n",
       "      <td>13772.4</td>\n",
       "      <td>44625.8</td>\n",
       "      <td>5537.0</td>\n",
       "      <td>3454.3</td>\n",
       "      <td>4499.0</td>\n",
       "      <td>1735.1</td>\n",
       "      <td>1182.5</td>\n",
       "      <td>...</td>\n",
       "      <td>3108</td>\n",
       "      <td>4065</td>\n",
       "      <td>275</td>\n",
       "      <td>451</td>\n",
       "      <td>319</td>\n",
       "      <td>2286</td>\n",
       "      <td>74440.0</td>\n",
       "      <td>954403</td>\n",
       "      <td>1.395987e+06</td>\n",
       "      <td>0</td>\n",
       "    </tr>\n",
       "  </tbody>\n",
       "</table>\n",
       "<p>5 rows × 142 columns</p>\n",
       "</div>"
      ],
      "text/plain": [
       "  Measure:volume  Left-Lateral-Ventricle  Left-Inf-Lat-Vent  \\\n",
       "0     002_S_0295                 23090.0             1020.1   \n",
       "1     002_S_0413                 14953.7              841.5   \n",
       "2     002_S_0559                 16334.9             1261.3   \n",
       "3     002_S_1261                 14344.1              867.0   \n",
       "4     002_S_1280                 11270.4              405.6   \n",
       "\n",
       "   Left-Cerebellum-White-Matter  Left-Cerebellum-Cortex  Left-Thalamus-Proper  \\\n",
       "0                       13583.2                 57689.5                6969.1   \n",
       "1                       11062.3                 46273.3                6061.1   \n",
       "2                       12688.1                 52498.2                6931.2   \n",
       "3                       11743.8                 52665.4                6080.0   \n",
       "4                       13772.4                 44625.8                5537.0   \n",
       "\n",
       "   Left-Caudate  Left-Putamen  Left-Pallidum  3rd-Ventricle  ...  \\\n",
       "0        3218.3        4556.4         2030.0         2086.8  ...   \n",
       "1        3376.1        3502.1         1390.6         2545.5  ...   \n",
       "2        3402.5        4248.9         1774.8         2673.0  ...   \n",
       "3        3152.7        3615.4         1713.3         1177.5  ...   \n",
       "4        3454.3        4499.0         1735.1         1182.5  ...   \n",
       "\n",
       "   rh_superiortemporal_area  rh_supramarginal_area  rh_frontalpole_area  \\\n",
       "0                      3180                   3186                  267   \n",
       "1                      3562                   3288                  296   \n",
       "2                      3891                   4059                  300   \n",
       "3                      3086                   3220                  337   \n",
       "4                      3108                   4065                  275   \n",
       "\n",
       "   rh_temporalpole_area  rh_transversetemporal_area  rh_insula_area  \\\n",
       "0                   461                         266            2741   \n",
       "1                   424                         313            1911   \n",
       "2                   487                         310            2342   \n",
       "3                   349                         319            2249   \n",
       "4                   451                         319            2286   \n",
       "\n",
       "   rh_WhiteSurfArea_area  BrainSegVolNotVent.2        eTIV.1  category  \n",
       "0                79747.8               1091729  1.627656e+06         0  \n",
       "1                80805.6               1035836  1.586448e+06         0  \n",
       "2                87450.3               1127258  1.660782e+06         0  \n",
       "3                76685.4               1008174  1.456087e+06         0  \n",
       "4                74440.0                954403  1.395987e+06         0  \n",
       "\n",
       "[5 rows x 142 columns]"
      ]
     },
     "execution_count": 2,
     "metadata": {},
     "output_type": "execute_result"
    }
   ],
   "source": [
    "data = pd.read_csv('CN_AD.csv')\n",
    "data.head()"
   ]
  },
  {
   "cell_type": "code",
   "execution_count": 3,
   "metadata": {},
   "outputs": [
    {
     "data": {
      "text/plain": [
       "(160, 142)"
      ]
     },
     "execution_count": 3,
     "metadata": {},
     "output_type": "execute_result"
    }
   ],
   "source": [
    "data.shape"
   ]
  },
  {
   "cell_type": "code",
   "execution_count": 4,
   "metadata": {},
   "outputs": [
    {
     "data": {
      "text/html": [
       "<div>\n",
       "<style scoped>\n",
       "    .dataframe tbody tr th:only-of-type {\n",
       "        vertical-align: middle;\n",
       "    }\n",
       "\n",
       "    .dataframe tbody tr th {\n",
       "        vertical-align: top;\n",
       "    }\n",
       "\n",
       "    .dataframe thead th {\n",
       "        text-align: right;\n",
       "    }\n",
       "</style>\n",
       "<table border=\"1\" class=\"dataframe\">\n",
       "  <thead>\n",
       "    <tr style=\"text-align: right;\">\n",
       "      <th></th>\n",
       "      <th>Left-Lateral-Ventricle</th>\n",
       "      <th>Left-Inf-Lat-Vent</th>\n",
       "      <th>Left-Cerebellum-White-Matter</th>\n",
       "      <th>Left-Cerebellum-Cortex</th>\n",
       "      <th>Left-Thalamus-Proper</th>\n",
       "      <th>Left-Caudate</th>\n",
       "      <th>Left-Putamen</th>\n",
       "      <th>Left-Pallidum</th>\n",
       "      <th>3rd-Ventricle</th>\n",
       "      <th>4th-Ventricle</th>\n",
       "      <th>...</th>\n",
       "      <th>rh_superiortemporal_area</th>\n",
       "      <th>rh_supramarginal_area</th>\n",
       "      <th>rh_frontalpole_area</th>\n",
       "      <th>rh_temporalpole_area</th>\n",
       "      <th>rh_transversetemporal_area</th>\n",
       "      <th>rh_insula_area</th>\n",
       "      <th>rh_WhiteSurfArea_area</th>\n",
       "      <th>BrainSegVolNotVent.2</th>\n",
       "      <th>eTIV.1</th>\n",
       "      <th>category</th>\n",
       "    </tr>\n",
       "  </thead>\n",
       "  <tbody>\n",
       "    <tr>\n",
       "      <th>count</th>\n",
       "      <td>160.000000</td>\n",
       "      <td>160.000000</td>\n",
       "      <td>160.000000</td>\n",
       "      <td>160.000000</td>\n",
       "      <td>160.000000</td>\n",
       "      <td>160.000000</td>\n",
       "      <td>160.000000</td>\n",
       "      <td>160.000000</td>\n",
       "      <td>160.0000</td>\n",
       "      <td>160.000000</td>\n",
       "      <td>...</td>\n",
       "      <td>160.000000</td>\n",
       "      <td>160.000000</td>\n",
       "      <td>160.000000</td>\n",
       "      <td>160.000000</td>\n",
       "      <td>160.000000</td>\n",
       "      <td>160.000000</td>\n",
       "      <td>160.000000</td>\n",
       "      <td>1.600000e+02</td>\n",
       "      <td>1.600000e+02</td>\n",
       "      <td>160.00000</td>\n",
       "    </tr>\n",
       "    <tr>\n",
       "      <th>mean</th>\n",
       "      <td>23220.814375</td>\n",
       "      <td>1239.240000</td>\n",
       "      <td>12375.664375</td>\n",
       "      <td>49310.490000</td>\n",
       "      <td>6345.040000</td>\n",
       "      <td>3272.182500</td>\n",
       "      <td>4054.088125</td>\n",
       "      <td>1745.510000</td>\n",
       "      <td>2001.5550</td>\n",
       "      <td>2107.286875</td>\n",
       "      <td>...</td>\n",
       "      <td>3502.518750</td>\n",
       "      <td>3429.662500</td>\n",
       "      <td>296.512500</td>\n",
       "      <td>452.856250</td>\n",
       "      <td>313.925000</td>\n",
       "      <td>2336.743750</td>\n",
       "      <td>80255.681875</td>\n",
       "      <td>1.014339e+06</td>\n",
       "      <td>1.540255e+06</td>\n",
       "      <td>0.50000</td>\n",
       "    </tr>\n",
       "    <tr>\n",
       "      <th>std</th>\n",
       "      <td>12973.943707</td>\n",
       "      <td>904.371099</td>\n",
       "      <td>1693.067505</td>\n",
       "      <td>5225.087766</td>\n",
       "      <td>679.931718</td>\n",
       "      <td>601.107702</td>\n",
       "      <td>638.321723</td>\n",
       "      <td>249.103923</td>\n",
       "      <td>674.0464</td>\n",
       "      <td>688.025086</td>\n",
       "      <td>...</td>\n",
       "      <td>468.116915</td>\n",
       "      <td>497.717544</td>\n",
       "      <td>36.075914</td>\n",
       "      <td>63.955551</td>\n",
       "      <td>50.188769</td>\n",
       "      <td>357.254842</td>\n",
       "      <td>8153.947803</td>\n",
       "      <td>1.076347e+05</td>\n",
       "      <td>1.723378e+05</td>\n",
       "      <td>0.50157</td>\n",
       "    </tr>\n",
       "    <tr>\n",
       "      <th>min</th>\n",
       "      <td>6169.900000</td>\n",
       "      <td>200.300000</td>\n",
       "      <td>7697.300000</td>\n",
       "      <td>34648.900000</td>\n",
       "      <td>4840.700000</td>\n",
       "      <td>2135.500000</td>\n",
       "      <td>2483.600000</td>\n",
       "      <td>1129.800000</td>\n",
       "      <td>835.6000</td>\n",
       "      <td>1032.000000</td>\n",
       "      <td>...</td>\n",
       "      <td>2627.000000</td>\n",
       "      <td>2255.000000</td>\n",
       "      <td>194.000000</td>\n",
       "      <td>272.000000</td>\n",
       "      <td>209.000000</td>\n",
       "      <td>1716.000000</td>\n",
       "      <td>61848.800000</td>\n",
       "      <td>7.407600e+05</td>\n",
       "      <td>1.145850e+06</td>\n",
       "      <td>0.00000</td>\n",
       "    </tr>\n",
       "    <tr>\n",
       "      <th>25%</th>\n",
       "      <td>13530.800000</td>\n",
       "      <td>711.800000</td>\n",
       "      <td>11257.200000</td>\n",
       "      <td>45990.475000</td>\n",
       "      <td>5841.825000</td>\n",
       "      <td>2925.825000</td>\n",
       "      <td>3674.125000</td>\n",
       "      <td>1608.625000</td>\n",
       "      <td>1461.7250</td>\n",
       "      <td>1647.925000</td>\n",
       "      <td>...</td>\n",
       "      <td>3167.250000</td>\n",
       "      <td>3044.250000</td>\n",
       "      <td>274.750000</td>\n",
       "      <td>413.500000</td>\n",
       "      <td>280.500000</td>\n",
       "      <td>2046.500000</td>\n",
       "      <td>74433.525000</td>\n",
       "      <td>9.343288e+05</td>\n",
       "      <td>1.424844e+06</td>\n",
       "      <td>0.00000</td>\n",
       "    </tr>\n",
       "    <tr>\n",
       "      <th>50%</th>\n",
       "      <td>21135.650000</td>\n",
       "      <td>981.650000</td>\n",
       "      <td>12381.850000</td>\n",
       "      <td>48460.950000</td>\n",
       "      <td>6369.200000</td>\n",
       "      <td>3166.250000</td>\n",
       "      <td>3959.500000</td>\n",
       "      <td>1752.300000</td>\n",
       "      <td>1952.6500</td>\n",
       "      <td>2000.850000</td>\n",
       "      <td>...</td>\n",
       "      <td>3435.000000</td>\n",
       "      <td>3419.500000</td>\n",
       "      <td>294.500000</td>\n",
       "      <td>453.000000</td>\n",
       "      <td>309.000000</td>\n",
       "      <td>2284.500000</td>\n",
       "      <td>79136.050000</td>\n",
       "      <td>1.028422e+06</td>\n",
       "      <td>1.532082e+06</td>\n",
       "      <td>0.50000</td>\n",
       "    </tr>\n",
       "    <tr>\n",
       "      <th>75%</th>\n",
       "      <td>28847.725000</td>\n",
       "      <td>1544.475000</td>\n",
       "      <td>13527.150000</td>\n",
       "      <td>52175.300000</td>\n",
       "      <td>6756.475000</td>\n",
       "      <td>3520.875000</td>\n",
       "      <td>4370.525000</td>\n",
       "      <td>1899.525000</td>\n",
       "      <td>2468.4250</td>\n",
       "      <td>2390.300000</td>\n",
       "      <td>...</td>\n",
       "      <td>3794.000000</td>\n",
       "      <td>3802.000000</td>\n",
       "      <td>314.250000</td>\n",
       "      <td>487.000000</td>\n",
       "      <td>341.250000</td>\n",
       "      <td>2540.500000</td>\n",
       "      <td>86737.250000</td>\n",
       "      <td>1.081428e+06</td>\n",
       "      <td>1.653414e+06</td>\n",
       "      <td>1.00000</td>\n",
       "    </tr>\n",
       "    <tr>\n",
       "      <th>max</th>\n",
       "      <td>77457.300000</td>\n",
       "      <td>7025.900000</td>\n",
       "      <td>16911.700000</td>\n",
       "      <td>63557.600000</td>\n",
       "      <td>8068.200000</td>\n",
       "      <td>6947.000000</td>\n",
       "      <td>6365.400000</td>\n",
       "      <td>2378.800000</td>\n",
       "      <td>4223.5000</td>\n",
       "      <td>5154.400000</td>\n",
       "      <td>...</td>\n",
       "      <td>5443.000000</td>\n",
       "      <td>4889.000000</td>\n",
       "      <td>405.000000</td>\n",
       "      <td>622.000000</td>\n",
       "      <td>475.000000</td>\n",
       "      <td>3399.000000</td>\n",
       "      <td>101210.000000</td>\n",
       "      <td>1.291572e+06</td>\n",
       "      <td>2.040867e+06</td>\n",
       "      <td>1.00000</td>\n",
       "    </tr>\n",
       "  </tbody>\n",
       "</table>\n",
       "<p>8 rows × 141 columns</p>\n",
       "</div>"
      ],
      "text/plain": [
       "       Left-Lateral-Ventricle  Left-Inf-Lat-Vent  \\\n",
       "count              160.000000         160.000000   \n",
       "mean             23220.814375        1239.240000   \n",
       "std              12973.943707         904.371099   \n",
       "min               6169.900000         200.300000   \n",
       "25%              13530.800000         711.800000   \n",
       "50%              21135.650000         981.650000   \n",
       "75%              28847.725000        1544.475000   \n",
       "max              77457.300000        7025.900000   \n",
       "\n",
       "       Left-Cerebellum-White-Matter  Left-Cerebellum-Cortex  \\\n",
       "count                    160.000000              160.000000   \n",
       "mean                   12375.664375            49310.490000   \n",
       "std                     1693.067505             5225.087766   \n",
       "min                     7697.300000            34648.900000   \n",
       "25%                    11257.200000            45990.475000   \n",
       "50%                    12381.850000            48460.950000   \n",
       "75%                    13527.150000            52175.300000   \n",
       "max                    16911.700000            63557.600000   \n",
       "\n",
       "       Left-Thalamus-Proper  Left-Caudate  Left-Putamen  Left-Pallidum  \\\n",
       "count            160.000000    160.000000    160.000000     160.000000   \n",
       "mean            6345.040000   3272.182500   4054.088125    1745.510000   \n",
       "std              679.931718    601.107702    638.321723     249.103923   \n",
       "min             4840.700000   2135.500000   2483.600000    1129.800000   \n",
       "25%             5841.825000   2925.825000   3674.125000    1608.625000   \n",
       "50%             6369.200000   3166.250000   3959.500000    1752.300000   \n",
       "75%             6756.475000   3520.875000   4370.525000    1899.525000   \n",
       "max             8068.200000   6947.000000   6365.400000    2378.800000   \n",
       "\n",
       "       3rd-Ventricle  4th-Ventricle  ...  rh_superiortemporal_area  \\\n",
       "count       160.0000     160.000000  ...                160.000000   \n",
       "mean       2001.5550    2107.286875  ...               3502.518750   \n",
       "std         674.0464     688.025086  ...                468.116915   \n",
       "min         835.6000    1032.000000  ...               2627.000000   \n",
       "25%        1461.7250    1647.925000  ...               3167.250000   \n",
       "50%        1952.6500    2000.850000  ...               3435.000000   \n",
       "75%        2468.4250    2390.300000  ...               3794.000000   \n",
       "max        4223.5000    5154.400000  ...               5443.000000   \n",
       "\n",
       "       rh_supramarginal_area  rh_frontalpole_area  rh_temporalpole_area  \\\n",
       "count             160.000000           160.000000            160.000000   \n",
       "mean             3429.662500           296.512500            452.856250   \n",
       "std               497.717544            36.075914             63.955551   \n",
       "min              2255.000000           194.000000            272.000000   \n",
       "25%              3044.250000           274.750000            413.500000   \n",
       "50%              3419.500000           294.500000            453.000000   \n",
       "75%              3802.000000           314.250000            487.000000   \n",
       "max              4889.000000           405.000000            622.000000   \n",
       "\n",
       "       rh_transversetemporal_area  rh_insula_area  rh_WhiteSurfArea_area  \\\n",
       "count                  160.000000      160.000000             160.000000   \n",
       "mean                   313.925000     2336.743750           80255.681875   \n",
       "std                     50.188769      357.254842            8153.947803   \n",
       "min                    209.000000     1716.000000           61848.800000   \n",
       "25%                    280.500000     2046.500000           74433.525000   \n",
       "50%                    309.000000     2284.500000           79136.050000   \n",
       "75%                    341.250000     2540.500000           86737.250000   \n",
       "max                    475.000000     3399.000000          101210.000000   \n",
       "\n",
       "       BrainSegVolNotVent.2        eTIV.1   category  \n",
       "count          1.600000e+02  1.600000e+02  160.00000  \n",
       "mean           1.014339e+06  1.540255e+06    0.50000  \n",
       "std            1.076347e+05  1.723378e+05    0.50157  \n",
       "min            7.407600e+05  1.145850e+06    0.00000  \n",
       "25%            9.343288e+05  1.424844e+06    0.00000  \n",
       "50%            1.028422e+06  1.532082e+06    0.50000  \n",
       "75%            1.081428e+06  1.653414e+06    1.00000  \n",
       "max            1.291572e+06  2.040867e+06    1.00000  \n",
       "\n",
       "[8 rows x 141 columns]"
      ]
     },
     "execution_count": 4,
     "metadata": {},
     "output_type": "execute_result"
    }
   ],
   "source": [
    "data.describe()"
   ]
  },
  {
   "cell_type": "code",
   "execution_count": 5,
   "metadata": {},
   "outputs": [
    {
     "data": {
      "text/plain": [
       "Measure:volume                  0\n",
       "Left-Lateral-Ventricle          0\n",
       "Left-Inf-Lat-Vent               0\n",
       "Left-Cerebellum-White-Matter    0\n",
       "Left-Cerebellum-Cortex          0\n",
       "                               ..\n",
       "rh_insula_area                  0\n",
       "rh_WhiteSurfArea_area           0\n",
       "BrainSegVolNotVent.2            0\n",
       "eTIV.1                          0\n",
       "category                        0\n",
       "Length: 142, dtype: int64"
      ]
     },
     "execution_count": 5,
     "metadata": {},
     "output_type": "execute_result"
    }
   ],
   "source": [
    "data.isnull().sum()"
   ]
  },
  {
   "cell_type": "markdown",
   "metadata": {},
   "source": [
    "### ***Seperate Dependent `(y)` and Independent `(x)` variables***"
   ]
  },
  {
   "cell_type": "code",
   "execution_count": 6,
   "metadata": {},
   "outputs": [],
   "source": [
    "x = data.drop(columns = ['category','Measure:volume'], axis = 1)\n",
    "y = data['category']"
   ]
  },
  {
   "cell_type": "markdown",
   "metadata": {},
   "source": [
    "### ***Scaling data in between 0 to 1***\n",
    "- `MinMaxScaler`"
   ]
  },
  {
   "cell_type": "code",
   "execution_count": 7,
   "metadata": {},
   "outputs": [],
   "source": [
    "x_new = x.copy()\n",
    "def min_max_scale(col, x_new):\n",
    "    mms = MinMaxScaler()\n",
    "    x_new[col] = mms.fit_transform(x_new[[col]])\n",
    "    return x_new"
   ]
  },
  {
   "cell_type": "code",
   "execution_count": 8,
   "metadata": {},
   "outputs": [],
   "source": [
    "for col in list(x_new.columns):\n",
    "    x_new = min_max_scale(col, x_new)"
   ]
  },
  {
   "cell_type": "code",
   "execution_count": 9,
   "metadata": {},
   "outputs": [
    {
     "data": {
      "text/html": [
       "<div>\n",
       "<style scoped>\n",
       "    .dataframe tbody tr th:only-of-type {\n",
       "        vertical-align: middle;\n",
       "    }\n",
       "\n",
       "    .dataframe tbody tr th {\n",
       "        vertical-align: top;\n",
       "    }\n",
       "\n",
       "    .dataframe thead th {\n",
       "        text-align: right;\n",
       "    }\n",
       "</style>\n",
       "<table border=\"1\" class=\"dataframe\">\n",
       "  <thead>\n",
       "    <tr style=\"text-align: right;\">\n",
       "      <th></th>\n",
       "      <th>Left-Lateral-Ventricle</th>\n",
       "      <th>Left-Inf-Lat-Vent</th>\n",
       "      <th>Left-Cerebellum-White-Matter</th>\n",
       "      <th>Left-Cerebellum-Cortex</th>\n",
       "      <th>Left-Thalamus-Proper</th>\n",
       "      <th>Left-Caudate</th>\n",
       "      <th>Left-Putamen</th>\n",
       "      <th>Left-Pallidum</th>\n",
       "      <th>3rd-Ventricle</th>\n",
       "      <th>4th-Ventricle</th>\n",
       "      <th>...</th>\n",
       "      <th>rh_superiorparietal_area</th>\n",
       "      <th>rh_superiortemporal_area</th>\n",
       "      <th>rh_supramarginal_area</th>\n",
       "      <th>rh_frontalpole_area</th>\n",
       "      <th>rh_temporalpole_area</th>\n",
       "      <th>rh_transversetemporal_area</th>\n",
       "      <th>rh_insula_area</th>\n",
       "      <th>rh_WhiteSurfArea_area</th>\n",
       "      <th>BrainSegVolNotVent.2</th>\n",
       "      <th>eTIV.1</th>\n",
       "    </tr>\n",
       "  </thead>\n",
       "  <tbody>\n",
       "    <tr>\n",
       "      <th>0</th>\n",
       "      <td>0.237350</td>\n",
       "      <td>0.120107</td>\n",
       "      <td>0.638772</td>\n",
       "      <td>0.797013</td>\n",
       "      <td>0.659458</td>\n",
       "      <td>0.225044</td>\n",
       "      <td>0.533979</td>\n",
       "      <td>0.720737</td>\n",
       "      <td>0.369314</td>\n",
       "      <td>0.179750</td>\n",
       "      <td>...</td>\n",
       "      <td>0.404894</td>\n",
       "      <td>0.196378</td>\n",
       "      <td>0.353455</td>\n",
       "      <td>0.345972</td>\n",
       "      <td>0.540000</td>\n",
       "      <td>0.214286</td>\n",
       "      <td>0.609031</td>\n",
       "      <td>0.454737</td>\n",
       "      <td>0.637185</td>\n",
       "      <td>0.538320</td>\n",
       "    </tr>\n",
       "    <tr>\n",
       "      <th>1</th>\n",
       "      <td>0.123217</td>\n",
       "      <td>0.093940</td>\n",
       "      <td>0.365189</td>\n",
       "      <td>0.402107</td>\n",
       "      <td>0.378125</td>\n",
       "      <td>0.257841</td>\n",
       "      <td>0.262378</td>\n",
       "      <td>0.208807</td>\n",
       "      <td>0.504708</td>\n",
       "      <td>0.106855</td>\n",
       "      <td>...</td>\n",
       "      <td>0.446839</td>\n",
       "      <td>0.332031</td>\n",
       "      <td>0.392179</td>\n",
       "      <td>0.483412</td>\n",
       "      <td>0.434286</td>\n",
       "      <td>0.390977</td>\n",
       "      <td>0.115865</td>\n",
       "      <td>0.481611</td>\n",
       "      <td>0.535711</td>\n",
       "      <td>0.492278</td>\n",
       "    </tr>\n",
       "    <tr>\n",
       "      <th>2</th>\n",
       "      <td>0.142592</td>\n",
       "      <td>0.155444</td>\n",
       "      <td>0.541630</td>\n",
       "      <td>0.617437</td>\n",
       "      <td>0.647715</td>\n",
       "      <td>0.263327</td>\n",
       "      <td>0.454763</td>\n",
       "      <td>0.516413</td>\n",
       "      <td>0.542342</td>\n",
       "      <td>0.552397</td>\n",
       "      <td>...</td>\n",
       "      <td>0.366443</td>\n",
       "      <td>0.448864</td>\n",
       "      <td>0.684890</td>\n",
       "      <td>0.502370</td>\n",
       "      <td>0.614286</td>\n",
       "      <td>0.379699</td>\n",
       "      <td>0.371955</td>\n",
       "      <td>0.650425</td>\n",
       "      <td>0.701688</td>\n",
       "      <td>0.575332</td>\n",
       "    </tr>\n",
       "    <tr>\n",
       "      <th>3</th>\n",
       "      <td>0.114665</td>\n",
       "      <td>0.097676</td>\n",
       "      <td>0.439150</td>\n",
       "      <td>0.623221</td>\n",
       "      <td>0.383981</td>\n",
       "      <td>0.211410</td>\n",
       "      <td>0.291566</td>\n",
       "      <td>0.467174</td>\n",
       "      <td>0.100918</td>\n",
       "      <td>0.272681</td>\n",
       "      <td>...</td>\n",
       "      <td>0.348675</td>\n",
       "      <td>0.162997</td>\n",
       "      <td>0.366363</td>\n",
       "      <td>0.677725</td>\n",
       "      <td>0.220000</td>\n",
       "      <td>0.413534</td>\n",
       "      <td>0.316696</td>\n",
       "      <td>0.376935</td>\n",
       "      <td>0.485491</td>\n",
       "      <td>0.346626</td>\n",
       "    </tr>\n",
       "    <tr>\n",
       "      <th>4</th>\n",
       "      <td>0.071548</td>\n",
       "      <td>0.030078</td>\n",
       "      <td>0.659305</td>\n",
       "      <td>0.345118</td>\n",
       "      <td>0.215740</td>\n",
       "      <td>0.274093</td>\n",
       "      <td>0.519192</td>\n",
       "      <td>0.484628</td>\n",
       "      <td>0.102394</td>\n",
       "      <td>0.062197</td>\n",
       "      <td>...</td>\n",
       "      <td>0.416545</td>\n",
       "      <td>0.170810</td>\n",
       "      <td>0.687168</td>\n",
       "      <td>0.383886</td>\n",
       "      <td>0.511429</td>\n",
       "      <td>0.413534</td>\n",
       "      <td>0.338681</td>\n",
       "      <td>0.319889</td>\n",
       "      <td>0.387869</td>\n",
       "      <td>0.279478</td>\n",
       "    </tr>\n",
       "  </tbody>\n",
       "</table>\n",
       "<p>5 rows × 140 columns</p>\n",
       "</div>"
      ],
      "text/plain": [
       "   Left-Lateral-Ventricle  Left-Inf-Lat-Vent  Left-Cerebellum-White-Matter  \\\n",
       "0                0.237350           0.120107                      0.638772   \n",
       "1                0.123217           0.093940                      0.365189   \n",
       "2                0.142592           0.155444                      0.541630   \n",
       "3                0.114665           0.097676                      0.439150   \n",
       "4                0.071548           0.030078                      0.659305   \n",
       "\n",
       "   Left-Cerebellum-Cortex  Left-Thalamus-Proper  Left-Caudate  Left-Putamen  \\\n",
       "0                0.797013              0.659458      0.225044      0.533979   \n",
       "1                0.402107              0.378125      0.257841      0.262378   \n",
       "2                0.617437              0.647715      0.263327      0.454763   \n",
       "3                0.623221              0.383981      0.211410      0.291566   \n",
       "4                0.345118              0.215740      0.274093      0.519192   \n",
       "\n",
       "   Left-Pallidum  3rd-Ventricle  4th-Ventricle  ...  rh_superiorparietal_area  \\\n",
       "0       0.720737       0.369314       0.179750  ...                  0.404894   \n",
       "1       0.208807       0.504708       0.106855  ...                  0.446839   \n",
       "2       0.516413       0.542342       0.552397  ...                  0.366443   \n",
       "3       0.467174       0.100918       0.272681  ...                  0.348675   \n",
       "4       0.484628       0.102394       0.062197  ...                  0.416545   \n",
       "\n",
       "   rh_superiortemporal_area  rh_supramarginal_area  rh_frontalpole_area  \\\n",
       "0                  0.196378               0.353455             0.345972   \n",
       "1                  0.332031               0.392179             0.483412   \n",
       "2                  0.448864               0.684890             0.502370   \n",
       "3                  0.162997               0.366363             0.677725   \n",
       "4                  0.170810               0.687168             0.383886   \n",
       "\n",
       "   rh_temporalpole_area  rh_transversetemporal_area  rh_insula_area  \\\n",
       "0              0.540000                    0.214286        0.609031   \n",
       "1              0.434286                    0.390977        0.115865   \n",
       "2              0.614286                    0.379699        0.371955   \n",
       "3              0.220000                    0.413534        0.316696   \n",
       "4              0.511429                    0.413534        0.338681   \n",
       "\n",
       "   rh_WhiteSurfArea_area  BrainSegVolNotVent.2    eTIV.1  \n",
       "0               0.454737              0.637185  0.538320  \n",
       "1               0.481611              0.535711  0.492278  \n",
       "2               0.650425              0.701688  0.575332  \n",
       "3               0.376935              0.485491  0.346626  \n",
       "4               0.319889              0.387869  0.279478  \n",
       "\n",
       "[5 rows x 140 columns]"
      ]
     },
     "execution_count": 9,
     "metadata": {},
     "output_type": "execute_result"
    }
   ],
   "source": [
    "x_new.head()"
   ]
  },
  {
   "cell_type": "markdown",
   "metadata": {},
   "source": [
    "### ***Split data into `train` and `test`***"
   ]
  },
  {
   "cell_type": "code",
   "execution_count": 10,
   "metadata": {},
   "outputs": [],
   "source": [
    "x_train, x_test, y_train, y_test = train_test_split(x_new, y, test_size = 0.2, random_state = 0)"
   ]
  },
  {
   "cell_type": "markdown",
   "metadata": {},
   "source": [
    "### ***Feature Importance***\n",
    "- Feature importance gives you a score for each feature of your data, the higher the score more  important or relevant is the feature towards your output variable.\n",
    "- we can use it for regression as well as classification\n",
    "- for regression problem `ExtraTreesRegressor`\n",
    "- for classification problem `ExtraTreesClassifier`"
   ]
  },
  {
   "cell_type": "code",
   "execution_count": 11,
   "metadata": {},
   "outputs": [],
   "source": [
    "from sklearn.ensemble import ExtraTreesClassifier\n",
    "import matplotlib.pyplot as plt\n",
    "import seaborn as sns"
   ]
  },
  {
   "cell_type": "code",
   "execution_count": 12,
   "metadata": {},
   "outputs": [
    {
     "data": {
      "text/plain": [
       "ExtraTreesClassifier()"
      ]
     },
     "execution_count": 12,
     "metadata": {},
     "output_type": "execute_result"
    }
   ],
   "source": [
    "etc = ExtraTreesClassifier()\n",
    "etc.fit(x_new, y)"
   ]
  },
  {
   "cell_type": "code",
   "execution_count": 13,
   "metadata": {},
   "outputs": [],
   "source": [
    "importance = etc.feature_importances_\n",
    "columns = x_new.columns"
   ]
  },
  {
   "cell_type": "code",
   "execution_count": 14,
   "metadata": {},
   "outputs": [],
   "source": [
    "df_impot = pd.DataFrame({'Columns' : columns, 'Importance' : importance})\n",
    "df_imp_60 = df_impot.sort_values(by = 'Importance', ascending = False).head(60)"
   ]
  },
  {
   "cell_type": "code",
   "execution_count": 15,
   "metadata": {},
   "outputs": [
    {
     "data": {
      "text/html": [
       "<div>\n",
       "<style scoped>\n",
       "    .dataframe tbody tr th:only-of-type {\n",
       "        vertical-align: middle;\n",
       "    }\n",
       "\n",
       "    .dataframe tbody tr th {\n",
       "        vertical-align: top;\n",
       "    }\n",
       "\n",
       "    .dataframe thead th {\n",
       "        text-align: right;\n",
       "    }\n",
       "</style>\n",
       "<table border=\"1\" class=\"dataframe\">\n",
       "  <thead>\n",
       "    <tr style=\"text-align: right;\">\n",
       "      <th></th>\n",
       "      <th>Columns</th>\n",
       "      <th>Importance</th>\n",
       "    </tr>\n",
       "  </thead>\n",
       "  <tbody>\n",
       "    <tr>\n",
       "      <th>11</th>\n",
       "      <td>Left-Hippocampus</td>\n",
       "      <td>0.054968</td>\n",
       "    </tr>\n",
       "    <tr>\n",
       "      <th>27</th>\n",
       "      <td>Right-Amygdala</td>\n",
       "      <td>0.042246</td>\n",
       "    </tr>\n",
       "    <tr>\n",
       "      <th>26</th>\n",
       "      <td>Right-Hippocampus</td>\n",
       "      <td>0.041677</td>\n",
       "    </tr>\n",
       "    <tr>\n",
       "      <th>12</th>\n",
       "      <td>Left-Amygdala</td>\n",
       "      <td>0.034405</td>\n",
       "    </tr>\n",
       "    <tr>\n",
       "      <th>19</th>\n",
       "      <td>Right-Inf-Lat-Vent</td>\n",
       "      <td>0.020640</td>\n",
       "    </tr>\n",
       "  </tbody>\n",
       "</table>\n",
       "</div>"
      ],
      "text/plain": [
       "               Columns  Importance\n",
       "11    Left-Hippocampus    0.054968\n",
       "27      Right-Amygdala    0.042246\n",
       "26   Right-Hippocampus    0.041677\n",
       "12       Left-Amygdala    0.034405\n",
       "19  Right-Inf-Lat-Vent    0.020640"
      ]
     },
     "execution_count": 15,
     "metadata": {},
     "output_type": "execute_result"
    }
   ],
   "source": [
    "df_imp_60.head()"
   ]
  },
  {
   "cell_type": "code",
   "execution_count": 16,
   "metadata": {},
   "outputs": [
    {
     "data": {
      "image/png": "[encoded data removed]",
      "text/plain": [
       "<Figure size 1440x1440 with 1 Axes>"
      ]
     },
     "metadata": {
      "needs_background": "light"
     },
     "output_type": "display_data"
    }
   ],
   "source": [
    "# plot graph\n",
    "plt.figure(figsize = (20,20))\n",
    "sns.barplot(x = df_imp_60.Columns, y = df_imp_60.Importance)\n",
    "plt.xticks(rotation = 90)\n",
    "plt.show()"
   ]
  },
  {
   "cell_type": "markdown",
   "metadata": {},
   "source": [
    "### ***Classification Models***"
   ]
  },
  {
   "cell_type": "markdown",
   "metadata": {},
   "source": [
    "### 1. Random Forest"
   ]
  },
  {
   "cell_type": "code",
   "execution_count": 17,
   "metadata": {},
   "outputs": [
    {
     "data": {
      "text/plain": [
       "0.75"
      ]
     },
     "execution_count": 17,
     "metadata": {},
     "output_type": "execute_result"
    }
   ],
   "source": [
    "from sklearn.ensemble import RandomForestClassifier\n",
    "\n",
    "rfc = RandomForestClassifier(n_estimators = 120)\n",
    "rfc.fit(x_train, y_train)\n",
    "y_pred = rfc.predict(x_test)\n",
    "accuracy_score(y_test, y_pred)"
   ]
  },
  {
   "cell_type": "markdown",
   "metadata": {},
   "source": [
    "- **`K-Fold CV`**"
   ]
  },
  {
   "cell_type": "code",
   "execution_count": 18,
   "metadata": {},
   "outputs": [
    {
     "name": "stdout",
     "output_type": "stream",
     "text": [
      "Final Mean Accuracy:  0.8059631959003027\n",
      "Standard Deviation: 0.0503608158446977\n"
     ]
    }
   ],
   "source": [
    "score1 = cross_val_score(rfc, x_new, y, cv = 3)\n",
    "print(\"Final Mean Accuracy: \", score1.mean())\n",
    "print('Standard Deviation:', score1.std())"
   ]
  },
  {
   "cell_type": "markdown",
   "metadata": {},
   "source": [
    "### 2. Logistic Regression"
   ]
  },
  {
   "cell_type": "code",
   "execution_count": 19,
   "metadata": {},
   "outputs": [
    {
     "data": {
      "text/plain": [
       "0.8125"
      ]
     },
     "execution_count": 19,
     "metadata": {},
     "output_type": "execute_result"
    }
   ],
   "source": [
    "from sklearn.linear_model import LogisticRegression\n",
    "\n",
    "logit = LogisticRegression()\n",
    "logit.fit(x_train, y_train)\n",
    "y_logit_pred = logit.predict(x_test)\n",
    "accuracy_score(y_test, y_logit_pred)"
   ]
  },
  {
   "cell_type": "markdown",
   "metadata": {},
   "source": [
    "- **`K-Fold CV`**"
   ]
  },
  {
   "cell_type": "code",
   "execution_count": 20,
   "metadata": {},
   "outputs": [
    {
     "name": "stdout",
     "output_type": "stream",
     "text": [
      "Final Mean Accuracy:  0.8439319822967621\n",
      "Standard Deviation: 0.021982670836066236\n"
     ]
    }
   ],
   "source": [
    "score2 = cross_val_score(logit, x_new, y, cv = 3)\n",
    "print(\"Final Mean Accuracy: \", score2.mean())\n",
    "print('Standard Deviation:', score2.std())"
   ]
  },
  {
   "cell_type": "markdown",
   "metadata": {},
   "source": [
    "### 3. Gradient Boosting"
   ]
  },
  {
   "cell_type": "code",
   "execution_count": 21,
   "metadata": {},
   "outputs": [
    {
     "data": {
      "text/plain": [
       "0.78125"
      ]
     },
     "execution_count": 21,
     "metadata": {},
     "output_type": "execute_result"
    }
   ],
   "source": [
    "from sklearn.ensemble import GradientBoostingClassifier\n",
    "\n",
    "gb = GradientBoostingClassifier()\n",
    "gb.fit(x_train, y_train)\n",
    "y_gb_pred = gb.predict(x_test)\n",
    "accuracy_score(y_test, y_gb_pred)"
   ]
  },
  {
   "cell_type": "markdown",
   "metadata": {},
   "source": [
    "- **`K-Fold CV`**"
   ]
  },
  {
   "cell_type": "code",
   "execution_count": 22,
   "metadata": {},
   "outputs": [
    {
     "name": "stdout",
     "output_type": "stream",
     "text": [
      "Final Mean Accuracy:  0.749475890985325\n",
      "Standard Deviation: 0.08014584844283139\n"
     ]
    }
   ],
   "source": [
    "score3 = cross_val_score(gb, x_new, y, cv = 3)\n",
    "print(\"Final Mean Accuracy: \", score3.mean())\n",
    "print('Standard Deviation:', score3.std())"
   ]
  },
  {
   "cell_type": "markdown",
   "metadata": {},
   "source": [
    "### 4. xgboost "
   ]
  },
  {
   "cell_type": "code",
   "execution_count": 23,
   "metadata": {},
   "outputs": [
    {
     "data": {
      "text/plain": [
       "0.75"
      ]
     },
     "execution_count": 23,
     "metadata": {},
     "output_type": "execute_result"
    }
   ],
   "source": [
    "import xgboost as xgb\n",
    "xgb = xgb.XGBRFClassifier()\n",
    "xgb.fit(x_train, y_train)\n",
    "y_xgb_pred = xgb.predict(x_test)\n",
    "accuracy_score(y_test, y_xgb_pred)"
   ]
  },
  {
   "cell_type": "markdown",
   "metadata": {},
   "source": [
    "- **`K-Fold CV`**"
   ]
  },
  {
   "cell_type": "code",
   "execution_count": 24,
   "metadata": {},
   "outputs": [
    {
     "name": "stdout",
     "output_type": "stream",
     "text": [
      "Final Mean Accuracy:  0.7872117400419287\n",
      "Standard Deviation: 0.03351020411560959\n"
     ]
    }
   ],
   "source": [
    "score4 = cross_val_score(xgb, x_new, y, cv = 3)\n",
    "print(\"Final Mean Accuracy: \", score4.mean())\n",
    "print('Standard Deviation:', score4.std())"
   ]
  },
  {
   "cell_type": "markdown",
   "metadata": {},
   "source": [
    "### 5. xgboost with parameters"
   ]
  },
  {
   "cell_type": "code",
   "execution_count": 25,
   "metadata": {},
   "outputs": [],
   "source": [
    "## Hyperparameter optimization using RandomizedSearchCV\n",
    "from sklearn.model_selection import RandomizedSearchCV, GridSearchCV\n",
    "import xgboost"
   ]
  },
  {
   "cell_type": "code",
   "execution_count": 26,
   "metadata": {},
   "outputs": [],
   "source": [
    "classifier = xgboost.XGBClassifier()"
   ]
  },
  {
   "cell_type": "code",
   "execution_count": 27,
   "metadata": {},
   "outputs": [],
   "source": [
    "params={\n",
    " \"learning_rate\"    : [0.05, 0.10, 0.15, 0.20, 0.25, 0.30 ] ,\n",
    " \"max_depth\"        : [ 3, 4, 5, 6, 8, 10, 12, 15],\n",
    " \"min_child_weight\" : [ 1, 3, 5, 7 ],\n",
    " \"gamma\"            : [ 0.0, 0.1, 0.2 , 0.3, 0.4 ],\n",
    " \"colsample_bytree\" : [ 0.3, 0.4, 0.5 , 0.7 ]\n",
    "    \n",
    "}"
   ]
  },
  {
   "cell_type": "code",
   "execution_count": 28,
   "metadata": {},
   "outputs": [],
   "source": [
    "rs_cv = RandomizedSearchCV(classifier, param_distributions = params, n_iter = 5, cv = 3, verbose = 3)"
   ]
  },
  {
   "cell_type": "code",
   "execution_count": 29,
   "metadata": {},
   "outputs": [
    {
     "name": "stdout",
     "output_type": "stream",
     "text": [
      "Fitting 3 folds for each of 5 candidates, totalling 15 fits\n",
      "[CV] min_child_weight=7, max_depth=6, learning_rate=0.15, gamma=0.1, colsample_bytree=0.5 \n",
      "[CV]  min_child_weight=7, max_depth=6, learning_rate=0.15, gamma=0.1, colsample_bytree=0.5, score=0.778, total=   0.1s\n",
      "[CV] min_child_weight=7, max_depth=6, learning_rate=0.15, gamma=0.1, colsample_bytree=0.5 \n",
      "[CV]  min_child_weight=7, max_depth=6, learning_rate=0.15, gamma=0.1, colsample_bytree=0.5, score=0.774, total=   0.1s\n",
      "[CV] min_child_weight=7, max_depth=6, learning_rate=0.15, gamma=0.1, colsample_bytree=0.5 \n"
     ]
    },
    {
     "name": "stderr",
     "output_type": "stream",
     "text": [
      "[Parallel(n_jobs=1)]: Using backend SequentialBackend with 1 concurrent workers.\n",
      "[Parallel(n_jobs=1)]: Done   1 out of   1 | elapsed:    0.0s remaining:    0.0s\n",
      "[Parallel(n_jobs=1)]: Done   2 out of   2 | elapsed:    0.0s remaining:    0.0s\n"
     ]
    },
    {
     "name": "stdout",
     "output_type": "stream",
     "text": [
      "[CV]  min_child_weight=7, max_depth=6, learning_rate=0.15, gamma=0.1, colsample_bytree=0.5, score=0.755, total=   0.1s\n",
      "[CV] min_child_weight=7, max_depth=15, learning_rate=0.1, gamma=0.2, colsample_bytree=0.3 \n",
      "[CV]  min_child_weight=7, max_depth=15, learning_rate=0.1, gamma=0.2, colsample_bytree=0.3, score=0.815, total=   0.1s\n",
      "[CV] min_child_weight=7, max_depth=15, learning_rate=0.1, gamma=0.2, colsample_bytree=0.3 \n",
      "[CV]  min_child_weight=7, max_depth=15, learning_rate=0.1, gamma=0.2, colsample_bytree=0.3, score=0.755, total=   0.1s\n",
      "[CV] min_child_weight=7, max_depth=15, learning_rate=0.1, gamma=0.2, colsample_bytree=0.3 \n",
      "[CV]  min_child_weight=7, max_depth=15, learning_rate=0.1, gamma=0.2, colsample_bytree=0.3, score=0.774, total=   0.1s\n",
      "[CV] min_child_weight=7, max_depth=4, learning_rate=0.05, gamma=0.4, colsample_bytree=0.4 \n",
      "[CV]  min_child_weight=7, max_depth=4, learning_rate=0.05, gamma=0.4, colsample_bytree=0.4, score=0.833, total=   0.1s\n",
      "[CV] min_child_weight=7, max_depth=4, learning_rate=0.05, gamma=0.4, colsample_bytree=0.4 \n",
      "[CV]  min_child_weight=7, max_depth=4, learning_rate=0.05, gamma=0.4, colsample_bytree=0.4, score=0.774, total=   0.1s\n",
      "[CV] min_child_weight=7, max_depth=4, learning_rate=0.05, gamma=0.4, colsample_bytree=0.4 \n",
      "[CV]  min_child_weight=7, max_depth=4, learning_rate=0.05, gamma=0.4, colsample_bytree=0.4, score=0.792, total=   0.1s\n",
      "[CV] min_child_weight=3, max_depth=4, learning_rate=0.05, gamma=0.2, colsample_bytree=0.4 \n",
      "[CV]  min_child_weight=3, max_depth=4, learning_rate=0.05, gamma=0.2, colsample_bytree=0.4, score=0.852, total=   0.1s\n",
      "[CV] min_child_weight=3, max_depth=4, learning_rate=0.05, gamma=0.2, colsample_bytree=0.4 \n",
      "[CV]  min_child_weight=3, max_depth=4, learning_rate=0.05, gamma=0.2, colsample_bytree=0.4, score=0.755, total=   0.1s\n",
      "[CV] min_child_weight=3, max_depth=4, learning_rate=0.05, gamma=0.2, colsample_bytree=0.4 \n",
      "[CV]  min_child_weight=3, max_depth=4, learning_rate=0.05, gamma=0.2, colsample_bytree=0.4, score=0.792, total=   0.1s\n",
      "[CV] min_child_weight=1, max_depth=8, learning_rate=0.15, gamma=0.3, colsample_bytree=0.4 \n",
      "[CV]  min_child_weight=1, max_depth=8, learning_rate=0.15, gamma=0.3, colsample_bytree=0.4, score=0.852, total=   0.1s\n",
      "[CV] min_child_weight=1, max_depth=8, learning_rate=0.15, gamma=0.3, colsample_bytree=0.4 \n",
      "[CV]  min_child_weight=1, max_depth=8, learning_rate=0.15, gamma=0.3, colsample_bytree=0.4, score=0.755, total=   0.1s\n",
      "[CV] min_child_weight=1, max_depth=8, learning_rate=0.15, gamma=0.3, colsample_bytree=0.4 \n",
      "[CV]  min_child_weight=1, max_depth=8, learning_rate=0.15, gamma=0.3, colsample_bytree=0.4, score=0.792, total=   0.1s\n"
     ]
    },
    {
     "name": "stderr",
     "output_type": "stream",
     "text": [
      "[Parallel(n_jobs=1)]: Done  15 out of  15 | elapsed:    1.0s finished\n"
     ]
    },
    {
     "data": {
      "text/plain": [
       "RandomizedSearchCV(cv=3,\n",
       "                   estimator=XGBClassifier(base_score=None, booster=None,\n",
       "                                           colsample_bylevel=None,\n",
       "                                           colsample_bynode=None,\n",
       "                                           colsample_bytree=None, gamma=None,\n",
       "                                           gpu_id=None, importance_type='gain',\n",
       "                                           interaction_constraints=None,\n",
       "                                           learning_rate=None,\n",
       "                                           max_delta_step=None, max_depth=None,\n",
       "                                           min_child_weight=None, missing=nan,\n",
       "                                           monotone_constraints=None,\n",
       "                                           n_estimators=100,...\n",
       "                                           random_state=None, reg_alpha=None,\n",
       "                                           reg_lambda=None,\n",
       "                                           scale_pos_weight=None,\n",
       "                                           subsample=None, tree_method=None,\n",
       "                                           validate_parameters=None,\n",
       "                                           verbosity=None),\n",
       "                   n_iter=5,\n",
       "                   param_distributions={'colsample_bytree': [0.3, 0.4, 0.5,\n",
       "                                                             0.7],\n",
       "                                        'gamma': [0.0, 0.1, 0.2, 0.3, 0.4],\n",
       "                                        'learning_rate': [0.05, 0.1, 0.15, 0.2,\n",
       "                                                          0.25, 0.3],\n",
       "                                        'max_depth': [3, 4, 5, 6, 8, 10, 12,\n",
       "                                                      15],\n",
       "                                        'min_child_weight': [1, 3, 5, 7]},\n",
       "                   verbose=3)"
      ]
     },
     "execution_count": 29,
     "metadata": {},
     "output_type": "execute_result"
    }
   ],
   "source": [
    "rs_cv.fit(x_new, y)"
   ]
  },
  {
   "cell_type": "markdown",
   "metadata": {},
   "source": [
    "- Best estimator parameters"
   ]
  },
  {
   "cell_type": "code",
   "execution_count": 30,
   "metadata": {},
   "outputs": [
    {
     "data": {
      "text/plain": [
       "XGBClassifier(base_score=0.5, booster='gbtree', colsample_bylevel=1,\n",
       "              colsample_bynode=1, colsample_bytree=0.4, gamma=0.4, gpu_id=-1,\n",
       "              importance_type='gain', interaction_constraints='',\n",
       "              learning_rate=0.05, max_delta_step=0, max_depth=4,\n",
       "              min_child_weight=7, missing=nan, monotone_constraints='()',\n",
       "              n_estimators=100, n_jobs=0, num_parallel_tree=1, random_state=0,\n",
       "              reg_alpha=0, reg_lambda=1, scale_pos_weight=1, subsample=1,\n",
       "              tree_method='exact', validate_parameters=1, verbosity=None)"
      ]
     },
     "execution_count": 30,
     "metadata": {},
     "output_type": "execute_result"
    }
   ],
   "source": [
    "rs_cv.best_estimator_"
   ]
  },
  {
   "cell_type": "code",
   "execution_count": 31,
   "metadata": {},
   "outputs": [],
   "source": [
    "classifier = xgboost.XGBClassifier(base_score=0.5, booster='gbtree', colsample_bylevel=1,\n",
    "              colsample_bynode=1, colsample_bytree=0.4, gamma=0.2, gpu_id=-1,\n",
    "              importance_type='gain', interaction_constraints='',\n",
    "              learning_rate=0.3, max_delta_step=0, max_depth=6,\n",
    "              min_child_weight=1, missing=None, monotone_constraints='()',\n",
    "              n_estimators=100, n_jobs=0, num_parallel_tree=1, random_state=0,\n",
    "              reg_alpha=0, reg_lambda=1, subsample=1,\n",
    "              tree_method='exact', validate_parameters=1, verbosity=None)"
   ]
  },
  {
   "cell_type": "markdown",
   "metadata": {},
   "source": [
    "- **`K-Fold CV`**"
   ]
  },
  {
   "cell_type": "code",
   "execution_count": 32,
   "metadata": {},
   "outputs": [
    {
     "name": "stdout",
     "output_type": "stream",
     "text": [
      "Final Mean Accuracy:  0.7808059631959003\n",
      "Standard Deviation: 0.05082413052338311\n"
     ]
    }
   ],
   "source": [
    "score5=cross_val_score(classifier, x_new, y, cv = 3)\n",
    "print(\"Final Mean Accuracy: \", score5.mean())\n",
    "print('Standard Deviation:',score5.std())"
   ]
  },
  {
   "cell_type": "markdown",
   "metadata": {},
   "source": [
    "### 6. Linear Discrimenant Analysis\n",
    "- LDA is closely related to `analysis of variance` (ANOVA) and regression analysis.\n",
    "- `Linear Discriminant Analysis` **or** `Normal Discriminant Analysis` **or** `Discriminant Function Analysis` is a dimensionality reduction technique which is commonly used for the **supervised classification problems**. \n",
    "- It is used for **modeling differences in groups** i.e. **separating two or more classes**. \n",
    "- It is used to project the features in **higher dimension space into a lower dimension space**."
   ]
  },
  {
   "cell_type": "code",
   "execution_count": 33,
   "metadata": {},
   "outputs": [
    {
     "data": {
      "text/plain": [
       "0.46875"
      ]
     },
     "execution_count": 33,
     "metadata": {},
     "output_type": "execute_result"
    }
   ],
   "source": [
    "from sklearn.discriminant_analysis import LinearDiscriminantAnalysis\n",
    "\n",
    "lda = LinearDiscriminantAnalysis()\n",
    "lda.fit(x_train, y_train)\n",
    "y_lda_pred = lda.predict(x_test)\n",
    "accuracy_score(y_test, y_lda_pred)"
   ]
  },
  {
   "cell_type": "markdown",
   "metadata": {},
   "source": [
    "- **`K-Fold CV`**"
   ]
  },
  {
   "cell_type": "code",
   "execution_count": 162,
   "metadata": {},
   "outputs": [
    {
     "name": "stdout",
     "output_type": "stream",
     "text": [
      "Final Mean Accuracy:  0.4392932489451477\n",
      "Standard Deviation: 0.04635838931552577\n"
     ]
    }
   ],
   "source": [
    "score6=cross_val_score(lda, x_new, y, cv = 3)\n",
    "print(\"Final Mean Accuracy: \", score6.mean())\n",
    "print('Standard Deviation:',score6.std())"
   ]
  },
  {
   "cell_type": "markdown",
   "metadata": {},
   "source": [
    "### 7. SVM"
   ]
  },
  {
   "cell_type": "code",
   "execution_count": 35,
   "metadata": {},
   "outputs": [
    {
     "data": {
      "text/plain": [
       "0.78125"
      ]
     },
     "execution_count": 35,
     "metadata": {},
     "output_type": "execute_result"
    }
   ],
   "source": [
    "from sklearn.svm import SVC\n",
    "\n",
    "sv = SVC()\n",
    "sv.fit(x_train, y_train)\n",
    "y_sv_pred = sv.predict(x_test)\n",
    "accuracy_score(y_test, y_sv_pred)"
   ]
  },
  {
   "cell_type": "markdown",
   "metadata": {},
   "source": [
    "- **`K-Fold CV`**"
   ]
  },
  {
   "cell_type": "code",
   "execution_count": 36,
   "metadata": {},
   "outputs": [
    {
     "name": "stdout",
     "output_type": "stream",
     "text": [
      "Final Mean Accuracy:  0.8312368972746332\n",
      "Standard Deviation: 0.030846832221304316\n"
     ]
    }
   ],
   "source": [
    "score7 = cross_val_score(sv, x_new, y, cv = 3)\n",
    "print(\"Final Mean Accuracy: \", score7.mean())\n",
    "print('Standard Deviation:',score7.std())"
   ]
  },
  {
   "cell_type": "markdown",
   "metadata": {},
   "source": [
    "### 8. Naïve Bayes"
   ]
  },
  {
   "cell_type": "code",
   "execution_count": 37,
   "metadata": {},
   "outputs": [
    {
     "data": {
      "text/plain": [
       "0.75"
      ]
     },
     "execution_count": 37,
     "metadata": {},
     "output_type": "execute_result"
    }
   ],
   "source": [
    "from sklearn.naive_bayes import MultinomialNB\n",
    "\n",
    "mnb = MultinomialNB()\n",
    "mnb.fit(x_train, y_train)\n",
    "y_mnb_pred = mnb.predict(x_test)\n",
    "accuracy_score(y_test, y_mnb_pred)"
   ]
  },
  {
   "cell_type": "markdown",
   "metadata": {},
   "source": [
    "- **`K-Fold CV`**"
   ]
  },
  {
   "cell_type": "code",
   "execution_count": 38,
   "metadata": {},
   "outputs": [
    {
     "name": "stdout",
     "output_type": "stream",
     "text": [
      "Final Mean Accuracy:  0.7873282087118566\n",
      "Standard Deviation: 0.09445487060848848\n"
     ]
    }
   ],
   "source": [
    "score8 = cross_val_score(mnb, x_new, y, cv = 3)\n",
    "print(\"Final Mean Accuracy: \", score8.mean())\n",
    "print('Standard Deviation:',score8.std())"
   ]
  },
  {
   "cell_type": "markdown",
   "metadata": {},
   "source": [
    "## **`Models Using PCA`**\n",
    "#### ***PCA (Principal Component Analysis)***\n",
    "- Large datasets are increasingly widespread in many disciplines. In order to interpret such datasets, methods are required to drastically `reduce their dimensionality in an interpretable way`, such that most of the information in the data is preserved. Many techniques have been developed for this purpose, but `principal component analysis (PCA) is one of the oldest and most widely used`. Its idea is `simple—reduce the dimensionality of a dataset`, while `preserving as much ‘variability’ (i.e. statistical information) as possible`."
   ]
  },
  {
   "cell_type": "code",
   "execution_count": 39,
   "metadata": {},
   "outputs": [],
   "source": [
    "from sklearn.decomposition import PCA\n",
    "\n",
    "pca = PCA(n_components = 10)\n",
    "pca.fit(x_new)\n",
    "pca_data = pca.transform(x_new)"
   ]
  },
  {
   "cell_type": "code",
   "execution_count": 40,
   "metadata": {},
   "outputs": [
    {
     "data": {
      "text/plain": [
       "(160, 10)"
      ]
     },
     "execution_count": 40,
     "metadata": {},
     "output_type": "execute_result"
    }
   ],
   "source": [
    "pca_data.shape\n",
    "\n",
    "# data set get reduce"
   ]
  },
  {
   "cell_type": "markdown",
   "metadata": {},
   "source": [
    "##### ***Split new data into train and test***\n",
    "- Independent (pca_data (x)) \n",
    "- Dependent data (y) "
   ]
  },
  {
   "cell_type": "code",
   "execution_count": 41,
   "metadata": {},
   "outputs": [],
   "source": [
    "x2_train, x2_test, y2_train, y2_test = train_test_split(pca_data, y, test_size = 0.2, random_state = 0)"
   ]
  },
  {
   "cell_type": "markdown",
   "metadata": {},
   "source": [
    "### ***Classification Models using pca data***\n",
    "### ***`K-Fold CV`***"
   ]
  },
  {
   "cell_type": "markdown",
   "metadata": {},
   "source": [
    "### 1. Random Forest"
   ]
  },
  {
   "cell_type": "code",
   "execution_count": 42,
   "metadata": {},
   "outputs": [
    {
     "name": "stdout",
     "output_type": "stream",
     "text": [
      "Final Mean Accuracy:  0.79979035639413\n",
      "Standard Deviation: 0.033114400417046774\n"
     ]
    }
   ],
   "source": [
    "rfc = RandomForestClassifier(n_estimators = 120)\n",
    "\n",
    "score = cross_val_score(rfc, pca_data, y, cv = 3)\n",
    "print(\"Final Mean Accuracy: \", score.mean())\n",
    "print('Standard Deviation:', score.std())"
   ]
  },
  {
   "cell_type": "markdown",
   "metadata": {},
   "source": [
    "### 2. Logistic Regression"
   ]
  },
  {
   "cell_type": "code",
   "execution_count": 43,
   "metadata": {},
   "outputs": [
    {
     "name": "stdout",
     "output_type": "stream",
     "text": [
      "Final Mean Accuracy:  0.8375262054507339\n",
      "Standard Deviation: 0.02329781003238246\n"
     ]
    }
   ],
   "source": [
    "logit = LogisticRegression()\n",
    "\n",
    "score = cross_val_score(logit, pca_data, y, cv = 3)\n",
    "print(\"Final Mean Accuracy: \", score.mean())\n",
    "print('Standard Deviation:', score.std())"
   ]
  },
  {
   "cell_type": "markdown",
   "metadata": {},
   "source": [
    "### 3. Gradient Boosting"
   ]
  },
  {
   "cell_type": "code",
   "execution_count": 44,
   "metadata": {},
   "outputs": [
    {
     "name": "stdout",
     "output_type": "stream",
     "text": [
      "Final Mean Accuracy:  0.7750989983694386\n",
      "Standard Deviation: 0.013593445609565744\n"
     ]
    }
   ],
   "source": [
    "gb = GradientBoostingClassifier()\n",
    "\n",
    "score = cross_val_score(gb, pca_data, y, cv = 3)\n",
    "print(\"Final Mean Accuracy: \", score.mean())\n",
    "print('Standard Deviation:', score.std())"
   ]
  },
  {
   "cell_type": "markdown",
   "metadata": {},
   "source": [
    "### 4. xgboost "
   ]
  },
  {
   "cell_type": "code",
   "execution_count": 45,
   "metadata": {},
   "outputs": [
    {
     "name": "stdout",
     "output_type": "stream",
     "text": [
      "Final Mean Accuracy:  0.755998136501281\n",
      "Standard Deviation: 0.05429514064321471\n"
     ]
    }
   ],
   "source": [
    "import xgboost as xgb\n",
    "xgb = xgb.XGBRFClassifier()\n",
    "\n",
    "score = cross_val_score(xgb, pca_data, y, cv = 3)\n",
    "print(\"Final Mean Accuracy: \", score.mean())\n",
    "print('Standard Deviation:', score.std())"
   ]
  },
  {
   "cell_type": "markdown",
   "metadata": {},
   "source": [
    "### 5. xgboost with patameters"
   ]
  },
  {
   "cell_type": "code",
   "execution_count": 46,
   "metadata": {},
   "outputs": [
    {
     "name": "stdout",
     "output_type": "stream",
     "text": [
      "Final Mean Accuracy:  0.7558816678313534\n",
      "Standard Deviation: 0.04237795420602657\n"
     ]
    }
   ],
   "source": [
    "score = cross_val_score(classifier, pca_data, y, cv = 3)\n",
    "print(\"Final Mean Accuracy: \", score.mean())\n",
    "print('Standard Deviation:', score.std())"
   ]
  },
  {
   "cell_type": "markdown",
   "metadata": {},
   "source": [
    "### 6. Linear Discrimenant Analysis"
   ]
  },
  {
   "cell_type": "code",
   "execution_count": 47,
   "metadata": {},
   "outputs": [
    {
     "name": "stdout",
     "output_type": "stream",
     "text": [
      "Final Mean Accuracy:  0.8438155136268345\n",
      "Standard Deviation: 0.007412020767154585\n"
     ]
    }
   ],
   "source": [
    "lda = LinearDiscriminantAnalysis()\n",
    "\n",
    "score = cross_val_score(lda, pca_data, y, cv = 3)\n",
    "print(\"Final Mean Accuracy: \", score.mean())\n",
    "print('Standard Deviation:', score.std())"
   ]
  },
  {
   "cell_type": "markdown",
   "metadata": {},
   "source": [
    "### 7. SVM"
   ]
  },
  {
   "cell_type": "code",
   "execution_count": 48,
   "metadata": {},
   "outputs": [
    {
     "name": "stdout",
     "output_type": "stream",
     "text": [
      "Final Mean Accuracy:  0.79979035639413\n",
      "Standard Deviation: 0.045231549288032365\n"
     ]
    }
   ],
   "source": [
    "from sklearn.svm import SVC\n",
    "\n",
    "sv = SVC()\n",
    "score = cross_val_score(sv, pca_data, y, cv = 3)\n",
    "print(\"Final Mean Accuracy: \", score.mean())\n",
    "print('Standard Deviation:',score.std())"
   ]
  },
  {
   "cell_type": "markdown",
   "metadata": {},
   "source": [
    "### ***Algorithm that gives `Max` Accuracy:-*** \n",
    "- **Without PCA:-** Logistic Regression\n",
    "                        - Mean Accuracy:  84.39 %\n",
    "                        - Standard Deviation: 0.0219826\n",
    "    \n",
    "- **With PCA:-** Linear Discrimenant Analysis\n",
    "                        - Mean Accuracy:  84.38 %\n",
    "                        - Standard Deviation: 0.0074120\n",
    "  "
   ]
  },
  {
   "cell_type": "markdown",
   "metadata": {},
   "source": [
    "# **----------------------------------------------------------------------------------**"
   ]
  },
  {
   "cell_type": "markdown",
   "metadata": {},
   "source": [
    "# **`B. CN and MCI Classification`**\n",
    "- Two Way"
   ]
  },
  {
   "cell_type": "markdown",
   "metadata": {},
   "source": [
    "### ***Load dataset***"
   ]
  },
  {
   "cell_type": "code",
   "execution_count": 49,
   "metadata": {},
   "outputs": [
    {
     "data": {
      "text/html": [
       "<div>\n",
       "<style scoped>\n",
       "    .dataframe tbody tr th:only-of-type {\n",
       "        vertical-align: middle;\n",
       "    }\n",
       "\n",
       "    .dataframe tbody tr th {\n",
       "        vertical-align: top;\n",
       "    }\n",
       "\n",
       "    .dataframe thead th {\n",
       "        text-align: right;\n",
       "    }\n",
       "</style>\n",
       "<table border=\"1\" class=\"dataframe\">\n",
       "  <thead>\n",
       "    <tr style=\"text-align: right;\">\n",
       "      <th></th>\n",
       "      <th>Measure:volume</th>\n",
       "      <th>Left-Lateral-Ventricle</th>\n",
       "      <th>Left-Inf-Lat-Vent</th>\n",
       "      <th>Left-Cerebellum-White-Matter</th>\n",
       "      <th>Left-Cerebellum-Cortex</th>\n",
       "      <th>Left-Thalamus-Proper</th>\n",
       "      <th>Left-Caudate</th>\n",
       "      <th>Left-Putamen</th>\n",
       "      <th>Left-Pallidum</th>\n",
       "      <th>3rd-Ventricle</th>\n",
       "      <th>...</th>\n",
       "      <th>rh_superiortemporal_area</th>\n",
       "      <th>rh_supramarginal_area</th>\n",
       "      <th>rh_frontalpole_area</th>\n",
       "      <th>rh_temporalpole_area</th>\n",
       "      <th>rh_transversetemporal_area</th>\n",
       "      <th>rh_insula_area</th>\n",
       "      <th>rh_WhiteSurfArea_area</th>\n",
       "      <th>BrainSegVolNotVent.2</th>\n",
       "      <th>eTIV.1</th>\n",
       "      <th>category</th>\n",
       "    </tr>\n",
       "  </thead>\n",
       "  <tbody>\n",
       "    <tr>\n",
       "      <th>0</th>\n",
       "      <td>002_S_0295</td>\n",
       "      <td>23090.0</td>\n",
       "      <td>1020.1</td>\n",
       "      <td>13583.2</td>\n",
       "      <td>57689.5</td>\n",
       "      <td>6969.1</td>\n",
       "      <td>3218.3</td>\n",
       "      <td>4556.4</td>\n",
       "      <td>2030.0</td>\n",
       "      <td>2086.8</td>\n",
       "      <td>...</td>\n",
       "      <td>3180</td>\n",
       "      <td>3186</td>\n",
       "      <td>267</td>\n",
       "      <td>461</td>\n",
       "      <td>266</td>\n",
       "      <td>2741</td>\n",
       "      <td>79747.8</td>\n",
       "      <td>1091729</td>\n",
       "      <td>1.627656e+06</td>\n",
       "      <td>0</td>\n",
       "    </tr>\n",
       "    <tr>\n",
       "      <th>1</th>\n",
       "      <td>002_S_0413</td>\n",
       "      <td>14953.7</td>\n",
       "      <td>841.5</td>\n",
       "      <td>11062.3</td>\n",
       "      <td>46273.3</td>\n",
       "      <td>6061.1</td>\n",
       "      <td>3376.1</td>\n",
       "      <td>3502.1</td>\n",
       "      <td>1390.6</td>\n",
       "      <td>2545.5</td>\n",
       "      <td>...</td>\n",
       "      <td>3562</td>\n",
       "      <td>3288</td>\n",
       "      <td>296</td>\n",
       "      <td>424</td>\n",
       "      <td>313</td>\n",
       "      <td>1911</td>\n",
       "      <td>80805.6</td>\n",
       "      <td>1035836</td>\n",
       "      <td>1.586448e+06</td>\n",
       "      <td>0</td>\n",
       "    </tr>\n",
       "    <tr>\n",
       "      <th>2</th>\n",
       "      <td>002_S_0559</td>\n",
       "      <td>16334.9</td>\n",
       "      <td>1261.3</td>\n",
       "      <td>12688.1</td>\n",
       "      <td>52498.2</td>\n",
       "      <td>6931.2</td>\n",
       "      <td>3402.5</td>\n",
       "      <td>4248.9</td>\n",
       "      <td>1774.8</td>\n",
       "      <td>2673.0</td>\n",
       "      <td>...</td>\n",
       "      <td>3891</td>\n",
       "      <td>4059</td>\n",
       "      <td>300</td>\n",
       "      <td>487</td>\n",
       "      <td>310</td>\n",
       "      <td>2342</td>\n",
       "      <td>87450.3</td>\n",
       "      <td>1127258</td>\n",
       "      <td>1.660782e+06</td>\n",
       "      <td>0</td>\n",
       "    </tr>\n",
       "    <tr>\n",
       "      <th>3</th>\n",
       "      <td>002_S_1261</td>\n",
       "      <td>14344.1</td>\n",
       "      <td>867.0</td>\n",
       "      <td>11743.8</td>\n",
       "      <td>52665.4</td>\n",
       "      <td>6080.0</td>\n",
       "      <td>3152.7</td>\n",
       "      <td>3615.4</td>\n",
       "      <td>1713.3</td>\n",
       "      <td>1177.5</td>\n",
       "      <td>...</td>\n",
       "      <td>3086</td>\n",
       "      <td>3220</td>\n",
       "      <td>337</td>\n",
       "      <td>349</td>\n",
       "      <td>319</td>\n",
       "      <td>2249</td>\n",
       "      <td>76685.4</td>\n",
       "      <td>1008174</td>\n",
       "      <td>1.456087e+06</td>\n",
       "      <td>0</td>\n",
       "    </tr>\n",
       "    <tr>\n",
       "      <th>4</th>\n",
       "      <td>002_S_1280</td>\n",
       "      <td>11270.4</td>\n",
       "      <td>405.6</td>\n",
       "      <td>13772.4</td>\n",
       "      <td>44625.8</td>\n",
       "      <td>5537.0</td>\n",
       "      <td>3454.3</td>\n",
       "      <td>4499.0</td>\n",
       "      <td>1735.1</td>\n",
       "      <td>1182.5</td>\n",
       "      <td>...</td>\n",
       "      <td>3108</td>\n",
       "      <td>4065</td>\n",
       "      <td>275</td>\n",
       "      <td>451</td>\n",
       "      <td>319</td>\n",
       "      <td>2286</td>\n",
       "      <td>74440.0</td>\n",
       "      <td>954403</td>\n",
       "      <td>1.395987e+06</td>\n",
       "      <td>0</td>\n",
       "    </tr>\n",
       "  </tbody>\n",
       "</table>\n",
       "<p>5 rows × 142 columns</p>\n",
       "</div>"
      ],
      "text/plain": [
       "  Measure:volume  Left-Lateral-Ventricle  Left-Inf-Lat-Vent  \\\n",
       "0     002_S_0295                 23090.0             1020.1   \n",
       "1     002_S_0413                 14953.7              841.5   \n",
       "2     002_S_0559                 16334.9             1261.3   \n",
       "3     002_S_1261                 14344.1              867.0   \n",
       "4     002_S_1280                 11270.4              405.6   \n",
       "\n",
       "   Left-Cerebellum-White-Matter  Left-Cerebellum-Cortex  Left-Thalamus-Proper  \\\n",
       "0                       13583.2                 57689.5                6969.1   \n",
       "1                       11062.3                 46273.3                6061.1   \n",
       "2                       12688.1                 52498.2                6931.2   \n",
       "3                       11743.8                 52665.4                6080.0   \n",
       "4                       13772.4                 44625.8                5537.0   \n",
       "\n",
       "   Left-Caudate  Left-Putamen  Left-Pallidum  3rd-Ventricle  ...  \\\n",
       "0        3218.3        4556.4         2030.0         2086.8  ...   \n",
       "1        3376.1        3502.1         1390.6         2545.5  ...   \n",
       "2        3402.5        4248.9         1774.8         2673.0  ...   \n",
       "3        3152.7        3615.4         1713.3         1177.5  ...   \n",
       "4        3454.3        4499.0         1735.1         1182.5  ...   \n",
       "\n",
       "   rh_superiortemporal_area  rh_supramarginal_area  rh_frontalpole_area  \\\n",
       "0                      3180                   3186                  267   \n",
       "1                      3562                   3288                  296   \n",
       "2                      3891                   4059                  300   \n",
       "3                      3086                   3220                  337   \n",
       "4                      3108                   4065                  275   \n",
       "\n",
       "   rh_temporalpole_area  rh_transversetemporal_area  rh_insula_area  \\\n",
       "0                   461                         266            2741   \n",
       "1                   424                         313            1911   \n",
       "2                   487                         310            2342   \n",
       "3                   349                         319            2249   \n",
       "4                   451                         319            2286   \n",
       "\n",
       "   rh_WhiteSurfArea_area  BrainSegVolNotVent.2        eTIV.1  category  \n",
       "0                79747.8               1091729  1.627656e+06         0  \n",
       "1                80805.6               1035836  1.586448e+06         0  \n",
       "2                87450.3               1127258  1.660782e+06         0  \n",
       "3                76685.4               1008174  1.456087e+06         0  \n",
       "4                74440.0                954403  1.395987e+06         0  \n",
       "\n",
       "[5 rows x 142 columns]"
      ]
     },
     "execution_count": 49,
     "metadata": {},
     "output_type": "execute_result"
    }
   ],
   "source": [
    "data1 = pd.read_csv('CN_MCI.csv')\n",
    "data1.head()"
   ]
  },
  {
   "cell_type": "code",
   "execution_count": 50,
   "metadata": {},
   "outputs": [
    {
     "data": {
      "text/plain": [
       "(159, 142)"
      ]
     },
     "execution_count": 50,
     "metadata": {},
     "output_type": "execute_result"
    }
   ],
   "source": [
    "data1.shape"
   ]
  },
  {
   "cell_type": "code",
   "execution_count": 51,
   "metadata": {},
   "outputs": [
    {
     "data": {
      "text/html": [
       "<div>\n",
       "<style scoped>\n",
       "    .dataframe tbody tr th:only-of-type {\n",
       "        vertical-align: middle;\n",
       "    }\n",
       "\n",
       "    .dataframe tbody tr th {\n",
       "        vertical-align: top;\n",
       "    }\n",
       "\n",
       "    .dataframe thead th {\n",
       "        text-align: right;\n",
       "    }\n",
       "</style>\n",
       "<table border=\"1\" class=\"dataframe\">\n",
       "  <thead>\n",
       "    <tr style=\"text-align: right;\">\n",
       "      <th></th>\n",
       "      <th>Left-Lateral-Ventricle</th>\n",
       "      <th>Left-Inf-Lat-Vent</th>\n",
       "      <th>Left-Cerebellum-White-Matter</th>\n",
       "      <th>Left-Cerebellum-Cortex</th>\n",
       "      <th>Left-Thalamus-Proper</th>\n",
       "      <th>Left-Caudate</th>\n",
       "      <th>Left-Putamen</th>\n",
       "      <th>Left-Pallidum</th>\n",
       "      <th>3rd-Ventricle</th>\n",
       "      <th>4th-Ventricle</th>\n",
       "      <th>...</th>\n",
       "      <th>rh_superiortemporal_area</th>\n",
       "      <th>rh_supramarginal_area</th>\n",
       "      <th>rh_frontalpole_area</th>\n",
       "      <th>rh_temporalpole_area</th>\n",
       "      <th>rh_transversetemporal_area</th>\n",
       "      <th>rh_insula_area</th>\n",
       "      <th>rh_WhiteSurfArea_area</th>\n",
       "      <th>BrainSegVolNotVent.2</th>\n",
       "      <th>eTIV.1</th>\n",
       "      <th>category</th>\n",
       "    </tr>\n",
       "  </thead>\n",
       "  <tbody>\n",
       "    <tr>\n",
       "      <th>count</th>\n",
       "      <td>159.000000</td>\n",
       "      <td>159.000000</td>\n",
       "      <td>159.000000</td>\n",
       "      <td>159.000000</td>\n",
       "      <td>159.000000</td>\n",
       "      <td>159.000000</td>\n",
       "      <td>159.000000</td>\n",
       "      <td>159.000000</td>\n",
       "      <td>159.000000</td>\n",
       "      <td>159.000000</td>\n",
       "      <td>...</td>\n",
       "      <td>159.000000</td>\n",
       "      <td>159.000000</td>\n",
       "      <td>159.000000</td>\n",
       "      <td>159.000000</td>\n",
       "      <td>159.000000</td>\n",
       "      <td>159.000000</td>\n",
       "      <td>159.000000</td>\n",
       "      <td>1.590000e+02</td>\n",
       "      <td>1.590000e+02</td>\n",
       "      <td>159.000000</td>\n",
       "    </tr>\n",
       "    <tr>\n",
       "      <th>mean</th>\n",
       "      <td>21241.788679</td>\n",
       "      <td>1064.304403</td>\n",
       "      <td>12743.247799</td>\n",
       "      <td>50505.958491</td>\n",
       "      <td>6436.074214</td>\n",
       "      <td>3235.015094</td>\n",
       "      <td>4068.045912</td>\n",
       "      <td>1760.172327</td>\n",
       "      <td>1948.383019</td>\n",
       "      <td>2082.923270</td>\n",
       "      <td>...</td>\n",
       "      <td>3489.377358</td>\n",
       "      <td>3444.018868</td>\n",
       "      <td>301.220126</td>\n",
       "      <td>453.050314</td>\n",
       "      <td>308.748428</td>\n",
       "      <td>2337.446541</td>\n",
       "      <td>80845.172327</td>\n",
       "      <td>1.029863e+06</td>\n",
       "      <td>1.553763e+06</td>\n",
       "      <td>0.496855</td>\n",
       "    </tr>\n",
       "    <tr>\n",
       "      <th>std</th>\n",
       "      <td>11358.776812</td>\n",
       "      <td>810.309492</td>\n",
       "      <td>1906.612897</td>\n",
       "      <td>5112.242779</td>\n",
       "      <td>816.504314</td>\n",
       "      <td>548.458258</td>\n",
       "      <td>613.712827</td>\n",
       "      <td>246.605453</td>\n",
       "      <td>667.270269</td>\n",
       "      <td>679.976368</td>\n",
       "      <td>...</td>\n",
       "      <td>390.959137</td>\n",
       "      <td>461.035838</td>\n",
       "      <td>40.420205</td>\n",
       "      <td>61.569843</td>\n",
       "      <td>42.403124</td>\n",
       "      <td>323.012455</td>\n",
       "      <td>8043.229492</td>\n",
       "      <td>1.061402e+05</td>\n",
       "      <td>1.665534e+05</td>\n",
       "      <td>0.501570</td>\n",
       "    </tr>\n",
       "    <tr>\n",
       "      <th>min</th>\n",
       "      <td>4700.300000</td>\n",
       "      <td>200.300000</td>\n",
       "      <td>8493.100000</td>\n",
       "      <td>39629.500000</td>\n",
       "      <td>4277.500000</td>\n",
       "      <td>2135.500000</td>\n",
       "      <td>2144.000000</td>\n",
       "      <td>1044.600000</td>\n",
       "      <td>835.600000</td>\n",
       "      <td>1032.000000</td>\n",
       "      <td>...</td>\n",
       "      <td>2614.000000</td>\n",
       "      <td>2414.000000</td>\n",
       "      <td>185.000000</td>\n",
       "      <td>240.000000</td>\n",
       "      <td>215.000000</td>\n",
       "      <td>1595.000000</td>\n",
       "      <td>55144.400000</td>\n",
       "      <td>7.004440e+05</td>\n",
       "      <td>1.145850e+06</td>\n",
       "      <td>0.000000</td>\n",
       "    </tr>\n",
       "    <tr>\n",
       "      <th>25%</th>\n",
       "      <td>12081.050000</td>\n",
       "      <td>560.450000</td>\n",
       "      <td>11359.050000</td>\n",
       "      <td>47072.300000</td>\n",
       "      <td>5973.850000</td>\n",
       "      <td>2864.650000</td>\n",
       "      <td>3690.400000</td>\n",
       "      <td>1618.400000</td>\n",
       "      <td>1454.400000</td>\n",
       "      <td>1659.300000</td>\n",
       "      <td>...</td>\n",
       "      <td>3204.500000</td>\n",
       "      <td>3150.500000</td>\n",
       "      <td>275.000000</td>\n",
       "      <td>413.500000</td>\n",
       "      <td>281.500000</td>\n",
       "      <td>2099.000000</td>\n",
       "      <td>75369.400000</td>\n",
       "      <td>9.465105e+05</td>\n",
       "      <td>1.438478e+06</td>\n",
       "      <td>0.000000</td>\n",
       "    </tr>\n",
       "    <tr>\n",
       "      <th>50%</th>\n",
       "      <td>18240.700000</td>\n",
       "      <td>883.000000</td>\n",
       "      <td>12717.500000</td>\n",
       "      <td>49139.500000</td>\n",
       "      <td>6372.800000</td>\n",
       "      <td>3167.500000</td>\n",
       "      <td>4065.700000</td>\n",
       "      <td>1749.800000</td>\n",
       "      <td>1889.900000</td>\n",
       "      <td>1957.700000</td>\n",
       "      <td>...</td>\n",
       "      <td>3475.000000</td>\n",
       "      <td>3436.000000</td>\n",
       "      <td>299.000000</td>\n",
       "      <td>454.000000</td>\n",
       "      <td>307.000000</td>\n",
       "      <td>2307.000000</td>\n",
       "      <td>80102.600000</td>\n",
       "      <td>1.033312e+06</td>\n",
       "      <td>1.552617e+06</td>\n",
       "      <td>0.000000</td>\n",
       "    </tr>\n",
       "    <tr>\n",
       "      <th>75%</th>\n",
       "      <td>27943.500000</td>\n",
       "      <td>1178.800000</td>\n",
       "      <td>13752.700000</td>\n",
       "      <td>53456.800000</td>\n",
       "      <td>6784.600000</td>\n",
       "      <td>3504.350000</td>\n",
       "      <td>4358.000000</td>\n",
       "      <td>1889.850000</td>\n",
       "      <td>2424.050000</td>\n",
       "      <td>2367.550000</td>\n",
       "      <td>...</td>\n",
       "      <td>3733.500000</td>\n",
       "      <td>3769.500000</td>\n",
       "      <td>328.500000</td>\n",
       "      <td>493.500000</td>\n",
       "      <td>333.000000</td>\n",
       "      <td>2536.000000</td>\n",
       "      <td>87216.150000</td>\n",
       "      <td>1.108910e+06</td>\n",
       "      <td>1.666195e+06</td>\n",
       "      <td>1.000000</td>\n",
       "    </tr>\n",
       "    <tr>\n",
       "      <th>max</th>\n",
       "      <td>53943.300000</td>\n",
       "      <td>5298.900000</td>\n",
       "      <td>20895.300000</td>\n",
       "      <td>71792.000000</td>\n",
       "      <td>9660.600000</td>\n",
       "      <td>6215.100000</td>\n",
       "      <td>6083.800000</td>\n",
       "      <td>2431.900000</td>\n",
       "      <td>4223.500000</td>\n",
       "      <td>5154.400000</td>\n",
       "      <td>...</td>\n",
       "      <td>4561.000000</td>\n",
       "      <td>4582.000000</td>\n",
       "      <td>405.000000</td>\n",
       "      <td>616.000000</td>\n",
       "      <td>475.000000</td>\n",
       "      <td>3302.000000</td>\n",
       "      <td>98987.200000</td>\n",
       "      <td>1.306117e+06</td>\n",
       "      <td>1.910241e+06</td>\n",
       "      <td>1.000000</td>\n",
       "    </tr>\n",
       "  </tbody>\n",
       "</table>\n",
       "<p>8 rows × 141 columns</p>\n",
       "</div>"
      ],
      "text/plain": [
       "       Left-Lateral-Ventricle  Left-Inf-Lat-Vent  \\\n",
       "count              159.000000         159.000000   \n",
       "mean             21241.788679        1064.304403   \n",
       "std              11358.776812         810.309492   \n",
       "min               4700.300000         200.300000   \n",
       "25%              12081.050000         560.450000   \n",
       "50%              18240.700000         883.000000   \n",
       "75%              27943.500000        1178.800000   \n",
       "max              53943.300000        5298.900000   \n",
       "\n",
       "       Left-Cerebellum-White-Matter  Left-Cerebellum-Cortex  \\\n",
       "count                    159.000000              159.000000   \n",
       "mean                   12743.247799            50505.958491   \n",
       "std                     1906.612897             5112.242779   \n",
       "min                     8493.100000            39629.500000   \n",
       "25%                    11359.050000            47072.300000   \n",
       "50%                    12717.500000            49139.500000   \n",
       "75%                    13752.700000            53456.800000   \n",
       "max                    20895.300000            71792.000000   \n",
       "\n",
       "       Left-Thalamus-Proper  Left-Caudate  Left-Putamen  Left-Pallidum  \\\n",
       "count            159.000000    159.000000    159.000000     159.000000   \n",
       "mean            6436.074214   3235.015094   4068.045912    1760.172327   \n",
       "std              816.504314    548.458258    613.712827     246.605453   \n",
       "min             4277.500000   2135.500000   2144.000000    1044.600000   \n",
       "25%             5973.850000   2864.650000   3690.400000    1618.400000   \n",
       "50%             6372.800000   3167.500000   4065.700000    1749.800000   \n",
       "75%             6784.600000   3504.350000   4358.000000    1889.850000   \n",
       "max             9660.600000   6215.100000   6083.800000    2431.900000   \n",
       "\n",
       "       3rd-Ventricle  4th-Ventricle  ...  rh_superiortemporal_area  \\\n",
       "count     159.000000     159.000000  ...                159.000000   \n",
       "mean     1948.383019    2082.923270  ...               3489.377358   \n",
       "std       667.270269     679.976368  ...                390.959137   \n",
       "min       835.600000    1032.000000  ...               2614.000000   \n",
       "25%      1454.400000    1659.300000  ...               3204.500000   \n",
       "50%      1889.900000    1957.700000  ...               3475.000000   \n",
       "75%      2424.050000    2367.550000  ...               3733.500000   \n",
       "max      4223.500000    5154.400000  ...               4561.000000   \n",
       "\n",
       "       rh_supramarginal_area  rh_frontalpole_area  rh_temporalpole_area  \\\n",
       "count             159.000000           159.000000            159.000000   \n",
       "mean             3444.018868           301.220126            453.050314   \n",
       "std               461.035838            40.420205             61.569843   \n",
       "min              2414.000000           185.000000            240.000000   \n",
       "25%              3150.500000           275.000000            413.500000   \n",
       "50%              3436.000000           299.000000            454.000000   \n",
       "75%              3769.500000           328.500000            493.500000   \n",
       "max              4582.000000           405.000000            616.000000   \n",
       "\n",
       "       rh_transversetemporal_area  rh_insula_area  rh_WhiteSurfArea_area  \\\n",
       "count                  159.000000      159.000000             159.000000   \n",
       "mean                   308.748428     2337.446541           80845.172327   \n",
       "std                     42.403124      323.012455            8043.229492   \n",
       "min                    215.000000     1595.000000           55144.400000   \n",
       "25%                    281.500000     2099.000000           75369.400000   \n",
       "50%                    307.000000     2307.000000           80102.600000   \n",
       "75%                    333.000000     2536.000000           87216.150000   \n",
       "max                    475.000000     3302.000000           98987.200000   \n",
       "\n",
       "       BrainSegVolNotVent.2        eTIV.1    category  \n",
       "count          1.590000e+02  1.590000e+02  159.000000  \n",
       "mean           1.029863e+06  1.553763e+06    0.496855  \n",
       "std            1.061402e+05  1.665534e+05    0.501570  \n",
       "min            7.004440e+05  1.145850e+06    0.000000  \n",
       "25%            9.465105e+05  1.438478e+06    0.000000  \n",
       "50%            1.033312e+06  1.552617e+06    0.000000  \n",
       "75%            1.108910e+06  1.666195e+06    1.000000  \n",
       "max            1.306117e+06  1.910241e+06    1.000000  \n",
       "\n",
       "[8 rows x 141 columns]"
      ]
     },
     "execution_count": 51,
     "metadata": {},
     "output_type": "execute_result"
    }
   ],
   "source": [
    "data1.describe()"
   ]
  },
  {
   "cell_type": "code",
   "execution_count": 52,
   "metadata": {},
   "outputs": [
    {
     "data": {
      "text/plain": [
       "Measure:volume                  0\n",
       "Left-Lateral-Ventricle          0\n",
       "Left-Inf-Lat-Vent               0\n",
       "Left-Cerebellum-White-Matter    0\n",
       "Left-Cerebellum-Cortex          0\n",
       "                               ..\n",
       "rh_insula_area                  0\n",
       "rh_WhiteSurfArea_area           0\n",
       "BrainSegVolNotVent.2            0\n",
       "eTIV.1                          0\n",
       "category                        0\n",
       "Length: 142, dtype: int64"
      ]
     },
     "execution_count": 52,
     "metadata": {},
     "output_type": "execute_result"
    }
   ],
   "source": [
    "data1.isnull().sum()"
   ]
  },
  {
   "cell_type": "markdown",
   "metadata": {},
   "source": [
    "### ***Seperate Dependent `(y)` and Independent `(x)` variables***"
   ]
  },
  {
   "cell_type": "code",
   "execution_count": 53,
   "metadata": {},
   "outputs": [],
   "source": [
    "x = data1.drop(columns = ['category','Measure:volume'], axis = 1)\n",
    "y = data1['category']"
   ]
  },
  {
   "cell_type": "markdown",
   "metadata": {},
   "source": [
    "### ***Scaling data in between 0 to 1***\n",
    "- `MinMaxScaler`"
   ]
  },
  {
   "cell_type": "code",
   "execution_count": 54,
   "metadata": {},
   "outputs": [],
   "source": [
    "x_new = x.copy()\n",
    "def min_max_scale(col, x_new):\n",
    "    mms = MinMaxScaler()\n",
    "    x_new[col] = mms.fit_transform(x_new[[col]])\n",
    "    return x_new"
   ]
  },
  {
   "cell_type": "code",
   "execution_count": 55,
   "metadata": {},
   "outputs": [],
   "source": [
    "for col in list(x_new.columns):\n",
    "    x_new = min_max_scale(col, x_new)"
   ]
  },
  {
   "cell_type": "markdown",
   "metadata": {},
   "source": [
    "### ***Split data into `train` and `test`***"
   ]
  },
  {
   "cell_type": "code",
   "execution_count": 56,
   "metadata": {},
   "outputs": [],
   "source": [
    "x_train, x_test, y_train, y_test = train_test_split(x_new, y, test_size = 0.2, random_state = 0)"
   ]
  },
  {
   "cell_type": "markdown",
   "metadata": {},
   "source": [
    "### ***Classification Models***"
   ]
  },
  {
   "cell_type": "markdown",
   "metadata": {},
   "source": [
    "### 1. Random Forest"
   ]
  },
  {
   "cell_type": "code",
   "execution_count": 57,
   "metadata": {},
   "outputs": [
    {
     "data": {
      "text/plain": [
       "0.6875"
      ]
     },
     "execution_count": 57,
     "metadata": {},
     "output_type": "execute_result"
    }
   ],
   "source": [
    "from sklearn.ensemble import RandomForestClassifier\n",
    "\n",
    "rfc = RandomForestClassifier(n_estimators = 120)\n",
    "rfc.fit(x_train, y_train)\n",
    "y_pred = rfc.predict(x_test)\n",
    "accuracy_score(y_test, y_pred)"
   ]
  },
  {
   "cell_type": "markdown",
   "metadata": {},
   "source": [
    "- **`K-Fold CV`**"
   ]
  },
  {
   "cell_type": "code",
   "execution_count": 58,
   "metadata": {},
   "outputs": [
    {
     "name": "stdout",
     "output_type": "stream",
     "text": [
      "Final Mean Accuracy:  0.6415094339622641\n",
      "Standard Deviation: 0.04075937546168465\n"
     ]
    }
   ],
   "source": [
    "score1 = cross_val_score(rfc, x_new, y, cv = 3)\n",
    "print(\"Final Mean Accuracy: \", score1.mean())\n",
    "print('Standard Deviation:', score1.std())"
   ]
  },
  {
   "cell_type": "markdown",
   "metadata": {},
   "source": [
    "### 2. Logistic Regression"
   ]
  },
  {
   "cell_type": "code",
   "execution_count": 59,
   "metadata": {},
   "outputs": [
    {
     "data": {
      "text/plain": [
       "0.6875"
      ]
     },
     "execution_count": 59,
     "metadata": {},
     "output_type": "execute_result"
    }
   ],
   "source": [
    "from sklearn.linear_model import LogisticRegression\n",
    "\n",
    "logit = LogisticRegression()\n",
    "logit.fit(x_train, y_train)\n",
    "y_logit_pred = logit.predict(x_test)\n",
    "accuracy_score(y_test, y_logit_pred)"
   ]
  },
  {
   "cell_type": "markdown",
   "metadata": {},
   "source": [
    "- **`K-Fold CV`**"
   ]
  },
  {
   "cell_type": "code",
   "execution_count": 60,
   "metadata": {},
   "outputs": [
    {
     "name": "stdout",
     "output_type": "stream",
     "text": [
      "Final Mean Accuracy:  0.6289308176100629\n",
      "Standard Deviation: 0.0495220621007032\n"
     ]
    }
   ],
   "source": [
    "score2 = cross_val_score(logit, x_new, y, cv = 3)\n",
    "print(\"Final Mean Accuracy: \", score2.mean())\n",
    "print('Standard Deviation:', score2.std())"
   ]
  },
  {
   "cell_type": "markdown",
   "metadata": {},
   "source": [
    "### 3. Gradient Boosting"
   ]
  },
  {
   "cell_type": "code",
   "execution_count": 61,
   "metadata": {},
   "outputs": [
    {
     "data": {
      "text/plain": [
       "0.59375"
      ]
     },
     "execution_count": 61,
     "metadata": {},
     "output_type": "execute_result"
    }
   ],
   "source": [
    "from sklearn.ensemble import GradientBoostingClassifier\n",
    "\n",
    "gb = GradientBoostingClassifier()\n",
    "gb.fit(x_train, y_train)\n",
    "y_gb_pred = gb.predict(x_test)\n",
    "accuracy_score(y_test, y_gb_pred)"
   ]
  },
  {
   "cell_type": "markdown",
   "metadata": {},
   "source": [
    "- **`K-Fold CV`**"
   ]
  },
  {
   "cell_type": "code",
   "execution_count": 62,
   "metadata": {},
   "outputs": [
    {
     "name": "stdout",
     "output_type": "stream",
     "text": [
      "Final Mean Accuracy:  0.610062893081761\n",
      "Standard Deviation: 0.05410267463548821\n"
     ]
    }
   ],
   "source": [
    "score3 = cross_val_score(gb, x_new, y, cv = 3)\n",
    "print(\"Final Mean Accuracy: \", score3.mean())\n",
    "print('Standard Deviation:', score3.std())"
   ]
  },
  {
   "cell_type": "markdown",
   "metadata": {},
   "source": [
    "### 4. xgboost "
   ]
  },
  {
   "cell_type": "code",
   "execution_count": 63,
   "metadata": {},
   "outputs": [
    {
     "data": {
      "text/plain": [
       "0.65625"
      ]
     },
     "execution_count": 63,
     "metadata": {},
     "output_type": "execute_result"
    }
   ],
   "source": [
    "import xgboost as xgb\n",
    "xgb = xgb.XGBRFClassifier()\n",
    "xgb.fit(x_train, y_train)\n",
    "y_xgb_pred = xgb.predict(x_test)\n",
    "accuracy_score(y_test, y_xgb_pred)"
   ]
  },
  {
   "cell_type": "markdown",
   "metadata": {},
   "source": [
    "- **`K-Fold CV`**"
   ]
  },
  {
   "cell_type": "code",
   "execution_count": 64,
   "metadata": {},
   "outputs": [
    {
     "name": "stdout",
     "output_type": "stream",
     "text": [
      "Final Mean Accuracy:  0.660377358490566\n",
      "Standard Deviation: 0.04621678759968259\n"
     ]
    }
   ],
   "source": [
    "score4 = cross_val_score(xgb, x_new, y, cv = 3)\n",
    "print(\"Final Mean Accuracy: \", score4.mean())\n",
    "print('Standard Deviation:', score4.std())"
   ]
  },
  {
   "cell_type": "markdown",
   "metadata": {},
   "source": [
    "### 5. xgboost with parameters"
   ]
  },
  {
   "cell_type": "code",
   "execution_count": 65,
   "metadata": {},
   "outputs": [],
   "source": [
    "## Hyperparameter optimization using RandomizedSearchCV\n",
    "from sklearn.model_selection import RandomizedSearchCV, GridSearchCV\n",
    "import xgboost"
   ]
  },
  {
   "cell_type": "code",
   "execution_count": 66,
   "metadata": {},
   "outputs": [],
   "source": [
    "classifier = xgboost.XGBClassifier()"
   ]
  },
  {
   "cell_type": "code",
   "execution_count": 67,
   "metadata": {},
   "outputs": [],
   "source": [
    "params={\n",
    " \"learning_rate\"    : [0.05, 0.10, 0.15, 0.22, 0.25, 0.35 ] ,\n",
    " \"max_depth\"        : [ 3, 4, 5, 6, 8, 10, 12, 15, 7],\n",
    " \"min_child_weight\" : [ 1, 3, 5, 7, 4, 8 ],\n",
    " \"gamma\"            : [ 0.0, 0.1, 0.2 , 0.3, 0.4 ],\n",
    " \"colsample_bytree\" : [ 0.3, 0.4, 0.5 , 0.7 ]\n",
    "    \n",
    "}"
   ]
  },
  {
   "cell_type": "code",
   "execution_count": 68,
   "metadata": {},
   "outputs": [],
   "source": [
    "rs_cv = RandomizedSearchCV(classifier, param_distributions = params, n_iter = 5, cv = 3, verbose = 3)"
   ]
  },
  {
   "cell_type": "code",
   "execution_count": 69,
   "metadata": {},
   "outputs": [
    {
     "name": "stdout",
     "output_type": "stream",
     "text": [
      "Fitting 3 folds for each of 5 candidates, totalling 15 fits\n",
      "[CV] min_child_weight=8, max_depth=7, learning_rate=0.15, gamma=0.3, colsample_bytree=0.4 \n",
      "[CV]  min_child_weight=8, max_depth=7, learning_rate=0.15, gamma=0.3, colsample_bytree=0.4, score=0.642, total=   0.1s\n",
      "[CV] min_child_weight=8, max_depth=7, learning_rate=0.15, gamma=0.3, colsample_bytree=0.4 \n",
      "[CV]  min_child_weight=8, max_depth=7, learning_rate=0.15, gamma=0.3, colsample_bytree=0.4, score=0.585, total=   0.1s\n",
      "[CV] min_child_weight=8, max_depth=7, learning_rate=0.15, gamma=0.3, colsample_bytree=0.4 \n"
     ]
    },
    {
     "name": "stderr",
     "output_type": "stream",
     "text": [
      "[Parallel(n_jobs=1)]: Using backend SequentialBackend with 1 concurrent workers.\n",
      "[Parallel(n_jobs=1)]: Done   1 out of   1 | elapsed:    0.0s remaining:    0.0s\n",
      "[Parallel(n_jobs=1)]: Done   2 out of   2 | elapsed:    0.0s remaining:    0.0s\n"
     ]
    },
    {
     "name": "stdout",
     "output_type": "stream",
     "text": [
      "[CV]  min_child_weight=8, max_depth=7, learning_rate=0.15, gamma=0.3, colsample_bytree=0.4, score=0.717, total=   0.1s\n",
      "[CV] min_child_weight=5, max_depth=7, learning_rate=0.05, gamma=0.0, colsample_bytree=0.4 \n",
      "[CV]  min_child_weight=5, max_depth=7, learning_rate=0.05, gamma=0.0, colsample_bytree=0.4, score=0.660, total=   0.1s\n",
      "[CV] min_child_weight=5, max_depth=7, learning_rate=0.05, gamma=0.0, colsample_bytree=0.4 \n",
      "[CV]  min_child_weight=5, max_depth=7, learning_rate=0.05, gamma=0.0, colsample_bytree=0.4, score=0.566, total=   0.1s\n",
      "[CV] min_child_weight=5, max_depth=7, learning_rate=0.05, gamma=0.0, colsample_bytree=0.4 \n",
      "[CV]  min_child_weight=5, max_depth=7, learning_rate=0.05, gamma=0.0, colsample_bytree=0.4, score=0.698, total=   0.1s\n",
      "[CV] min_child_weight=5, max_depth=15, learning_rate=0.1, gamma=0.4, colsample_bytree=0.5 \n",
      "[CV]  min_child_weight=5, max_depth=15, learning_rate=0.1, gamma=0.4, colsample_bytree=0.5, score=0.660, total=   0.1s\n",
      "[CV] min_child_weight=5, max_depth=15, learning_rate=0.1, gamma=0.4, colsample_bytree=0.5 \n",
      "[CV]  min_child_weight=5, max_depth=15, learning_rate=0.1, gamma=0.4, colsample_bytree=0.5, score=0.585, total=   0.1s\n",
      "[CV] min_child_weight=5, max_depth=15, learning_rate=0.1, gamma=0.4, colsample_bytree=0.5 \n",
      "[CV]  min_child_weight=5, max_depth=15, learning_rate=0.1, gamma=0.4, colsample_bytree=0.5, score=0.698, total=   0.1s\n",
      "[CV] min_child_weight=8, max_depth=3, learning_rate=0.35, gamma=0.4, colsample_bytree=0.4 \n",
      "[CV]  min_child_weight=8, max_depth=3, learning_rate=0.35, gamma=0.4, colsample_bytree=0.4, score=0.642, total=   0.1s\n",
      "[CV] min_child_weight=8, max_depth=3, learning_rate=0.35, gamma=0.4, colsample_bytree=0.4 \n",
      "[CV]  min_child_weight=8, max_depth=3, learning_rate=0.35, gamma=0.4, colsample_bytree=0.4, score=0.642, total=   0.1s\n",
      "[CV] min_child_weight=8, max_depth=3, learning_rate=0.35, gamma=0.4, colsample_bytree=0.4 \n",
      "[CV]  min_child_weight=8, max_depth=3, learning_rate=0.35, gamma=0.4, colsample_bytree=0.4, score=0.717, total=   0.1s\n",
      "[CV] min_child_weight=4, max_depth=4, learning_rate=0.35, gamma=0.2, colsample_bytree=0.7 \n",
      "[CV]  min_child_weight=4, max_depth=4, learning_rate=0.35, gamma=0.2, colsample_bytree=0.7, score=0.717, total=   0.1s\n",
      "[CV] min_child_weight=4, max_depth=4, learning_rate=0.35, gamma=0.2, colsample_bytree=0.7 \n",
      "[CV]  min_child_weight=4, max_depth=4, learning_rate=0.35, gamma=0.2, colsample_bytree=0.7, score=0.528, total=   0.1s\n",
      "[CV] min_child_weight=4, max_depth=4, learning_rate=0.35, gamma=0.2, colsample_bytree=0.7 \n",
      "[CV]  min_child_weight=4, max_depth=4, learning_rate=0.35, gamma=0.2, colsample_bytree=0.7, score=0.660, total=   0.1s\n"
     ]
    },
    {
     "name": "stderr",
     "output_type": "stream",
     "text": [
      "[Parallel(n_jobs=1)]: Done  15 out of  15 | elapsed:    1.0s finished\n"
     ]
    },
    {
     "data": {
      "text/plain": [
       "RandomizedSearchCV(cv=3,\n",
       "                   estimator=XGBClassifier(base_score=None, booster=None,\n",
       "                                           colsample_bylevel=None,\n",
       "                                           colsample_bynode=None,\n",
       "                                           colsample_bytree=None, gamma=None,\n",
       "                                           gpu_id=None, importance_type='gain',\n",
       "                                           interaction_constraints=None,\n",
       "                                           learning_rate=None,\n",
       "                                           max_delta_step=None, max_depth=None,\n",
       "                                           min_child_weight=None, missing=nan,\n",
       "                                           monotone_constraints=None,\n",
       "                                           n_estimators=100,...\n",
       "                                           random_state=None, reg_alpha=None,\n",
       "                                           reg_lambda=None,\n",
       "                                           scale_pos_weight=None,\n",
       "                                           subsample=None, tree_method=None,\n",
       "                                           validate_parameters=None,\n",
       "                                           verbosity=None),\n",
       "                   n_iter=5,\n",
       "                   param_distributions={'colsample_bytree': [0.3, 0.4, 0.5,\n",
       "                                                             0.7],\n",
       "                                        'gamma': [0.0, 0.1, 0.2, 0.3, 0.4],\n",
       "                                        'learning_rate': [0.05, 0.1, 0.15, 0.22,\n",
       "                                                          0.25, 0.35],\n",
       "                                        'max_depth': [3, 4, 5, 6, 8, 10, 12, 15,\n",
       "                                                      7],\n",
       "                                        'min_child_weight': [1, 3, 5, 7, 4, 8]},\n",
       "                   verbose=3)"
      ]
     },
     "execution_count": 69,
     "metadata": {},
     "output_type": "execute_result"
    }
   ],
   "source": [
    "rs_cv.fit(x_new, y)"
   ]
  },
  {
   "cell_type": "code",
   "execution_count": 70,
   "metadata": {},
   "outputs": [
    {
     "data": {
      "text/plain": [
       "XGBClassifier(base_score=0.5, booster='gbtree', colsample_bylevel=1,\n",
       "              colsample_bynode=1, colsample_bytree=0.4, gamma=0.4, gpu_id=-1,\n",
       "              importance_type='gain', interaction_constraints='',\n",
       "              learning_rate=0.35, max_delta_step=0, max_depth=3,\n",
       "              min_child_weight=8, missing=nan, monotone_constraints='()',\n",
       "              n_estimators=100, n_jobs=0, num_parallel_tree=1, random_state=0,\n",
       "              reg_alpha=0, reg_lambda=1, scale_pos_weight=1, subsample=1,\n",
       "              tree_method='exact', validate_parameters=1, verbosity=None)"
      ]
     },
     "execution_count": 70,
     "metadata": {},
     "output_type": "execute_result"
    }
   ],
   "source": [
    "rs_cv.best_estimator_"
   ]
  },
  {
   "cell_type": "code",
   "execution_count": 71,
   "metadata": {},
   "outputs": [],
   "source": [
    "classifier = xgboost.XGBClassifier(base_score=0.5, booster='gbtree', colsample_bylevel=1,\n",
    "              colsample_bynode=1, colsample_bytree=0.4, gamma=0.0, gpu_id=-1,\n",
    "              importance_type='gain', interaction_constraints='',\n",
    "              learning_rate=0.35, max_delta_step=0, max_depth=3,\n",
    "              min_child_weight=8, missing=None, monotone_constraints='()',\n",
    "              n_estimators=100, n_jobs=0, num_parallel_tree=1, random_state=0,\n",
    "              reg_alpha=0, reg_lambda=1, scale_pos_weight=1, subsample=1,\n",
    "              tree_method='exact', validate_parameters=1, verbosity=None)"
   ]
  },
  {
   "cell_type": "markdown",
   "metadata": {},
   "source": [
    "- **`K-Fold CV`**"
   ]
  },
  {
   "cell_type": "code",
   "execution_count": 72,
   "metadata": {},
   "outputs": [
    {
     "name": "stdout",
     "output_type": "stream",
     "text": [
      "Final Mean Accuracy:  0.660377358490566\n",
      "Standard Deviation: 0.04075937546168465\n"
     ]
    }
   ],
   "source": [
    "score5=cross_val_score(classifier, x_new, y, cv = 3)\n",
    "print(\"Final Mean Accuracy: \", score5.mean())\n",
    "print('Standard Deviation:',score5.std())"
   ]
  },
  {
   "cell_type": "markdown",
   "metadata": {},
   "source": [
    "### 6. Linear Discrimenant Analysis"
   ]
  },
  {
   "cell_type": "code",
   "execution_count": 73,
   "metadata": {},
   "outputs": [
    {
     "data": {
      "text/plain": [
       "0.53125"
      ]
     },
     "execution_count": 73,
     "metadata": {},
     "output_type": "execute_result"
    }
   ],
   "source": [
    "from sklearn.discriminant_analysis import LinearDiscriminantAnalysis\n",
    "\n",
    "lda = LinearDiscriminantAnalysis()\n",
    "lda.fit(x_train, y_train)\n",
    "y_lda_pred = lda.predict(x_test)\n",
    "accuracy_score(y_test, y_lda_pred)"
   ]
  },
  {
   "cell_type": "markdown",
   "metadata": {},
   "source": [
    "- **`K-Fold CV`**"
   ]
  },
  {
   "cell_type": "code",
   "execution_count": 74,
   "metadata": {},
   "outputs": [
    {
     "name": "stdout",
     "output_type": "stream",
     "text": [
      "Final Mean Accuracy:  0.5878787878787878\n",
      "Standard Deviation: 0.13453999442920347\n"
     ]
    }
   ],
   "source": [
    "score6 = cross_val_score(lda, x_new, y, cv = 15)\n",
    "print(\"Final Mean Accuracy: \", score6.mean())\n",
    "print('Standard Deviation:',score6.std())"
   ]
  },
  {
   "cell_type": "markdown",
   "metadata": {},
   "source": [
    "### 7. SVM"
   ]
  },
  {
   "cell_type": "code",
   "execution_count": 75,
   "metadata": {},
   "outputs": [
    {
     "data": {
      "text/plain": [
       "0.625"
      ]
     },
     "execution_count": 75,
     "metadata": {},
     "output_type": "execute_result"
    }
   ],
   "source": [
    "from sklearn.svm import SVC\n",
    "\n",
    "sv = SVC()\n",
    "sv.fit(x_train, y_train)\n",
    "y_sv_pred = sv.predict(x_test)\n",
    "accuracy_score(y_test, y_sv_pred)"
   ]
  },
  {
   "cell_type": "markdown",
   "metadata": {},
   "source": [
    "- **`K-Fold CV`**"
   ]
  },
  {
   "cell_type": "code",
   "execution_count": 76,
   "metadata": {},
   "outputs": [
    {
     "name": "stdout",
     "output_type": "stream",
     "text": [
      "Final Mean Accuracy:  0.6289308176100629\n",
      "Standard Deviation: 0.0495220621007032\n"
     ]
    }
   ],
   "source": [
    "score7 = cross_val_score(sv, x_new, y, cv = 3)\n",
    "print(\"Final Mean Accuracy: \", score7.mean())\n",
    "print('Standard Deviation:',score7.std())"
   ]
  },
  {
   "cell_type": "markdown",
   "metadata": {},
   "source": [
    "### 8. Naïve Bayes"
   ]
  },
  {
   "cell_type": "code",
   "execution_count": 77,
   "metadata": {},
   "outputs": [
    {
     "data": {
      "text/plain": [
       "0.65625"
      ]
     },
     "execution_count": 77,
     "metadata": {},
     "output_type": "execute_result"
    }
   ],
   "source": [
    "from sklearn.naive_bayes import MultinomialNB\n",
    "\n",
    "mnb = MultinomialNB()\n",
    "mnb.fit(x_train, y_train)\n",
    "y_mnb_pred = mnb.predict(x_test)\n",
    "accuracy_score(y_test, y_mnb_pred)"
   ]
  },
  {
   "cell_type": "markdown",
   "metadata": {},
   "source": [
    "- **`K-Fold CV`**"
   ]
  },
  {
   "cell_type": "code",
   "execution_count": 78,
   "metadata": {},
   "outputs": [
    {
     "name": "stdout",
     "output_type": "stream",
     "text": [
      "Final Mean Accuracy:  0.6855345911949685\n",
      "Standard Deviation: 0.017788849841171003\n"
     ]
    }
   ],
   "source": [
    "score8 = cross_val_score(mnb, x_new, y, cv = 3)\n",
    "print(\"Final Mean Accuracy: \", score8.mean())\n",
    "print('Standard Deviation:',score8.std())"
   ]
  },
  {
   "cell_type": "markdown",
   "metadata": {},
   "source": [
    "## **`Models Using PCA`**"
   ]
  },
  {
   "cell_type": "code",
   "execution_count": 79,
   "metadata": {},
   "outputs": [],
   "source": [
    "from sklearn.decomposition import PCA\n",
    "\n",
    "pca = PCA(n_components = 10)\n",
    "pca.fit(x_new)\n",
    "pca_data = pca.transform(x_new)"
   ]
  },
  {
   "cell_type": "markdown",
   "metadata": {},
   "source": [
    "##### ***Split new data into train and test***\n",
    "- Independent (pca_data (x)) \n",
    "- Dependent data (y) "
   ]
  },
  {
   "cell_type": "code",
   "execution_count": 80,
   "metadata": {},
   "outputs": [],
   "source": [
    "x2_train, x2_test, y2_train, y2_test = train_test_split(pca_data, y, test_size = 0.2, random_state = 0)"
   ]
  },
  {
   "cell_type": "markdown",
   "metadata": {},
   "source": [
    "### ***Classification Models using pca data***\n",
    "### ***`K-Fold CV`***"
   ]
  },
  {
   "cell_type": "markdown",
   "metadata": {},
   "source": [
    "### 1. Random Forest"
   ]
  },
  {
   "cell_type": "code",
   "execution_count": 81,
   "metadata": {},
   "outputs": [
    {
     "name": "stdout",
     "output_type": "stream",
     "text": [
      "Final Mean Accuracy:  0.610062893081761\n",
      "Standard Deviation: 0.023532436394804658\n"
     ]
    }
   ],
   "source": [
    "rfc = RandomForestClassifier(n_estimators = 120)\n",
    "\n",
    "score = cross_val_score(rfc, pca_data, y, cv = 3)\n",
    "print(\"Final Mean Accuracy: \", score.mean())\n",
    "print('Standard Deviation:', score.std())"
   ]
  },
  {
   "cell_type": "markdown",
   "metadata": {},
   "source": [
    "### 2. Logistic Regression"
   ]
  },
  {
   "cell_type": "code",
   "execution_count": 82,
   "metadata": {},
   "outputs": [
    {
     "name": "stdout",
     "output_type": "stream",
     "text": [
      "Final Mean Accuracy:  0.660377358490566\n",
      "Standard Deviation: 0.03081119173312173\n"
     ]
    }
   ],
   "source": [
    "logit = LogisticRegression()\n",
    "\n",
    "score = cross_val_score(logit, pca_data, y, cv = 3)\n",
    "print(\"Final Mean Accuracy: \", score.mean())\n",
    "print('Standard Deviation:', score.std())"
   ]
  },
  {
   "cell_type": "markdown",
   "metadata": {},
   "source": [
    "### 3. Gradient Boosting"
   ]
  },
  {
   "cell_type": "code",
   "execution_count": 83,
   "metadata": {},
   "outputs": [
    {
     "name": "stdout",
     "output_type": "stream",
     "text": [
      "Final Mean Accuracy:  0.5723270440251572\n",
      "Standard Deviation: 0.008894424920585502\n"
     ]
    }
   ],
   "source": [
    "gb = GradientBoostingClassifier()\n",
    "\n",
    "score = cross_val_score(gb, pca_data, y, cv = 3)\n",
    "print(\"Final Mean Accuracy: \", score.mean())\n",
    "print('Standard Deviation:', score.std())"
   ]
  },
  {
   "cell_type": "markdown",
   "metadata": {},
   "source": [
    "### 4. xgboost "
   ]
  },
  {
   "cell_type": "code",
   "execution_count": 84,
   "metadata": {},
   "outputs": [
    {
     "name": "stdout",
     "output_type": "stream",
     "text": [
      "Final Mean Accuracy:  0.5974842767295597\n",
      "Standard Deviation: 0.023532436394804658\n"
     ]
    }
   ],
   "source": [
    "import xgboost as xgb\n",
    "xgb = xgb.XGBRFClassifier()\n",
    "\n",
    "score = cross_val_score(xgb, pca_data, y, cv = 3)\n",
    "print(\"Final Mean Accuracy: \", score.mean())\n",
    "print('Standard Deviation:', score.std())"
   ]
  },
  {
   "cell_type": "markdown",
   "metadata": {},
   "source": [
    "### 5. xgboost with patameters"
   ]
  },
  {
   "cell_type": "code",
   "execution_count": 85,
   "metadata": {},
   "outputs": [
    {
     "name": "stdout",
     "output_type": "stream",
     "text": [
      "Final Mean Accuracy:  0.6163522012578616\n",
      "Standard Deviation: 0.044472124602927515\n"
     ]
    }
   ],
   "source": [
    "score = cross_val_score(classifier, pca_data, y, cv = 3)\n",
    "print(\"Final Mean Accuracy: \", score.mean())\n",
    "print('Standard Deviation:', score.std())"
   ]
  },
  {
   "cell_type": "markdown",
   "metadata": {},
   "source": [
    "### 6. Linear Discrimenant Analysis"
   ]
  },
  {
   "cell_type": "code",
   "execution_count": 86,
   "metadata": {},
   "outputs": [
    {
     "name": "stdout",
     "output_type": "stream",
     "text": [
      "Final Mean Accuracy:  0.6729559748427673\n",
      "Standard Deviation: 0.044472124602927515\n"
     ]
    }
   ],
   "source": [
    "lda = LinearDiscriminantAnalysis()\n",
    "\n",
    "score = cross_val_score(lda, pca_data, y, cv = 3)\n",
    "print(\"Final Mean Accuracy: \", score.mean())\n",
    "print('Standard Deviation:', score.std())"
   ]
  },
  {
   "cell_type": "markdown",
   "metadata": {},
   "source": [
    "### 7. SVM"
   ]
  },
  {
   "cell_type": "code",
   "execution_count": 87,
   "metadata": {},
   "outputs": [
    {
     "name": "stdout",
     "output_type": "stream",
     "text": [
      "Final Mean Accuracy:  0.6792452830188679\n",
      "Standard Deviation: 0.03081119173312173\n"
     ]
    }
   ],
   "source": [
    "from sklearn.svm import SVC\n",
    "\n",
    "sv = SVC()\n",
    "score = cross_val_score(sv, pca_data, y, cv = 3)\n",
    "print(\"Final Mean Accuracy: \", score.mean())\n",
    "print('Standard Deviation:',score.std())"
   ]
  },
  {
   "cell_type": "markdown",
   "metadata": {},
   "source": [
    "### ***Algorithm that gives `Max` Accuracy:-*** \n",
    "- **Without PCA:-** Naïve Bayes\n",
    "            - Mean Accuracy:  68.55 %\n",
    "            - Standard Deviation: 0.0177888\n",
    "    \n",
    "- **With PCA:-** SVM\n",
    "           - Mean Accuracy:- 67.92 %\n",
    "           - Standard Deviation:- 0.0308111"
   ]
  },
  {
   "cell_type": "markdown",
   "metadata": {},
   "source": [
    "# ------------------------------------------------------------\n"
   ]
  },
  {
   "cell_type": "markdown",
   "metadata": {},
   "source": [
    "# **`C. MCI and AD Classification`**\n",
    "- Two Way"
   ]
  },
  {
   "cell_type": "markdown",
   "metadata": {},
   "source": [
    "### ***Load dataset***"
   ]
  },
  {
   "cell_type": "code",
   "execution_count": 88,
   "metadata": {},
   "outputs": [
    {
     "data": {
      "text/html": [
       "<div>\n",
       "<style scoped>\n",
       "    .dataframe tbody tr th:only-of-type {\n",
       "        vertical-align: middle;\n",
       "    }\n",
       "\n",
       "    .dataframe tbody tr th {\n",
       "        vertical-align: top;\n",
       "    }\n",
       "\n",
       "    .dataframe thead th {\n",
       "        text-align: right;\n",
       "    }\n",
       "</style>\n",
       "<table border=\"1\" class=\"dataframe\">\n",
       "  <thead>\n",
       "    <tr style=\"text-align: right;\">\n",
       "      <th></th>\n",
       "      <th>Measure:volume</th>\n",
       "      <th>Left-Lateral-Ventricle</th>\n",
       "      <th>Left-Inf-Lat-Vent</th>\n",
       "      <th>Left-Cerebellum-White-Matter</th>\n",
       "      <th>Left-Cerebellum-Cortex</th>\n",
       "      <th>Left-Thalamus-Proper</th>\n",
       "      <th>Left-Caudate</th>\n",
       "      <th>Left-Putamen</th>\n",
       "      <th>Left-Pallidum</th>\n",
       "      <th>3rd-Ventricle</th>\n",
       "      <th>...</th>\n",
       "      <th>rh_superiortemporal_area</th>\n",
       "      <th>rh_supramarginal_area</th>\n",
       "      <th>rh_frontalpole_area</th>\n",
       "      <th>rh_temporalpole_area</th>\n",
       "      <th>rh_transversetemporal_area</th>\n",
       "      <th>rh_insula_area</th>\n",
       "      <th>rh_WhiteSurfArea_area</th>\n",
       "      <th>BrainSegVolNotVent.2</th>\n",
       "      <th>eTIV.1</th>\n",
       "      <th>category</th>\n",
       "    </tr>\n",
       "  </thead>\n",
       "  <tbody>\n",
       "    <tr>\n",
       "      <th>0</th>\n",
       "      <td>002_S_0729</td>\n",
       "      <td>9123.2</td>\n",
       "      <td>426.2</td>\n",
       "      <td>9280.9</td>\n",
       "      <td>47420.4</td>\n",
       "      <td>6129.6</td>\n",
       "      <td>3050.5</td>\n",
       "      <td>3922.4</td>\n",
       "      <td>1715.0</td>\n",
       "      <td>1079.0</td>\n",
       "      <td>...</td>\n",
       "      <td>3137</td>\n",
       "      <td>2966</td>\n",
       "      <td>251</td>\n",
       "      <td>326</td>\n",
       "      <td>279</td>\n",
       "      <td>1983</td>\n",
       "      <td>69751.3</td>\n",
       "      <td>911068</td>\n",
       "      <td>1.271176e+06</td>\n",
       "      <td>0</td>\n",
       "    </tr>\n",
       "    <tr>\n",
       "      <th>1</th>\n",
       "      <td>002_S_0782</td>\n",
       "      <td>42924.0</td>\n",
       "      <td>1737.5</td>\n",
       "      <td>13642.9</td>\n",
       "      <td>55114.6</td>\n",
       "      <td>6296.3</td>\n",
       "      <td>3723.9</td>\n",
       "      <td>4289.1</td>\n",
       "      <td>1783.4</td>\n",
       "      <td>1811.7</td>\n",
       "      <td>...</td>\n",
       "      <td>3699</td>\n",
       "      <td>3154</td>\n",
       "      <td>401</td>\n",
       "      <td>391</td>\n",
       "      <td>327</td>\n",
       "      <td>2389</td>\n",
       "      <td>77863.1</td>\n",
       "      <td>1009095</td>\n",
       "      <td>1.704784e+06</td>\n",
       "      <td>0</td>\n",
       "    </tr>\n",
       "    <tr>\n",
       "      <th>2</th>\n",
       "      <td>002_S_0954</td>\n",
       "      <td>6032.2</td>\n",
       "      <td>518.7</td>\n",
       "      <td>12231.1</td>\n",
       "      <td>44790.1</td>\n",
       "      <td>5389.8</td>\n",
       "      <td>3490.0</td>\n",
       "      <td>3942.1</td>\n",
       "      <td>1679.3</td>\n",
       "      <td>904.0</td>\n",
       "      <td>...</td>\n",
       "      <td>2614</td>\n",
       "      <td>2414</td>\n",
       "      <td>253</td>\n",
       "      <td>448</td>\n",
       "      <td>215</td>\n",
       "      <td>1595</td>\n",
       "      <td>60293.4</td>\n",
       "      <td>804585</td>\n",
       "      <td>1.215139e+06</td>\n",
       "      <td>0</td>\n",
       "    </tr>\n",
       "    <tr>\n",
       "      <th>3</th>\n",
       "      <td>002_S_1070</td>\n",
       "      <td>19602.4</td>\n",
       "      <td>745.4</td>\n",
       "      <td>14936.0</td>\n",
       "      <td>62200.5</td>\n",
       "      <td>7874.2</td>\n",
       "      <td>3200.2</td>\n",
       "      <td>4109.6</td>\n",
       "      <td>1854.5</td>\n",
       "      <td>2439.9</td>\n",
       "      <td>...</td>\n",
       "      <td>3556</td>\n",
       "      <td>3492</td>\n",
       "      <td>285</td>\n",
       "      <td>454</td>\n",
       "      <td>334</td>\n",
       "      <td>2658</td>\n",
       "      <td>88185.4</td>\n",
       "      <td>1152262</td>\n",
       "      <td>1.697022e+06</td>\n",
       "      <td>0</td>\n",
       "    </tr>\n",
       "    <tr>\n",
       "      <th>4</th>\n",
       "      <td>002_S_1155</td>\n",
       "      <td>21350.3</td>\n",
       "      <td>1038.4</td>\n",
       "      <td>13782.3</td>\n",
       "      <td>53841.7</td>\n",
       "      <td>7002.4</td>\n",
       "      <td>3719.6</td>\n",
       "      <td>4806.0</td>\n",
       "      <td>1617.4</td>\n",
       "      <td>1490.3</td>\n",
       "      <td>...</td>\n",
       "      <td>3637</td>\n",
       "      <td>3632</td>\n",
       "      <td>314</td>\n",
       "      <td>467</td>\n",
       "      <td>269</td>\n",
       "      <td>2062</td>\n",
       "      <td>83731.9</td>\n",
       "      <td>1093888</td>\n",
       "      <td>1.647575e+06</td>\n",
       "      <td>0</td>\n",
       "    </tr>\n",
       "  </tbody>\n",
       "</table>\n",
       "<p>5 rows × 142 columns</p>\n",
       "</div>"
      ],
      "text/plain": [
       "  Measure:volume  Left-Lateral-Ventricle  Left-Inf-Lat-Vent  \\\n",
       "0     002_S_0729                  9123.2              426.2   \n",
       "1     002_S_0782                 42924.0             1737.5   \n",
       "2     002_S_0954                  6032.2              518.7   \n",
       "3     002_S_1070                 19602.4              745.4   \n",
       "4     002_S_1155                 21350.3             1038.4   \n",
       "\n",
       "   Left-Cerebellum-White-Matter  Left-Cerebellum-Cortex  Left-Thalamus-Proper  \\\n",
       "0                        9280.9                 47420.4                6129.6   \n",
       "1                       13642.9                 55114.6                6296.3   \n",
       "2                       12231.1                 44790.1                5389.8   \n",
       "3                       14936.0                 62200.5                7874.2   \n",
       "4                       13782.3                 53841.7                7002.4   \n",
       "\n",
       "   Left-Caudate  Left-Putamen  Left-Pallidum  3rd-Ventricle  ...  \\\n",
       "0        3050.5        3922.4         1715.0         1079.0  ...   \n",
       "1        3723.9        4289.1         1783.4         1811.7  ...   \n",
       "2        3490.0        3942.1         1679.3          904.0  ...   \n",
       "3        3200.2        4109.6         1854.5         2439.9  ...   \n",
       "4        3719.6        4806.0         1617.4         1490.3  ...   \n",
       "\n",
       "   rh_superiortemporal_area  rh_supramarginal_area  rh_frontalpole_area  \\\n",
       "0                      3137                   2966                  251   \n",
       "1                      3699                   3154                  401   \n",
       "2                      2614                   2414                  253   \n",
       "3                      3556                   3492                  285   \n",
       "4                      3637                   3632                  314   \n",
       "\n",
       "   rh_temporalpole_area  rh_transversetemporal_area  rh_insula_area  \\\n",
       "0                   326                         279            1983   \n",
       "1                   391                         327            2389   \n",
       "2                   448                         215            1595   \n",
       "3                   454                         334            2658   \n",
       "4                   467                         269            2062   \n",
       "\n",
       "   rh_WhiteSurfArea_area  BrainSegVolNotVent.2        eTIV.1  category  \n",
       "0                69751.3                911068  1.271176e+06         0  \n",
       "1                77863.1               1009095  1.704784e+06         0  \n",
       "2                60293.4                804585  1.215139e+06         0  \n",
       "3                88185.4               1152262  1.697022e+06         0  \n",
       "4                83731.9               1093888  1.647575e+06         0  \n",
       "\n",
       "[5 rows x 142 columns]"
      ]
     },
     "execution_count": 88,
     "metadata": {},
     "output_type": "execute_result"
    }
   ],
   "source": [
    "data2 = pd.read_csv('MCI_AD.csv')\n",
    "data2.head()"
   ]
  },
  {
   "cell_type": "code",
   "execution_count": 89,
   "metadata": {},
   "outputs": [
    {
     "data": {
      "text/plain": [
       "(159, 142)"
      ]
     },
     "execution_count": 89,
     "metadata": {},
     "output_type": "execute_result"
    }
   ],
   "source": [
    "data2.shape"
   ]
  },
  {
   "cell_type": "code",
   "execution_count": 90,
   "metadata": {},
   "outputs": [
    {
     "data": {
      "text/html": [
       "<div>\n",
       "<style scoped>\n",
       "    .dataframe tbody tr th:only-of-type {\n",
       "        vertical-align: middle;\n",
       "    }\n",
       "\n",
       "    .dataframe tbody tr th {\n",
       "        vertical-align: top;\n",
       "    }\n",
       "\n",
       "    .dataframe thead th {\n",
       "        text-align: right;\n",
       "    }\n",
       "</style>\n",
       "<table border=\"1\" class=\"dataframe\">\n",
       "  <thead>\n",
       "    <tr style=\"text-align: right;\">\n",
       "      <th></th>\n",
       "      <th>Left-Lateral-Ventricle</th>\n",
       "      <th>Left-Inf-Lat-Vent</th>\n",
       "      <th>Left-Cerebellum-White-Matter</th>\n",
       "      <th>Left-Cerebellum-Cortex</th>\n",
       "      <th>Left-Thalamus-Proper</th>\n",
       "      <th>Left-Caudate</th>\n",
       "      <th>Left-Putamen</th>\n",
       "      <th>Left-Pallidum</th>\n",
       "      <th>3rd-Ventricle</th>\n",
       "      <th>4th-Ventricle</th>\n",
       "      <th>...</th>\n",
       "      <th>rh_superiortemporal_area</th>\n",
       "      <th>rh_supramarginal_area</th>\n",
       "      <th>rh_frontalpole_area</th>\n",
       "      <th>rh_temporalpole_area</th>\n",
       "      <th>rh_transversetemporal_area</th>\n",
       "      <th>rh_insula_area</th>\n",
       "      <th>rh_WhiteSurfArea_area</th>\n",
       "      <th>BrainSegVolNotVent.2</th>\n",
       "      <th>eTIV.1</th>\n",
       "      <th>category</th>\n",
       "    </tr>\n",
       "  </thead>\n",
       "  <tbody>\n",
       "    <tr>\n",
       "      <th>count</th>\n",
       "      <td>159.000000</td>\n",
       "      <td>159.000000</td>\n",
       "      <td>159.000000</td>\n",
       "      <td>159.000000</td>\n",
       "      <td>159.000000</td>\n",
       "      <td>159.000000</td>\n",
       "      <td>159.000000</td>\n",
       "      <td>159.000000</td>\n",
       "      <td>159.000000</td>\n",
       "      <td>159.000000</td>\n",
       "      <td>...</td>\n",
       "      <td>159.000000</td>\n",
       "      <td>159.000000</td>\n",
       "      <td>159.000000</td>\n",
       "      <td>159.000000</td>\n",
       "      <td>159.000000</td>\n",
       "      <td>159.000000</td>\n",
       "      <td>159.000000</td>\n",
       "      <td>1.590000e+02</td>\n",
       "      <td>1.590000e+02</td>\n",
       "      <td>159.000000</td>\n",
       "    </tr>\n",
       "    <tr>\n",
       "      <th>mean</th>\n",
       "      <td>25237.305031</td>\n",
       "      <td>1415.241509</td>\n",
       "      <td>12423.525157</td>\n",
       "      <td>49744.038994</td>\n",
       "      <td>6343.916981</td>\n",
       "      <td>3303.509434</td>\n",
       "      <td>3986.410063</td>\n",
       "      <td>1738.283019</td>\n",
       "      <td>2072.338994</td>\n",
       "      <td>2080.989308</td>\n",
       "      <td>...</td>\n",
       "      <td>3483.748428</td>\n",
       "      <td>3418.962264</td>\n",
       "      <td>293.811321</td>\n",
       "      <td>448.402516</td>\n",
       "      <td>312.710692</td>\n",
       "      <td>2341.452830</td>\n",
       "      <td>80502.505031</td>\n",
       "      <td>1.009388e+06</td>\n",
       "      <td>1.558378e+06</td>\n",
       "      <td>0.503145</td>\n",
       "    </tr>\n",
       "    <tr>\n",
       "      <th>std</th>\n",
       "      <td>12927.749823</td>\n",
       "      <td>960.292965</td>\n",
       "      <td>2041.338024</td>\n",
       "      <td>5522.753102</td>\n",
       "      <td>823.340013</td>\n",
       "      <td>660.874835</td>\n",
       "      <td>679.822156</td>\n",
       "      <td>270.950221</td>\n",
       "      <td>658.169988</td>\n",
       "      <td>610.099596</td>\n",
       "      <td>...</td>\n",
       "      <td>448.541546</td>\n",
       "      <td>494.925424</td>\n",
       "      <td>38.129886</td>\n",
       "      <td>64.689924</td>\n",
       "      <td>48.893496</td>\n",
       "      <td>347.108174</td>\n",
       "      <td>8350.595299</td>\n",
       "      <td>1.130500e+05</td>\n",
       "      <td>1.782529e+05</td>\n",
       "      <td>0.501570</td>\n",
       "    </tr>\n",
       "    <tr>\n",
       "      <th>min</th>\n",
       "      <td>4700.300000</td>\n",
       "      <td>224.600000</td>\n",
       "      <td>7697.300000</td>\n",
       "      <td>34648.900000</td>\n",
       "      <td>4277.500000</td>\n",
       "      <td>2215.300000</td>\n",
       "      <td>2144.000000</td>\n",
       "      <td>1044.600000</td>\n",
       "      <td>856.400000</td>\n",
       "      <td>1036.800000</td>\n",
       "      <td>...</td>\n",
       "      <td>2614.000000</td>\n",
       "      <td>2255.000000</td>\n",
       "      <td>185.000000</td>\n",
       "      <td>240.000000</td>\n",
       "      <td>209.000000</td>\n",
       "      <td>1595.000000</td>\n",
       "      <td>55144.400000</td>\n",
       "      <td>7.004440e+05</td>\n",
       "      <td>1.159878e+06</td>\n",
       "      <td>0.000000</td>\n",
       "    </tr>\n",
       "    <tr>\n",
       "      <th>25%</th>\n",
       "      <td>15747.500000</td>\n",
       "      <td>781.550000</td>\n",
       "      <td>11133.200000</td>\n",
       "      <td>45821.400000</td>\n",
       "      <td>5808.500000</td>\n",
       "      <td>2878.050000</td>\n",
       "      <td>3618.050000</td>\n",
       "      <td>1563.700000</td>\n",
       "      <td>1581.400000</td>\n",
       "      <td>1680.050000</td>\n",
       "      <td>...</td>\n",
       "      <td>3178.000000</td>\n",
       "      <td>3048.500000</td>\n",
       "      <td>269.000000</td>\n",
       "      <td>408.500000</td>\n",
       "      <td>279.000000</td>\n",
       "      <td>2077.500000</td>\n",
       "      <td>74451.700000</td>\n",
       "      <td>9.239535e+05</td>\n",
       "      <td>1.427578e+06</td>\n",
       "      <td>0.000000</td>\n",
       "    </tr>\n",
       "    <tr>\n",
       "      <th>50%</th>\n",
       "      <td>22540.400000</td>\n",
       "      <td>1164.800000</td>\n",
       "      <td>12185.000000</td>\n",
       "      <td>49075.500000</td>\n",
       "      <td>6339.000000</td>\n",
       "      <td>3178.500000</td>\n",
       "      <td>3959.700000</td>\n",
       "      <td>1730.900000</td>\n",
       "      <td>1975.900000</td>\n",
       "      <td>1974.500000</td>\n",
       "      <td>...</td>\n",
       "      <td>3492.000000</td>\n",
       "      <td>3370.000000</td>\n",
       "      <td>293.000000</td>\n",
       "      <td>454.000000</td>\n",
       "      <td>301.000000</td>\n",
       "      <td>2290.000000</td>\n",
       "      <td>80102.600000</td>\n",
       "      <td>1.018836e+06</td>\n",
       "      <td>1.551671e+06</td>\n",
       "      <td>1.000000</td>\n",
       "    </tr>\n",
       "    <tr>\n",
       "      <th>75%</th>\n",
       "      <td>32660.450000</td>\n",
       "      <td>1786.450000</td>\n",
       "      <td>13615.150000</td>\n",
       "      <td>53305.300000</td>\n",
       "      <td>6743.850000</td>\n",
       "      <td>3603.400000</td>\n",
       "      <td>4325.400000</td>\n",
       "      <td>1896.000000</td>\n",
       "      <td>2562.300000</td>\n",
       "      <td>2368.650000</td>\n",
       "      <td>...</td>\n",
       "      <td>3742.500000</td>\n",
       "      <td>3779.500000</td>\n",
       "      <td>314.000000</td>\n",
       "      <td>488.000000</td>\n",
       "      <td>339.000000</td>\n",
       "      <td>2548.000000</td>\n",
       "      <td>87266.300000</td>\n",
       "      <td>1.078514e+06</td>\n",
       "      <td>1.686313e+06</td>\n",
       "      <td>1.000000</td>\n",
       "    </tr>\n",
       "    <tr>\n",
       "      <th>max</th>\n",
       "      <td>77457.300000</td>\n",
       "      <td>7025.900000</td>\n",
       "      <td>20895.300000</td>\n",
       "      <td>71792.000000</td>\n",
       "      <td>9660.600000</td>\n",
       "      <td>6947.000000</td>\n",
       "      <td>6365.400000</td>\n",
       "      <td>2431.900000</td>\n",
       "      <td>4106.500000</td>\n",
       "      <td>4188.400000</td>\n",
       "      <td>...</td>\n",
       "      <td>5443.000000</td>\n",
       "      <td>4889.000000</td>\n",
       "      <td>402.000000</td>\n",
       "      <td>622.000000</td>\n",
       "      <td>469.000000</td>\n",
       "      <td>3399.000000</td>\n",
       "      <td>101210.000000</td>\n",
       "      <td>1.306117e+06</td>\n",
       "      <td>2.040867e+06</td>\n",
       "      <td>1.000000</td>\n",
       "    </tr>\n",
       "  </tbody>\n",
       "</table>\n",
       "<p>8 rows × 141 columns</p>\n",
       "</div>"
      ],
      "text/plain": [
       "       Left-Lateral-Ventricle  Left-Inf-Lat-Vent  \\\n",
       "count              159.000000         159.000000   \n",
       "mean             25237.305031        1415.241509   \n",
       "std              12927.749823         960.292965   \n",
       "min               4700.300000         224.600000   \n",
       "25%              15747.500000         781.550000   \n",
       "50%              22540.400000        1164.800000   \n",
       "75%              32660.450000        1786.450000   \n",
       "max              77457.300000        7025.900000   \n",
       "\n",
       "       Left-Cerebellum-White-Matter  Left-Cerebellum-Cortex  \\\n",
       "count                    159.000000              159.000000   \n",
       "mean                   12423.525157            49744.038994   \n",
       "std                     2041.338024             5522.753102   \n",
       "min                     7697.300000            34648.900000   \n",
       "25%                    11133.200000            45821.400000   \n",
       "50%                    12185.000000            49075.500000   \n",
       "75%                    13615.150000            53305.300000   \n",
       "max                    20895.300000            71792.000000   \n",
       "\n",
       "       Left-Thalamus-Proper  Left-Caudate  Left-Putamen  Left-Pallidum  \\\n",
       "count            159.000000    159.000000    159.000000     159.000000   \n",
       "mean            6343.916981   3303.509434   3986.410063    1738.283019   \n",
       "std              823.340013    660.874835    679.822156     270.950221   \n",
       "min             4277.500000   2215.300000   2144.000000    1044.600000   \n",
       "25%             5808.500000   2878.050000   3618.050000    1563.700000   \n",
       "50%             6339.000000   3178.500000   3959.700000    1730.900000   \n",
       "75%             6743.850000   3603.400000   4325.400000    1896.000000   \n",
       "max             9660.600000   6947.000000   6365.400000    2431.900000   \n",
       "\n",
       "       3rd-Ventricle  4th-Ventricle  ...  rh_superiortemporal_area  \\\n",
       "count     159.000000     159.000000  ...                159.000000   \n",
       "mean     2072.338994    2080.989308  ...               3483.748428   \n",
       "std       658.169988     610.099596  ...                448.541546   \n",
       "min       856.400000    1036.800000  ...               2614.000000   \n",
       "25%      1581.400000    1680.050000  ...               3178.000000   \n",
       "50%      1975.900000    1974.500000  ...               3492.000000   \n",
       "75%      2562.300000    2368.650000  ...               3742.500000   \n",
       "max      4106.500000    4188.400000  ...               5443.000000   \n",
       "\n",
       "       rh_supramarginal_area  rh_frontalpole_area  rh_temporalpole_area  \\\n",
       "count             159.000000           159.000000            159.000000   \n",
       "mean             3418.962264           293.811321            448.402516   \n",
       "std               494.925424            38.129886             64.689924   \n",
       "min              2255.000000           185.000000            240.000000   \n",
       "25%              3048.500000           269.000000            408.500000   \n",
       "50%              3370.000000           293.000000            454.000000   \n",
       "75%              3779.500000           314.000000            488.000000   \n",
       "max              4889.000000           402.000000            622.000000   \n",
       "\n",
       "       rh_transversetemporal_area  rh_insula_area  rh_WhiteSurfArea_area  \\\n",
       "count                  159.000000      159.000000             159.000000   \n",
       "mean                   312.710692     2341.452830           80502.505031   \n",
       "std                     48.893496      347.108174            8350.595299   \n",
       "min                    209.000000     1595.000000           55144.400000   \n",
       "25%                    279.000000     2077.500000           74451.700000   \n",
       "50%                    301.000000     2290.000000           80102.600000   \n",
       "75%                    339.000000     2548.000000           87266.300000   \n",
       "max                    469.000000     3399.000000          101210.000000   \n",
       "\n",
       "       BrainSegVolNotVent.2        eTIV.1    category  \n",
       "count          1.590000e+02  1.590000e+02  159.000000  \n",
       "mean           1.009388e+06  1.558378e+06    0.503145  \n",
       "std            1.130500e+05  1.782529e+05    0.501570  \n",
       "min            7.004440e+05  1.159878e+06    0.000000  \n",
       "25%            9.239535e+05  1.427578e+06    0.000000  \n",
       "50%            1.018836e+06  1.551671e+06    1.000000  \n",
       "75%            1.078514e+06  1.686313e+06    1.000000  \n",
       "max            1.306117e+06  2.040867e+06    1.000000  \n",
       "\n",
       "[8 rows x 141 columns]"
      ]
     },
     "execution_count": 90,
     "metadata": {},
     "output_type": "execute_result"
    }
   ],
   "source": [
    "data2.describe()"
   ]
  },
  {
   "cell_type": "code",
   "execution_count": 91,
   "metadata": {},
   "outputs": [
    {
     "data": {
      "text/plain": [
       "Measure:volume                  0\n",
       "Left-Lateral-Ventricle          0\n",
       "Left-Inf-Lat-Vent               0\n",
       "Left-Cerebellum-White-Matter    0\n",
       "Left-Cerebellum-Cortex          0\n",
       "                               ..\n",
       "rh_insula_area                  0\n",
       "rh_WhiteSurfArea_area           0\n",
       "BrainSegVolNotVent.2            0\n",
       "eTIV.1                          0\n",
       "category                        0\n",
       "Length: 142, dtype: int64"
      ]
     },
     "execution_count": 91,
     "metadata": {},
     "output_type": "execute_result"
    }
   ],
   "source": [
    "data2.isnull().sum()"
   ]
  },
  {
   "cell_type": "markdown",
   "metadata": {},
   "source": [
    "### ***Seperate Dependent `(y)` and Independent `(x)` variables***"
   ]
  },
  {
   "cell_type": "code",
   "execution_count": 92,
   "metadata": {},
   "outputs": [],
   "source": [
    "x = data2.drop(columns = ['category','Measure:volume'], axis = 1)\n",
    "y = data2['category']"
   ]
  },
  {
   "cell_type": "markdown",
   "metadata": {},
   "source": [
    "### ***Scaling data in between 0 to 1***\n",
    "- `MinMaxScaler`"
   ]
  },
  {
   "cell_type": "code",
   "execution_count": 93,
   "metadata": {},
   "outputs": [],
   "source": [
    "x_new = x.copy()\n",
    "def min_max_scale(col, x_new):\n",
    "    mms = MinMaxScaler()\n",
    "    x_new[col] = mms.fit_transform(x_new[[col]])\n",
    "    return x_new"
   ]
  },
  {
   "cell_type": "code",
   "execution_count": 94,
   "metadata": {},
   "outputs": [
    {
     "data": {
      "text/html": [
       "<div>\n",
       "<style scoped>\n",
       "    .dataframe tbody tr th:only-of-type {\n",
       "        vertical-align: middle;\n",
       "    }\n",
       "\n",
       "    .dataframe tbody tr th {\n",
       "        vertical-align: top;\n",
       "    }\n",
       "\n",
       "    .dataframe thead th {\n",
       "        text-align: right;\n",
       "    }\n",
       "</style>\n",
       "<table border=\"1\" class=\"dataframe\">\n",
       "  <thead>\n",
       "    <tr style=\"text-align: right;\">\n",
       "      <th></th>\n",
       "      <th>Left-Lateral-Ventricle</th>\n",
       "      <th>Left-Inf-Lat-Vent</th>\n",
       "      <th>Left-Cerebellum-White-Matter</th>\n",
       "      <th>Left-Cerebellum-Cortex</th>\n",
       "      <th>Left-Thalamus-Proper</th>\n",
       "      <th>Left-Caudate</th>\n",
       "      <th>Left-Putamen</th>\n",
       "      <th>Left-Pallidum</th>\n",
       "      <th>3rd-Ventricle</th>\n",
       "      <th>4th-Ventricle</th>\n",
       "      <th>...</th>\n",
       "      <th>rh_superiorparietal_area</th>\n",
       "      <th>rh_superiortemporal_area</th>\n",
       "      <th>rh_supramarginal_area</th>\n",
       "      <th>rh_frontalpole_area</th>\n",
       "      <th>rh_temporalpole_area</th>\n",
       "      <th>rh_transversetemporal_area</th>\n",
       "      <th>rh_insula_area</th>\n",
       "      <th>rh_WhiteSurfArea_area</th>\n",
       "      <th>BrainSegVolNotVent.2</th>\n",
       "      <th>eTIV.1</th>\n",
       "    </tr>\n",
       "  </thead>\n",
       "  <tbody>\n",
       "    <tr>\n",
       "      <th>0</th>\n",
       "      <td>9123.2</td>\n",
       "      <td>426.2</td>\n",
       "      <td>9280.9</td>\n",
       "      <td>47420.4</td>\n",
       "      <td>6129.6</td>\n",
       "      <td>3050.5</td>\n",
       "      <td>3922.4</td>\n",
       "      <td>1715.0</td>\n",
       "      <td>1079.0</td>\n",
       "      <td>2159.2</td>\n",
       "      <td>...</td>\n",
       "      <td>4448</td>\n",
       "      <td>3137</td>\n",
       "      <td>2966</td>\n",
       "      <td>251</td>\n",
       "      <td>326</td>\n",
       "      <td>279</td>\n",
       "      <td>1983</td>\n",
       "      <td>69751.3</td>\n",
       "      <td>911068</td>\n",
       "      <td>1.271176e+06</td>\n",
       "    </tr>\n",
       "    <tr>\n",
       "      <th>1</th>\n",
       "      <td>42924.0</td>\n",
       "      <td>1737.5</td>\n",
       "      <td>13642.9</td>\n",
       "      <td>55114.6</td>\n",
       "      <td>6296.3</td>\n",
       "      <td>3723.9</td>\n",
       "      <td>4289.1</td>\n",
       "      <td>1783.4</td>\n",
       "      <td>1811.7</td>\n",
       "      <td>1939.4</td>\n",
       "      <td>...</td>\n",
       "      <td>4601</td>\n",
       "      <td>3699</td>\n",
       "      <td>3154</td>\n",
       "      <td>401</td>\n",
       "      <td>391</td>\n",
       "      <td>327</td>\n",
       "      <td>2389</td>\n",
       "      <td>77863.1</td>\n",
       "      <td>1009095</td>\n",
       "      <td>1.704784e+06</td>\n",
       "    </tr>\n",
       "    <tr>\n",
       "      <th>2</th>\n",
       "      <td>6032.2</td>\n",
       "      <td>518.7</td>\n",
       "      <td>12231.1</td>\n",
       "      <td>44790.1</td>\n",
       "      <td>5389.8</td>\n",
       "      <td>3490.0</td>\n",
       "      <td>3942.1</td>\n",
       "      <td>1679.3</td>\n",
       "      <td>904.0</td>\n",
       "      <td>2811.8</td>\n",
       "      <td>...</td>\n",
       "      <td>3235</td>\n",
       "      <td>2614</td>\n",
       "      <td>2414</td>\n",
       "      <td>253</td>\n",
       "      <td>448</td>\n",
       "      <td>215</td>\n",
       "      <td>1595</td>\n",
       "      <td>60293.4</td>\n",
       "      <td>804585</td>\n",
       "      <td>1.215139e+06</td>\n",
       "    </tr>\n",
       "    <tr>\n",
       "      <th>3</th>\n",
       "      <td>19602.4</td>\n",
       "      <td>745.4</td>\n",
       "      <td>14936.0</td>\n",
       "      <td>62200.5</td>\n",
       "      <td>7874.2</td>\n",
       "      <td>3200.2</td>\n",
       "      <td>4109.6</td>\n",
       "      <td>1854.5</td>\n",
       "      <td>2439.9</td>\n",
       "      <td>2588.4</td>\n",
       "      <td>...</td>\n",
       "      <td>5103</td>\n",
       "      <td>3556</td>\n",
       "      <td>3492</td>\n",
       "      <td>285</td>\n",
       "      <td>454</td>\n",
       "      <td>334</td>\n",
       "      <td>2658</td>\n",
       "      <td>88185.4</td>\n",
       "      <td>1152262</td>\n",
       "      <td>1.697022e+06</td>\n",
       "    </tr>\n",
       "    <tr>\n",
       "      <th>4</th>\n",
       "      <td>21350.3</td>\n",
       "      <td>1038.4</td>\n",
       "      <td>13782.3</td>\n",
       "      <td>53841.7</td>\n",
       "      <td>7002.4</td>\n",
       "      <td>3719.6</td>\n",
       "      <td>4806.0</td>\n",
       "      <td>1617.4</td>\n",
       "      <td>1490.3</td>\n",
       "      <td>1818.7</td>\n",
       "      <td>...</td>\n",
       "      <td>5538</td>\n",
       "      <td>3637</td>\n",
       "      <td>3632</td>\n",
       "      <td>314</td>\n",
       "      <td>467</td>\n",
       "      <td>269</td>\n",
       "      <td>2062</td>\n",
       "      <td>83731.9</td>\n",
       "      <td>1093888</td>\n",
       "      <td>1.647575e+06</td>\n",
       "    </tr>\n",
       "  </tbody>\n",
       "</table>\n",
       "<p>5 rows × 140 columns</p>\n",
       "</div>"
      ],
      "text/plain": [
       "   Left-Lateral-Ventricle  Left-Inf-Lat-Vent  Left-Cerebellum-White-Matter  \\\n",
       "0                  9123.2              426.2                        9280.9   \n",
       "1                 42924.0             1737.5                       13642.9   \n",
       "2                  6032.2              518.7                       12231.1   \n",
       "3                 19602.4              745.4                       14936.0   \n",
       "4                 21350.3             1038.4                       13782.3   \n",
       "\n",
       "   Left-Cerebellum-Cortex  Left-Thalamus-Proper  Left-Caudate  Left-Putamen  \\\n",
       "0                 47420.4                6129.6        3050.5        3922.4   \n",
       "1                 55114.6                6296.3        3723.9        4289.1   \n",
       "2                 44790.1                5389.8        3490.0        3942.1   \n",
       "3                 62200.5                7874.2        3200.2        4109.6   \n",
       "4                 53841.7                7002.4        3719.6        4806.0   \n",
       "\n",
       "   Left-Pallidum  3rd-Ventricle  4th-Ventricle  ...  rh_superiorparietal_area  \\\n",
       "0         1715.0         1079.0         2159.2  ...                      4448   \n",
       "1         1783.4         1811.7         1939.4  ...                      4601   \n",
       "2         1679.3          904.0         2811.8  ...                      3235   \n",
       "3         1854.5         2439.9         2588.4  ...                      5103   \n",
       "4         1617.4         1490.3         1818.7  ...                      5538   \n",
       "\n",
       "   rh_superiortemporal_area  rh_supramarginal_area  rh_frontalpole_area  \\\n",
       "0                      3137                   2966                  251   \n",
       "1                      3699                   3154                  401   \n",
       "2                      2614                   2414                  253   \n",
       "3                      3556                   3492                  285   \n",
       "4                      3637                   3632                  314   \n",
       "\n",
       "   rh_temporalpole_area  rh_transversetemporal_area  rh_insula_area  \\\n",
       "0                   326                         279            1983   \n",
       "1                   391                         327            2389   \n",
       "2                   448                         215            1595   \n",
       "3                   454                         334            2658   \n",
       "4                   467                         269            2062   \n",
       "\n",
       "   rh_WhiteSurfArea_area  BrainSegVolNotVent.2        eTIV.1  \n",
       "0                69751.3                911068  1.271176e+06  \n",
       "1                77863.1               1009095  1.704784e+06  \n",
       "2                60293.4                804585  1.215139e+06  \n",
       "3                88185.4               1152262  1.697022e+06  \n",
       "4                83731.9               1093888  1.647575e+06  \n",
       "\n",
       "[5 rows x 140 columns]"
      ]
     },
     "execution_count": 94,
     "metadata": {},
     "output_type": "execute_result"
    }
   ],
   "source": [
    "x_new.head()"
   ]
  },
  {
   "cell_type": "markdown",
   "metadata": {},
   "source": [
    "### ***Split data into `train` and `test`***"
   ]
  },
  {
   "cell_type": "code",
   "execution_count": 95,
   "metadata": {},
   "outputs": [],
   "source": [
    "x_train, x_test, y_train, y_test = train_test_split(x_new, y, test_size = 0.2, random_state = 0)"
   ]
  },
  {
   "cell_type": "markdown",
   "metadata": {},
   "source": [
    "### ***Classification Models***"
   ]
  },
  {
   "cell_type": "markdown",
   "metadata": {},
   "source": [
    "### 1. Random Forest"
   ]
  },
  {
   "cell_type": "code",
   "execution_count": 96,
   "metadata": {},
   "outputs": [
    {
     "data": {
      "text/plain": [
       "0.59375"
      ]
     },
     "execution_count": 96,
     "metadata": {},
     "output_type": "execute_result"
    }
   ],
   "source": [
    "from sklearn.ensemble import RandomForestClassifier\n",
    "\n",
    "rfc = RandomForestClassifier(n_estimators = 120)\n",
    "rfc.fit(x_train, y_train)\n",
    "y_pred = rfc.predict(x_test)\n",
    "accuracy_score(y_test, y_pred)"
   ]
  },
  {
   "cell_type": "markdown",
   "metadata": {},
   "source": [
    "- **`K-Fold CV`**"
   ]
  },
  {
   "cell_type": "code",
   "execution_count": 97,
   "metadata": {},
   "outputs": [
    {
     "name": "stdout",
     "output_type": "stream",
     "text": [
      "Final Mean Accuracy:  0.5471698113207547\n",
      "Standard Deviation: 0.015405595866560866\n"
     ]
    }
   ],
   "source": [
    "score1 = cross_val_score(rfc, x_new, y, cv = 3)\n",
    "print(\"Final Mean Accuracy: \", score1.mean())\n",
    "print('Standard Deviation:', score1.std())"
   ]
  },
  {
   "cell_type": "markdown",
   "metadata": {},
   "source": [
    "### 2. Gradient Boosting"
   ]
  },
  {
   "cell_type": "code",
   "execution_count": 98,
   "metadata": {},
   "outputs": [
    {
     "data": {
      "text/plain": [
       "0.53125"
      ]
     },
     "execution_count": 98,
     "metadata": {},
     "output_type": "execute_result"
    }
   ],
   "source": [
    "from sklearn.ensemble import GradientBoostingClassifier\n",
    "\n",
    "gb = GradientBoostingClassifier()\n",
    "gb.fit(x_train, y_train)\n",
    "y_gb_pred = gb.predict(x_test)\n",
    "accuracy_score(y_test, y_gb_pred)"
   ]
  },
  {
   "cell_type": "markdown",
   "metadata": {},
   "source": [
    "- **`K-Fold CV`**"
   ]
  },
  {
   "cell_type": "code",
   "execution_count": 99,
   "metadata": {},
   "outputs": [
    {
     "name": "stdout",
     "output_type": "stream",
     "text": [
      "Final Mean Accuracy:  0.5220125786163522\n",
      "Standard Deviation: 0.06226097444409851\n"
     ]
    }
   ],
   "source": [
    "score3 = cross_val_score(gb, x_new, y, cv = 3)\n",
    "print(\"Final Mean Accuracy: \", score3.mean())\n",
    "print('Standard Deviation:', score3.std())"
   ]
  },
  {
   "cell_type": "markdown",
   "metadata": {},
   "source": [
    "### 3. xgboost "
   ]
  },
  {
   "cell_type": "code",
   "execution_count": 100,
   "metadata": {},
   "outputs": [
    {
     "data": {
      "text/plain": [
       "0.5625"
      ]
     },
     "execution_count": 100,
     "metadata": {},
     "output_type": "execute_result"
    }
   ],
   "source": [
    "import xgboost as xgb\n",
    "xgb = xgb.XGBRFClassifier()\n",
    "xgb.fit(x_train, y_train)\n",
    "y_xgb_pred = xgb.predict(x_test)\n",
    "accuracy_score(y_test, y_xgb_pred)"
   ]
  },
  {
   "cell_type": "markdown",
   "metadata": {},
   "source": [
    "- **`K-Fold CV`**"
   ]
  },
  {
   "cell_type": "code",
   "execution_count": 101,
   "metadata": {},
   "outputs": [
    {
     "name": "stdout",
     "output_type": "stream",
     "text": [
      "Final Mean Accuracy:  0.47798742138364786\n",
      "Standard Deviation: 0.0495220621007032\n"
     ]
    }
   ],
   "source": [
    "score4 = cross_val_score(xgb, x_new, y, cv = 3)\n",
    "print(\"Final Mean Accuracy: \", score4.mean())\n",
    "print('Standard Deviation:', score4.std())"
   ]
  },
  {
   "cell_type": "markdown",
   "metadata": {},
   "source": [
    "### 4. xgboost with parameters"
   ]
  },
  {
   "cell_type": "code",
   "execution_count": 102,
   "metadata": {},
   "outputs": [],
   "source": [
    "## Hyperparameter optimization using RandomizedSearchCV\n",
    "from sklearn.model_selection import RandomizedSearchCV, GridSearchCV\n",
    "import xgboost"
   ]
  },
  {
   "cell_type": "code",
   "execution_count": 103,
   "metadata": {},
   "outputs": [],
   "source": [
    "classifier = xgboost.XGBClassifier()"
   ]
  },
  {
   "cell_type": "code",
   "execution_count": 104,
   "metadata": {},
   "outputs": [],
   "source": [
    "params={\n",
    " \"learning_rate\"    : [0.05, 0.10, 0.15, 0.20, 0.25, 0.30 ] ,\n",
    " \"max_depth\"        : [ 3, 4, 5, 6, 8, 10, 12, 15],\n",
    " \"min_child_weight\" : [ 1, 3, 5, 7 ],\n",
    " \"gamma\"            : [ 0.0, 0.1, 0.2 , 0.3, 0.4 ],\n",
    " \"colsample_bytree\" : [ 0.3, 0.4, 0.5 , 0.7 ]\n",
    "    \n",
    "}"
   ]
  },
  {
   "cell_type": "code",
   "execution_count": 105,
   "metadata": {},
   "outputs": [],
   "source": [
    "rs_cv = RandomizedSearchCV(classifier, param_distributions = params, n_iter = 5, cv = 3, verbose = 3)"
   ]
  },
  {
   "cell_type": "code",
   "execution_count": 106,
   "metadata": {},
   "outputs": [
    {
     "name": "stdout",
     "output_type": "stream",
     "text": [
      "Fitting 3 folds for each of 5 candidates, totalling 15 fits\n",
      "[CV] min_child_weight=5, max_depth=10, learning_rate=0.3, gamma=0.3, colsample_bytree=0.4 \n",
      "[CV]  min_child_weight=5, max_depth=10, learning_rate=0.3, gamma=0.3, colsample_bytree=0.4, score=0.585, total=   0.1s\n",
      "[CV] min_child_weight=5, max_depth=10, learning_rate=0.3, gamma=0.3, colsample_bytree=0.4 \n",
      "[CV]  min_child_weight=5, max_depth=10, learning_rate=0.3, gamma=0.3, colsample_bytree=0.4, score=0.453, total=   0.1s\n",
      "[CV] min_child_weight=5, max_depth=10, learning_rate=0.3, gamma=0.3, colsample_bytree=0.4 \n"
     ]
    },
    {
     "name": "stderr",
     "output_type": "stream",
     "text": [
      "[Parallel(n_jobs=1)]: Using backend SequentialBackend with 1 concurrent workers.\n",
      "[Parallel(n_jobs=1)]: Done   1 out of   1 | elapsed:    0.0s remaining:    0.0s\n",
      "[Parallel(n_jobs=1)]: Done   2 out of   2 | elapsed:    0.1s remaining:    0.0s\n"
     ]
    },
    {
     "name": "stdout",
     "output_type": "stream",
     "text": [
      "[CV]  min_child_weight=5, max_depth=10, learning_rate=0.3, gamma=0.3, colsample_bytree=0.4, score=0.528, total=   0.1s\n",
      "[CV] min_child_weight=5, max_depth=4, learning_rate=0.2, gamma=0.4, colsample_bytree=0.5 \n",
      "[CV]  min_child_weight=5, max_depth=4, learning_rate=0.2, gamma=0.4, colsample_bytree=0.5, score=0.528, total=   0.1s\n",
      "[CV] min_child_weight=5, max_depth=4, learning_rate=0.2, gamma=0.4, colsample_bytree=0.5 \n",
      "[CV]  min_child_weight=5, max_depth=4, learning_rate=0.2, gamma=0.4, colsample_bytree=0.5, score=0.434, total=   0.1s\n",
      "[CV] min_child_weight=5, max_depth=4, learning_rate=0.2, gamma=0.4, colsample_bytree=0.5 \n",
      "[CV]  min_child_weight=5, max_depth=4, learning_rate=0.2, gamma=0.4, colsample_bytree=0.5, score=0.623, total=   0.1s\n",
      "[CV] min_child_weight=7, max_depth=3, learning_rate=0.25, gamma=0.1, colsample_bytree=0.3 \n",
      "[CV]  min_child_weight=7, max_depth=3, learning_rate=0.25, gamma=0.1, colsample_bytree=0.3, score=0.566, total=   0.1s\n",
      "[CV] min_child_weight=7, max_depth=3, learning_rate=0.25, gamma=0.1, colsample_bytree=0.3 \n",
      "[CV]  min_child_weight=7, max_depth=3, learning_rate=0.25, gamma=0.1, colsample_bytree=0.3, score=0.434, total=   0.1s\n",
      "[CV] min_child_weight=7, max_depth=3, learning_rate=0.25, gamma=0.1, colsample_bytree=0.3 \n",
      "[CV]  min_child_weight=7, max_depth=3, learning_rate=0.25, gamma=0.1, colsample_bytree=0.3, score=0.547, total=   0.1s\n",
      "[CV] min_child_weight=3, max_depth=15, learning_rate=0.1, gamma=0.0, colsample_bytree=0.4 \n",
      "[CV]  min_child_weight=3, max_depth=15, learning_rate=0.1, gamma=0.0, colsample_bytree=0.4, score=0.434, total=   0.1s\n",
      "[CV] min_child_weight=3, max_depth=15, learning_rate=0.1, gamma=0.0, colsample_bytree=0.4 \n",
      "[CV]  min_child_weight=3, max_depth=15, learning_rate=0.1, gamma=0.0, colsample_bytree=0.4, score=0.434, total=   0.1s\n",
      "[CV] min_child_weight=3, max_depth=15, learning_rate=0.1, gamma=0.0, colsample_bytree=0.4 \n",
      "[CV]  min_child_weight=3, max_depth=15, learning_rate=0.1, gamma=0.0, colsample_bytree=0.4, score=0.566, total=   0.1s\n",
      "[CV] min_child_weight=3, max_depth=10, learning_rate=0.3, gamma=0.1, colsample_bytree=0.5 \n",
      "[CV]  min_child_weight=3, max_depth=10, learning_rate=0.3, gamma=0.1, colsample_bytree=0.5, score=0.547, total=   0.1s\n",
      "[CV] min_child_weight=3, max_depth=10, learning_rate=0.3, gamma=0.1, colsample_bytree=0.5 \n",
      "[CV]  min_child_weight=3, max_depth=10, learning_rate=0.3, gamma=0.1, colsample_bytree=0.5, score=0.377, total=   0.1s\n",
      "[CV] min_child_weight=3, max_depth=10, learning_rate=0.3, gamma=0.1, colsample_bytree=0.5 \n",
      "[CV]  min_child_weight=3, max_depth=10, learning_rate=0.3, gamma=0.1, colsample_bytree=0.5, score=0.585, total=   0.1s\n"
     ]
    },
    {
     "name": "stderr",
     "output_type": "stream",
     "text": [
      "[Parallel(n_jobs=1)]: Done  15 out of  15 | elapsed:    1.1s finished\n"
     ]
    },
    {
     "data": {
      "text/plain": [
       "RandomizedSearchCV(cv=3,\n",
       "                   estimator=XGBClassifier(base_score=None, booster=None,\n",
       "                                           colsample_bylevel=None,\n",
       "                                           colsample_bynode=None,\n",
       "                                           colsample_bytree=None, gamma=None,\n",
       "                                           gpu_id=None, importance_type='gain',\n",
       "                                           interaction_constraints=None,\n",
       "                                           learning_rate=None,\n",
       "                                           max_delta_step=None, max_depth=None,\n",
       "                                           min_child_weight=None, missing=nan,\n",
       "                                           monotone_constraints=None,\n",
       "                                           n_estimators=100,...\n",
       "                                           random_state=None, reg_alpha=None,\n",
       "                                           reg_lambda=None,\n",
       "                                           scale_pos_weight=None,\n",
       "                                           subsample=None, tree_method=None,\n",
       "                                           validate_parameters=None,\n",
       "                                           verbosity=None),\n",
       "                   n_iter=5,\n",
       "                   param_distributions={'colsample_bytree': [0.3, 0.4, 0.5,\n",
       "                                                             0.7],\n",
       "                                        'gamma': [0.0, 0.1, 0.2, 0.3, 0.4],\n",
       "                                        'learning_rate': [0.05, 0.1, 0.15, 0.2,\n",
       "                                                          0.25, 0.3],\n",
       "                                        'max_depth': [3, 4, 5, 6, 8, 10, 12,\n",
       "                                                      15],\n",
       "                                        'min_child_weight': [1, 3, 5, 7]},\n",
       "                   verbose=3)"
      ]
     },
     "execution_count": 106,
     "metadata": {},
     "output_type": "execute_result"
    }
   ],
   "source": [
    "rs_cv.fit(x_new, y)"
   ]
  },
  {
   "cell_type": "code",
   "execution_count": 107,
   "metadata": {},
   "outputs": [
    {
     "data": {
      "text/plain": [
       "XGBClassifier(base_score=0.5, booster='gbtree', colsample_bylevel=1,\n",
       "              colsample_bynode=1, colsample_bytree=0.5, gamma=0.4, gpu_id=-1,\n",
       "              importance_type='gain', interaction_constraints='',\n",
       "              learning_rate=0.2, max_delta_step=0, max_depth=4,\n",
       "              min_child_weight=5, missing=nan, monotone_constraints='()',\n",
       "              n_estimators=100, n_jobs=0, num_parallel_tree=1, random_state=0,\n",
       "              reg_alpha=0, reg_lambda=1, scale_pos_weight=1, subsample=1,\n",
       "              tree_method='exact', validate_parameters=1, verbosity=None)"
      ]
     },
     "execution_count": 107,
     "metadata": {},
     "output_type": "execute_result"
    }
   ],
   "source": [
    "rs_cv.best_estimator_"
   ]
  },
  {
   "cell_type": "code",
   "execution_count": 108,
   "metadata": {},
   "outputs": [],
   "source": [
    "classifier = xgboost.XGBClassifier(base_score=0.5, booster='gbtree', colsample_bylevel=1,\n",
    "              colsample_bynode=1, colsample_bytree=0.3, gamma=0.4, gpu_id=-1,\n",
    "              importance_type='gain', interaction_constraints='',\n",
    "              learning_rate=0.3, max_delta_step=0, max_depth=12,\n",
    "              min_child_weight=5, missing=None, monotone_constraints='()',\n",
    "              n_estimators=100, n_jobs=0, num_parallel_tree=1, random_state=0,\n",
    "              reg_alpha=0, reg_lambda=1, scale_pos_weight=1, subsample=1,\n",
    "              tree_method='exact', validate_parameters=1, verbosity=None)"
   ]
  },
  {
   "cell_type": "markdown",
   "metadata": {},
   "source": [
    "- **`K-Fold CV`**"
   ]
  },
  {
   "cell_type": "code",
   "execution_count": 109,
   "metadata": {},
   "outputs": [
    {
     "name": "stdout",
     "output_type": "stream",
     "text": [
      "Final Mean Accuracy:  0.5345911949685535\n",
      "Standard Deviation: 0.06226097444409851\n"
     ]
    }
   ],
   "source": [
    "score5=cross_val_score(classifier, x_new, y, cv = 3)\n",
    "print(\"Final Mean Accuracy: \", score5.mean())\n",
    "print('Standard Deviation:',score5.std())"
   ]
  },
  {
   "cell_type": "markdown",
   "metadata": {},
   "source": [
    "### 5. Linear Discrimenant Analysis"
   ]
  },
  {
   "cell_type": "code",
   "execution_count": 110,
   "metadata": {},
   "outputs": [
    {
     "data": {
      "text/plain": [
       "0.53125"
      ]
     },
     "execution_count": 110,
     "metadata": {},
     "output_type": "execute_result"
    }
   ],
   "source": [
    "from sklearn.discriminant_analysis import LinearDiscriminantAnalysis\n",
    "\n",
    "lda = LinearDiscriminantAnalysis()\n",
    "lda.fit(x_train, y_train)\n",
    "y_lda_pred = lda.predict(x_test)\n",
    "accuracy_score(y_test, y_lda_pred)"
   ]
  },
  {
   "cell_type": "markdown",
   "metadata": {},
   "source": [
    "- **`K-Fold CV`**"
   ]
  },
  {
   "cell_type": "code",
   "execution_count": 111,
   "metadata": {},
   "outputs": [
    {
     "name": "stdout",
     "output_type": "stream",
     "text": [
      "Final Mean Accuracy:  0.5436363636363636\n",
      "Standard Deviation: 0.15382004440451205\n"
     ]
    }
   ],
   "source": [
    "score6=cross_val_score(lda, x_new, y, cv = 15)\n",
    "print(\"Final Mean Accuracy: \", score6.mean())\n",
    "print('Standard Deviation:',score6.std())"
   ]
  },
  {
   "cell_type": "markdown",
   "metadata": {},
   "source": [
    "### 6. SVM"
   ]
  },
  {
   "cell_type": "code",
   "execution_count": 112,
   "metadata": {},
   "outputs": [
    {
     "data": {
      "text/plain": [
       "0.46875"
      ]
     },
     "execution_count": 112,
     "metadata": {},
     "output_type": "execute_result"
    }
   ],
   "source": [
    "from sklearn.svm import SVC\n",
    "\n",
    "sv = SVC()\n",
    "sv.fit(x_train, y_train)\n",
    "y_sv_pred = sv.predict(x_test)\n",
    "accuracy_score(y_test, y_sv_pred)"
   ]
  },
  {
   "cell_type": "markdown",
   "metadata": {},
   "source": [
    "- **`K-Fold CV`**"
   ]
  },
  {
   "cell_type": "code",
   "execution_count": 113,
   "metadata": {},
   "outputs": [
    {
     "name": "stdout",
     "output_type": "stream",
     "text": [
      "Final Mean Accuracy:  0.5220125786163522\n",
      "Standard Deviation: 0.023532436394804658\n"
     ]
    }
   ],
   "source": [
    "score7 = cross_val_score(sv, x_new, y, cv = 3)\n",
    "print(\"Final Mean Accuracy: \", score7.mean())\n",
    "print('Standard Deviation:',score7.std())"
   ]
  },
  {
   "cell_type": "markdown",
   "metadata": {},
   "source": [
    "### 7. Naïve Bayes"
   ]
  },
  {
   "cell_type": "code",
   "execution_count": 114,
   "metadata": {},
   "outputs": [
    {
     "data": {
      "text/plain": [
       "0.625"
      ]
     },
     "execution_count": 114,
     "metadata": {},
     "output_type": "execute_result"
    }
   ],
   "source": [
    "from sklearn.naive_bayes import MultinomialNB\n",
    "\n",
    "mnb = MultinomialNB()\n",
    "mnb.fit(x_train, y_train)\n",
    "y_mnb_pred = mnb.predict(x_test)\n",
    "accuracy_score(y_test, y_mnb_pred)"
   ]
  },
  {
   "cell_type": "markdown",
   "metadata": {},
   "source": [
    "- **`K-Fold CV`**"
   ]
  },
  {
   "cell_type": "code",
   "execution_count": 115,
   "metadata": {},
   "outputs": [
    {
     "name": "stdout",
     "output_type": "stream",
     "text": [
      "Final Mean Accuracy:  0.5911949685534591\n",
      "Standard Deviation: 0.06226097444409851\n"
     ]
    }
   ],
   "source": [
    "score8 = cross_val_score(mnb, x_new, y, cv = 3)\n",
    "print(\"Final Mean Accuracy: \", score8.mean())\n",
    "print('Standard Deviation:',score8.std())"
   ]
  },
  {
   "cell_type": "markdown",
   "metadata": {},
   "source": [
    "## **`Models Using PCA`**"
   ]
  },
  {
   "cell_type": "code",
   "execution_count": 116,
   "metadata": {},
   "outputs": [],
   "source": [
    "from sklearn.decomposition import PCA\n",
    "\n",
    "pca = PCA(n_components = 10)\n",
    "pca.fit(x_new)\n",
    "pca_data = pca.transform(x_new)"
   ]
  },
  {
   "cell_type": "markdown",
   "metadata": {},
   "source": [
    "##### ***Split new data into train and test***\n",
    "- Independent (pca_data (x)) \n",
    "- Dependent data (y) "
   ]
  },
  {
   "cell_type": "code",
   "execution_count": 117,
   "metadata": {},
   "outputs": [],
   "source": [
    "x2_train, x2_test, y2_train, y2_test = train_test_split(pca_data, y, test_size = 0.2, random_state = 0)"
   ]
  },
  {
   "cell_type": "markdown",
   "metadata": {},
   "source": [
    "### ***Classification Models using pca data***\n",
    "### ***`K-Fold CV`***"
   ]
  },
  {
   "cell_type": "markdown",
   "metadata": {},
   "source": [
    "### 1. Random Forest"
   ]
  },
  {
   "cell_type": "code",
   "execution_count": 118,
   "metadata": {},
   "outputs": [
    {
     "name": "stdout",
     "output_type": "stream",
     "text": [
      "Final Mean Accuracy:  0.5345911949685535\n",
      "Standard Deviation: 0.10257551214025212\n"
     ]
    }
   ],
   "source": [
    "rfc = RandomForestClassifier(n_estimators = 120)\n",
    "\n",
    "score = cross_val_score(rfc, pca_data, y, cv = 3)\n",
    "print(\"Final Mean Accuracy: \", score.mean())\n",
    "print('Standard Deviation:', score.std())"
   ]
  },
  {
   "cell_type": "markdown",
   "metadata": {},
   "source": [
    "### 2. Logistic Regression"
   ]
  },
  {
   "cell_type": "code",
   "execution_count": 119,
   "metadata": {},
   "outputs": [
    {
     "name": "stdout",
     "output_type": "stream",
     "text": [
      "Final Mean Accuracy:  0.5911949685534591\n",
      "Standard Deviation: 0.10486372327379286\n"
     ]
    }
   ],
   "source": [
    "logit = LogisticRegression()\n",
    "\n",
    "score = cross_val_score(logit, pca_data, y, cv = 3)\n",
    "print(\"Final Mean Accuracy: \", score.mean())\n",
    "print('Standard Deviation:', score.std())"
   ]
  },
  {
   "cell_type": "markdown",
   "metadata": {},
   "source": [
    "### 3. Gradient Boosting"
   ]
  },
  {
   "cell_type": "code",
   "execution_count": 120,
   "metadata": {},
   "outputs": [
    {
     "name": "stdout",
     "output_type": "stream",
     "text": [
      "Final Mean Accuracy:  0.5660377358490566\n",
      "Standard Deviation: 0.09620791535080724\n"
     ]
    }
   ],
   "source": [
    "gb = GradientBoostingClassifier()\n",
    "\n",
    "score = cross_val_score(gb, pca_data, y, cv = 3)\n",
    "print(\"Final Mean Accuracy: \", score.mean())\n",
    "print('Standard Deviation:', score.std())"
   ]
  },
  {
   "cell_type": "markdown",
   "metadata": {},
   "source": [
    "### 4. xgboost "
   ]
  },
  {
   "cell_type": "code",
   "execution_count": 121,
   "metadata": {},
   "outputs": [
    {
     "name": "stdout",
     "output_type": "stream",
     "text": [
      "Final Mean Accuracy:  0.559748427672956\n",
      "Standard Deviation: 0.06226097444409851\n"
     ]
    }
   ],
   "source": [
    "import xgboost as xgb\n",
    "xgb = xgb.XGBRFClassifier()\n",
    "\n",
    "score = cross_val_score(xgb, pca_data, y, cv = 3)\n",
    "print(\"Final Mean Accuracy: \", score.mean())\n",
    "print('Standard Deviation:', score.std())"
   ]
  },
  {
   "cell_type": "markdown",
   "metadata": {},
   "source": [
    "### 5. xgboost with patameters"
   ]
  },
  {
   "cell_type": "code",
   "execution_count": 122,
   "metadata": {},
   "outputs": [
    {
     "name": "stdout",
     "output_type": "stream",
     "text": [
      "Final Mean Accuracy:  0.5408805031446541\n",
      "Standard Deviation: 0.07115539936468401\n"
     ]
    }
   ],
   "source": [
    "score = cross_val_score(classifier, pca_data, y, cv = 3)\n",
    "print(\"Final Mean Accuracy: \", score.mean())\n",
    "print('Standard Deviation:', score.std())"
   ]
  },
  {
   "cell_type": "markdown",
   "metadata": {},
   "source": [
    "### 6. Linear Discrimenant Analysis"
   ]
  },
  {
   "cell_type": "code",
   "execution_count": 123,
   "metadata": {},
   "outputs": [
    {
     "name": "stdout",
     "output_type": "stream",
     "text": [
      "Final Mean Accuracy:  0.5723270440251572\n",
      "Standard Deviation: 0.12452194888819702\n"
     ]
    }
   ],
   "source": [
    "lda = LinearDiscriminantAnalysis()\n",
    "\n",
    "score = cross_val_score(lda, pca_data, y, cv = 3)\n",
    "print(\"Final Mean Accuracy: \", score.mean())\n",
    "print('Standard Deviation:', score.std())"
   ]
  },
  {
   "cell_type": "markdown",
   "metadata": {},
   "source": [
    "### 7. SVM"
   ]
  },
  {
   "cell_type": "code",
   "execution_count": 124,
   "metadata": {},
   "outputs": [
    {
     "name": "stdout",
     "output_type": "stream",
     "text": [
      "Final Mean Accuracy:  0.5974842767295597\n",
      "Standard Deviation: 0.023532436394804658\n"
     ]
    }
   ],
   "source": [
    "from sklearn.svm import SVC\n",
    "\n",
    "sv = SVC()\n",
    "score = cross_val_score(sv, pca_data, y, cv = 3)\n",
    "print(\"Final Mean Accuracy: \", score.mean())\n",
    "print('Standard Deviation:',score.std())"
   ]
  },
  {
   "cell_type": "markdown",
   "metadata": {},
   "source": [
    "### ***Algorithm that gives max Accuracy:-*** \n",
    "- **Without PCA:-** Naïve Bayes\n",
    "            - Mean Accuracy:  59.11 %\n",
    "            - Standard Deviation: 0.062260\n",
    "    \n",
    "- **With PCA:-** SVM\n",
    "           - Mean Accuracy:- 59.74 %\n",
    "           - Standard Deviation:- 0.0235324"
   ]
  },
  {
   "cell_type": "markdown",
   "metadata": {},
   "source": [
    "# **`D. CN , AD and MCI Classification`**\n",
    "- Three Way"
   ]
  },
  {
   "cell_type": "markdown",
   "metadata": {},
   "source": [
    "###  ***Load Dataset***"
   ]
  },
  {
   "cell_type": "code",
   "execution_count": 125,
   "metadata": {},
   "outputs": [
    {
     "data": {
      "text/html": [
       "<div>\n",
       "<style scoped>\n",
       "    .dataframe tbody tr th:only-of-type {\n",
       "        vertical-align: middle;\n",
       "    }\n",
       "\n",
       "    .dataframe tbody tr th {\n",
       "        vertical-align: top;\n",
       "    }\n",
       "\n",
       "    .dataframe thead th {\n",
       "        text-align: right;\n",
       "    }\n",
       "</style>\n",
       "<table border=\"1\" class=\"dataframe\">\n",
       "  <thead>\n",
       "    <tr style=\"text-align: right;\">\n",
       "      <th></th>\n",
       "      <th>Measure:volume</th>\n",
       "      <th>Left-Lateral-Ventricle</th>\n",
       "      <th>Left-Inf-Lat-Vent</th>\n",
       "      <th>Left-Cerebellum-White-Matter</th>\n",
       "      <th>Left-Cerebellum-Cortex</th>\n",
       "      <th>Left-Thalamus-Proper</th>\n",
       "      <th>Left-Caudate</th>\n",
       "      <th>Left-Putamen</th>\n",
       "      <th>Left-Pallidum</th>\n",
       "      <th>3rd-Ventricle</th>\n",
       "      <th>...</th>\n",
       "      <th>rh_superiortemporal_area</th>\n",
       "      <th>rh_supramarginal_area</th>\n",
       "      <th>rh_frontalpole_area</th>\n",
       "      <th>rh_temporalpole_area</th>\n",
       "      <th>rh_transversetemporal_area</th>\n",
       "      <th>rh_insula_area</th>\n",
       "      <th>rh_WhiteSurfArea_area</th>\n",
       "      <th>BrainSegVolNotVent.2</th>\n",
       "      <th>eTIV.1</th>\n",
       "      <th>category</th>\n",
       "    </tr>\n",
       "  </thead>\n",
       "  <tbody>\n",
       "    <tr>\n",
       "      <th>0</th>\n",
       "      <td>002_S_0295</td>\n",
       "      <td>23090.0</td>\n",
       "      <td>1020.1</td>\n",
       "      <td>13583.2</td>\n",
       "      <td>57689.5</td>\n",
       "      <td>6969.1</td>\n",
       "      <td>3218.3</td>\n",
       "      <td>4556.4</td>\n",
       "      <td>2030.0</td>\n",
       "      <td>2086.8</td>\n",
       "      <td>...</td>\n",
       "      <td>3180</td>\n",
       "      <td>3186</td>\n",
       "      <td>267</td>\n",
       "      <td>461</td>\n",
       "      <td>266</td>\n",
       "      <td>2741</td>\n",
       "      <td>79747.8</td>\n",
       "      <td>1091729</td>\n",
       "      <td>1.627656e+06</td>\n",
       "      <td>0</td>\n",
       "    </tr>\n",
       "    <tr>\n",
       "      <th>1</th>\n",
       "      <td>002_S_0413</td>\n",
       "      <td>14953.7</td>\n",
       "      <td>841.5</td>\n",
       "      <td>11062.3</td>\n",
       "      <td>46273.3</td>\n",
       "      <td>6061.1</td>\n",
       "      <td>3376.1</td>\n",
       "      <td>3502.1</td>\n",
       "      <td>1390.6</td>\n",
       "      <td>2545.5</td>\n",
       "      <td>...</td>\n",
       "      <td>3562</td>\n",
       "      <td>3288</td>\n",
       "      <td>296</td>\n",
       "      <td>424</td>\n",
       "      <td>313</td>\n",
       "      <td>1911</td>\n",
       "      <td>80805.6</td>\n",
       "      <td>1035836</td>\n",
       "      <td>1.586448e+06</td>\n",
       "      <td>0</td>\n",
       "    </tr>\n",
       "    <tr>\n",
       "      <th>2</th>\n",
       "      <td>002_S_0559</td>\n",
       "      <td>16334.9</td>\n",
       "      <td>1261.3</td>\n",
       "      <td>12688.1</td>\n",
       "      <td>52498.2</td>\n",
       "      <td>6931.2</td>\n",
       "      <td>3402.5</td>\n",
       "      <td>4248.9</td>\n",
       "      <td>1774.8</td>\n",
       "      <td>2673.0</td>\n",
       "      <td>...</td>\n",
       "      <td>3891</td>\n",
       "      <td>4059</td>\n",
       "      <td>300</td>\n",
       "      <td>487</td>\n",
       "      <td>310</td>\n",
       "      <td>2342</td>\n",
       "      <td>87450.3</td>\n",
       "      <td>1127258</td>\n",
       "      <td>1.660782e+06</td>\n",
       "      <td>0</td>\n",
       "    </tr>\n",
       "    <tr>\n",
       "      <th>3</th>\n",
       "      <td>002_S_1261</td>\n",
       "      <td>14344.1</td>\n",
       "      <td>867.0</td>\n",
       "      <td>11743.8</td>\n",
       "      <td>52665.4</td>\n",
       "      <td>6080.0</td>\n",
       "      <td>3152.7</td>\n",
       "      <td>3615.4</td>\n",
       "      <td>1713.3</td>\n",
       "      <td>1177.5</td>\n",
       "      <td>...</td>\n",
       "      <td>3086</td>\n",
       "      <td>3220</td>\n",
       "      <td>337</td>\n",
       "      <td>349</td>\n",
       "      <td>319</td>\n",
       "      <td>2249</td>\n",
       "      <td>76685.4</td>\n",
       "      <td>1008174</td>\n",
       "      <td>1.456087e+06</td>\n",
       "      <td>0</td>\n",
       "    </tr>\n",
       "    <tr>\n",
       "      <th>4</th>\n",
       "      <td>002_S_1280</td>\n",
       "      <td>11270.4</td>\n",
       "      <td>405.6</td>\n",
       "      <td>13772.4</td>\n",
       "      <td>44625.8</td>\n",
       "      <td>5537.0</td>\n",
       "      <td>3454.3</td>\n",
       "      <td>4499.0</td>\n",
       "      <td>1735.1</td>\n",
       "      <td>1182.5</td>\n",
       "      <td>...</td>\n",
       "      <td>3108</td>\n",
       "      <td>4065</td>\n",
       "      <td>275</td>\n",
       "      <td>451</td>\n",
       "      <td>319</td>\n",
       "      <td>2286</td>\n",
       "      <td>74440.0</td>\n",
       "      <td>954403</td>\n",
       "      <td>1.395987e+06</td>\n",
       "      <td>0</td>\n",
       "    </tr>\n",
       "  </tbody>\n",
       "</table>\n",
       "<p>5 rows × 142 columns</p>\n",
       "</div>"
      ],
      "text/plain": [
       "  Measure:volume  Left-Lateral-Ventricle  Left-Inf-Lat-Vent  \\\n",
       "0     002_S_0295                 23090.0             1020.1   \n",
       "1     002_S_0413                 14953.7              841.5   \n",
       "2     002_S_0559                 16334.9             1261.3   \n",
       "3     002_S_1261                 14344.1              867.0   \n",
       "4     002_S_1280                 11270.4              405.6   \n",
       "\n",
       "   Left-Cerebellum-White-Matter  Left-Cerebellum-Cortex  Left-Thalamus-Proper  \\\n",
       "0                       13583.2                 57689.5                6969.1   \n",
       "1                       11062.3                 46273.3                6061.1   \n",
       "2                       12688.1                 52498.2                6931.2   \n",
       "3                       11743.8                 52665.4                6080.0   \n",
       "4                       13772.4                 44625.8                5537.0   \n",
       "\n",
       "   Left-Caudate  Left-Putamen  Left-Pallidum  3rd-Ventricle  ...  \\\n",
       "0        3218.3        4556.4         2030.0         2086.8  ...   \n",
       "1        3376.1        3502.1         1390.6         2545.5  ...   \n",
       "2        3402.5        4248.9         1774.8         2673.0  ...   \n",
       "3        3152.7        3615.4         1713.3         1177.5  ...   \n",
       "4        3454.3        4499.0         1735.1         1182.5  ...   \n",
       "\n",
       "   rh_superiortemporal_area  rh_supramarginal_area  rh_frontalpole_area  \\\n",
       "0                      3180                   3186                  267   \n",
       "1                      3562                   3288                  296   \n",
       "2                      3891                   4059                  300   \n",
       "3                      3086                   3220                  337   \n",
       "4                      3108                   4065                  275   \n",
       "\n",
       "   rh_temporalpole_area  rh_transversetemporal_area  rh_insula_area  \\\n",
       "0                   461                         266            2741   \n",
       "1                   424                         313            1911   \n",
       "2                   487                         310            2342   \n",
       "3                   349                         319            2249   \n",
       "4                   451                         319            2286   \n",
       "\n",
       "   rh_WhiteSurfArea_area  BrainSegVolNotVent.2        eTIV.1  category  \n",
       "0                79747.8               1091729  1.627656e+06         0  \n",
       "1                80805.6               1035836  1.586448e+06         0  \n",
       "2                87450.3               1127258  1.660782e+06         0  \n",
       "3                76685.4               1008174  1.456087e+06         0  \n",
       "4                74440.0                954403  1.395987e+06         0  \n",
       "\n",
       "[5 rows x 142 columns]"
      ]
     },
     "execution_count": 125,
     "metadata": {},
     "output_type": "execute_result"
    }
   ],
   "source": [
    "data3 = pd.read_csv('CN_vs_AD_vs_MCI.csv')\n",
    "data3.head()"
   ]
  },
  {
   "cell_type": "code",
   "execution_count": 126,
   "metadata": {},
   "outputs": [
    {
     "data": {
      "text/plain": [
       "(239, 142)"
      ]
     },
     "execution_count": 126,
     "metadata": {},
     "output_type": "execute_result"
    }
   ],
   "source": [
    "data3.shape"
   ]
  },
  {
   "cell_type": "code",
   "execution_count": 127,
   "metadata": {},
   "outputs": [
    {
     "data": {
      "text/html": [
       "<div>\n",
       "<style scoped>\n",
       "    .dataframe tbody tr th:only-of-type {\n",
       "        vertical-align: middle;\n",
       "    }\n",
       "\n",
       "    .dataframe tbody tr th {\n",
       "        vertical-align: top;\n",
       "    }\n",
       "\n",
       "    .dataframe thead th {\n",
       "        text-align: right;\n",
       "    }\n",
       "</style>\n",
       "<table border=\"1\" class=\"dataframe\">\n",
       "  <thead>\n",
       "    <tr style=\"text-align: right;\">\n",
       "      <th></th>\n",
       "      <th>Left-Lateral-Ventricle</th>\n",
       "      <th>Left-Inf-Lat-Vent</th>\n",
       "      <th>Left-Cerebellum-White-Matter</th>\n",
       "      <th>Left-Cerebellum-Cortex</th>\n",
       "      <th>Left-Thalamus-Proper</th>\n",
       "      <th>Left-Caudate</th>\n",
       "      <th>Left-Putamen</th>\n",
       "      <th>Left-Pallidum</th>\n",
       "      <th>3rd-Ventricle</th>\n",
       "      <th>4th-Ventricle</th>\n",
       "      <th>...</th>\n",
       "      <th>rh_superiortemporal_area</th>\n",
       "      <th>rh_supramarginal_area</th>\n",
       "      <th>rh_frontalpole_area</th>\n",
       "      <th>rh_temporalpole_area</th>\n",
       "      <th>rh_transversetemporal_area</th>\n",
       "      <th>rh_insula_area</th>\n",
       "      <th>rh_WhiteSurfArea_area</th>\n",
       "      <th>BrainSegVolNotVent.2</th>\n",
       "      <th>eTIV.1</th>\n",
       "      <th>category</th>\n",
       "    </tr>\n",
       "  </thead>\n",
       "  <tbody>\n",
       "    <tr>\n",
       "      <th>count</th>\n",
       "      <td>239.000000</td>\n",
       "      <td>239.000000</td>\n",
       "      <td>239.000000</td>\n",
       "      <td>239.000000</td>\n",
       "      <td>239.000000</td>\n",
       "      <td>239.000000</td>\n",
       "      <td>239.000000</td>\n",
       "      <td>239.000000</td>\n",
       "      <td>239.000000</td>\n",
       "      <td>239.000000</td>\n",
       "      <td>...</td>\n",
       "      <td>239.000000</td>\n",
       "      <td>239.000000</td>\n",
       "      <td>239.000000</td>\n",
       "      <td>239.000000</td>\n",
       "      <td>239.000000</td>\n",
       "      <td>239.000000</td>\n",
       "      <td>239.000000</td>\n",
       "      <td>2.390000e+02</td>\n",
       "      <td>2.390000e+02</td>\n",
       "      <td>239.000000</td>\n",
       "    </tr>\n",
       "    <tr>\n",
       "      <th>mean</th>\n",
       "      <td>23233.276569</td>\n",
       "      <td>1239.594561</td>\n",
       "      <td>12513.856067</td>\n",
       "      <td>49852.359833</td>\n",
       "      <td>6374.947699</td>\n",
       "      <td>3270.239749</td>\n",
       "      <td>4036.218828</td>\n",
       "      <td>1747.983264</td>\n",
       "      <td>2007.413389</td>\n",
       "      <td>2090.435146</td>\n",
       "      <td>...</td>\n",
       "      <td>3491.903766</td>\n",
       "      <td>3430.878661</td>\n",
       "      <td>297.179916</td>\n",
       "      <td>451.439331</td>\n",
       "      <td>311.799163</td>\n",
       "      <td>2338.543933</td>\n",
       "      <td>80533.869874</td>\n",
       "      <td>1.017856e+06</td>\n",
       "      <td>1.550777e+06</td>\n",
       "      <td>0.995816</td>\n",
       "    </tr>\n",
       "    <tr>\n",
       "      <th>std</th>\n",
       "      <td>12537.678148</td>\n",
       "      <td>904.331043</td>\n",
       "      <td>1890.512815</td>\n",
       "      <td>5306.998455</td>\n",
       "      <td>776.274912</td>\n",
       "      <td>605.229698</td>\n",
       "      <td>644.828414</td>\n",
       "      <td>255.666945</td>\n",
       "      <td>667.779948</td>\n",
       "      <td>659.769666</td>\n",
       "      <td>...</td>\n",
       "      <td>436.780452</td>\n",
       "      <td>484.473228</td>\n",
       "      <td>38.327934</td>\n",
       "      <td>63.390045</td>\n",
       "      <td>47.293130</td>\n",
       "      <td>342.436667</td>\n",
       "      <td>8178.505325</td>\n",
       "      <td>1.092144e+05</td>\n",
       "      <td>1.724387e+05</td>\n",
       "      <td>0.817343</td>\n",
       "    </tr>\n",
       "    <tr>\n",
       "      <th>min</th>\n",
       "      <td>4700.300000</td>\n",
       "      <td>200.300000</td>\n",
       "      <td>7697.300000</td>\n",
       "      <td>34648.900000</td>\n",
       "      <td>4277.500000</td>\n",
       "      <td>2135.500000</td>\n",
       "      <td>2144.000000</td>\n",
       "      <td>1044.600000</td>\n",
       "      <td>835.600000</td>\n",
       "      <td>1032.000000</td>\n",
       "      <td>...</td>\n",
       "      <td>2614.000000</td>\n",
       "      <td>2255.000000</td>\n",
       "      <td>185.000000</td>\n",
       "      <td>240.000000</td>\n",
       "      <td>209.000000</td>\n",
       "      <td>1595.000000</td>\n",
       "      <td>55144.400000</td>\n",
       "      <td>7.004440e+05</td>\n",
       "      <td>1.145850e+06</td>\n",
       "      <td>0.000000</td>\n",
       "    </tr>\n",
       "    <tr>\n",
       "      <th>25%</th>\n",
       "      <td>13907.450000</td>\n",
       "      <td>695.250000</td>\n",
       "      <td>11225.650000</td>\n",
       "      <td>46256.350000</td>\n",
       "      <td>5841.700000</td>\n",
       "      <td>2880.350000</td>\n",
       "      <td>3655.450000</td>\n",
       "      <td>1603.350000</td>\n",
       "      <td>1503.200000</td>\n",
       "      <td>1659.300000</td>\n",
       "      <td>...</td>\n",
       "      <td>3182.000000</td>\n",
       "      <td>3078.000000</td>\n",
       "      <td>273.000000</td>\n",
       "      <td>411.500000</td>\n",
       "      <td>280.000000</td>\n",
       "      <td>2077.000000</td>\n",
       "      <td>74867.750000</td>\n",
       "      <td>9.383455e+05</td>\n",
       "      <td>1.426039e+06</td>\n",
       "      <td>0.000000</td>\n",
       "    </tr>\n",
       "    <tr>\n",
       "      <th>50%</th>\n",
       "      <td>21301.500000</td>\n",
       "      <td>1003.900000</td>\n",
       "      <td>12402.800000</td>\n",
       "      <td>48938.000000</td>\n",
       "      <td>6366.900000</td>\n",
       "      <td>3172.400000</td>\n",
       "      <td>3995.900000</td>\n",
       "      <td>1749.800000</td>\n",
       "      <td>1951.700000</td>\n",
       "      <td>1974.500000</td>\n",
       "      <td>...</td>\n",
       "      <td>3468.000000</td>\n",
       "      <td>3416.000000</td>\n",
       "      <td>295.000000</td>\n",
       "      <td>454.000000</td>\n",
       "      <td>307.000000</td>\n",
       "      <td>2288.000000</td>\n",
       "      <td>79747.800000</td>\n",
       "      <td>1.023110e+06</td>\n",
       "      <td>1.543101e+06</td>\n",
       "      <td>1.000000</td>\n",
       "    </tr>\n",
       "    <tr>\n",
       "      <th>75%</th>\n",
       "      <td>30870.150000</td>\n",
       "      <td>1521.100000</td>\n",
       "      <td>13597.500000</td>\n",
       "      <td>53001.350000</td>\n",
       "      <td>6757.750000</td>\n",
       "      <td>3539.350000</td>\n",
       "      <td>4351.350000</td>\n",
       "      <td>1896.600000</td>\n",
       "      <td>2471.100000</td>\n",
       "      <td>2372.350000</td>\n",
       "      <td>...</td>\n",
       "      <td>3753.000000</td>\n",
       "      <td>3779.500000</td>\n",
       "      <td>318.000000</td>\n",
       "      <td>489.500000</td>\n",
       "      <td>335.500000</td>\n",
       "      <td>2542.500000</td>\n",
       "      <td>87167.600000</td>\n",
       "      <td>1.092808e+06</td>\n",
       "      <td>1.668819e+06</td>\n",
       "      <td>2.000000</td>\n",
       "    </tr>\n",
       "    <tr>\n",
       "      <th>max</th>\n",
       "      <td>77457.300000</td>\n",
       "      <td>7025.900000</td>\n",
       "      <td>20895.300000</td>\n",
       "      <td>71792.000000</td>\n",
       "      <td>9660.600000</td>\n",
       "      <td>6947.000000</td>\n",
       "      <td>6365.400000</td>\n",
       "      <td>2431.900000</td>\n",
       "      <td>4223.500000</td>\n",
       "      <td>5154.400000</td>\n",
       "      <td>...</td>\n",
       "      <td>5443.000000</td>\n",
       "      <td>4889.000000</td>\n",
       "      <td>405.000000</td>\n",
       "      <td>622.000000</td>\n",
       "      <td>475.000000</td>\n",
       "      <td>3399.000000</td>\n",
       "      <td>101210.000000</td>\n",
       "      <td>1.306117e+06</td>\n",
       "      <td>2.040867e+06</td>\n",
       "      <td>2.000000</td>\n",
       "    </tr>\n",
       "  </tbody>\n",
       "</table>\n",
       "<p>8 rows × 141 columns</p>\n",
       "</div>"
      ],
      "text/plain": [
       "       Left-Lateral-Ventricle  Left-Inf-Lat-Vent  \\\n",
       "count              239.000000         239.000000   \n",
       "mean             23233.276569        1239.594561   \n",
       "std              12537.678148         904.331043   \n",
       "min               4700.300000         200.300000   \n",
       "25%              13907.450000         695.250000   \n",
       "50%              21301.500000        1003.900000   \n",
       "75%              30870.150000        1521.100000   \n",
       "max              77457.300000        7025.900000   \n",
       "\n",
       "       Left-Cerebellum-White-Matter  Left-Cerebellum-Cortex  \\\n",
       "count                    239.000000              239.000000   \n",
       "mean                   12513.856067            49852.359833   \n",
       "std                     1890.512815             5306.998455   \n",
       "min                     7697.300000            34648.900000   \n",
       "25%                    11225.650000            46256.350000   \n",
       "50%                    12402.800000            48938.000000   \n",
       "75%                    13597.500000            53001.350000   \n",
       "max                    20895.300000            71792.000000   \n",
       "\n",
       "       Left-Thalamus-Proper  Left-Caudate  Left-Putamen  Left-Pallidum  \\\n",
       "count            239.000000    239.000000    239.000000     239.000000   \n",
       "mean            6374.947699   3270.239749   4036.218828    1747.983264   \n",
       "std              776.274912    605.229698    644.828414     255.666945   \n",
       "min             4277.500000   2135.500000   2144.000000    1044.600000   \n",
       "25%             5841.700000   2880.350000   3655.450000    1603.350000   \n",
       "50%             6366.900000   3172.400000   3995.900000    1749.800000   \n",
       "75%             6757.750000   3539.350000   4351.350000    1896.600000   \n",
       "max             9660.600000   6947.000000   6365.400000    2431.900000   \n",
       "\n",
       "       3rd-Ventricle  4th-Ventricle  ...  rh_superiortemporal_area  \\\n",
       "count     239.000000     239.000000  ...                239.000000   \n",
       "mean     2007.413389    2090.435146  ...               3491.903766   \n",
       "std       667.779948     659.769666  ...                436.780452   \n",
       "min       835.600000    1032.000000  ...               2614.000000   \n",
       "25%      1503.200000    1659.300000  ...               3182.000000   \n",
       "50%      1951.700000    1974.500000  ...               3468.000000   \n",
       "75%      2471.100000    2372.350000  ...               3753.000000   \n",
       "max      4223.500000    5154.400000  ...               5443.000000   \n",
       "\n",
       "       rh_supramarginal_area  rh_frontalpole_area  rh_temporalpole_area  \\\n",
       "count             239.000000           239.000000            239.000000   \n",
       "mean             3430.878661           297.179916            451.439331   \n",
       "std               484.473228            38.327934             63.390045   \n",
       "min              2255.000000           185.000000            240.000000   \n",
       "25%              3078.000000           273.000000            411.500000   \n",
       "50%              3416.000000           295.000000            454.000000   \n",
       "75%              3779.500000           318.000000            489.500000   \n",
       "max              4889.000000           405.000000            622.000000   \n",
       "\n",
       "       rh_transversetemporal_area  rh_insula_area  rh_WhiteSurfArea_area  \\\n",
       "count                  239.000000      239.000000             239.000000   \n",
       "mean                   311.799163     2338.543933           80533.869874   \n",
       "std                     47.293130      342.436667            8178.505325   \n",
       "min                    209.000000     1595.000000           55144.400000   \n",
       "25%                    280.000000     2077.000000           74867.750000   \n",
       "50%                    307.000000     2288.000000           79747.800000   \n",
       "75%                    335.500000     2542.500000           87167.600000   \n",
       "max                    475.000000     3399.000000          101210.000000   \n",
       "\n",
       "       BrainSegVolNotVent.2        eTIV.1    category  \n",
       "count          2.390000e+02  2.390000e+02  239.000000  \n",
       "mean           1.017856e+06  1.550777e+06    0.995816  \n",
       "std            1.092144e+05  1.724387e+05    0.817343  \n",
       "min            7.004440e+05  1.145850e+06    0.000000  \n",
       "25%            9.383455e+05  1.426039e+06    0.000000  \n",
       "50%            1.023110e+06  1.543101e+06    1.000000  \n",
       "75%            1.092808e+06  1.668819e+06    2.000000  \n",
       "max            1.306117e+06  2.040867e+06    2.000000  \n",
       "\n",
       "[8 rows x 141 columns]"
      ]
     },
     "execution_count": 127,
     "metadata": {},
     "output_type": "execute_result"
    }
   ],
   "source": [
    "data3.describe()"
   ]
  },
  {
   "cell_type": "code",
   "execution_count": 128,
   "metadata": {},
   "outputs": [
    {
     "data": {
      "text/plain": [
       "Measure:volume                  0\n",
       "Left-Lateral-Ventricle          0\n",
       "Left-Inf-Lat-Vent               0\n",
       "Left-Cerebellum-White-Matter    0\n",
       "Left-Cerebellum-Cortex          0\n",
       "                               ..\n",
       "rh_insula_area                  0\n",
       "rh_WhiteSurfArea_area           0\n",
       "BrainSegVolNotVent.2            0\n",
       "eTIV.1                          0\n",
       "category                        0\n",
       "Length: 142, dtype: int64"
      ]
     },
     "execution_count": 128,
     "metadata": {},
     "output_type": "execute_result"
    }
   ],
   "source": [
    "data3.isnull().sum()"
   ]
  },
  {
   "cell_type": "markdown",
   "metadata": {},
   "source": [
    "### ***Seperate Dependent `(y)` and Independent `(x)` variables***"
   ]
  },
  {
   "cell_type": "code",
   "execution_count": 129,
   "metadata": {},
   "outputs": [],
   "source": [
    "x = data3.drop(columns = ['category','Measure:volume'], axis = 1)\n",
    "y = data3['category']"
   ]
  },
  {
   "cell_type": "markdown",
   "metadata": {},
   "source": [
    "### ***Scaling data in between 0 to 1***\n",
    "- `MinMaxScaler`"
   ]
  },
  {
   "cell_type": "code",
   "execution_count": 130,
   "metadata": {},
   "outputs": [],
   "source": [
    "x_new = x.copy()\n",
    "def min_max_scale(col, x_new):\n",
    "    mms = MinMaxScaler()\n",
    "    x_new[col] = mms.fit_transform(x_new[[col]])\n",
    "    return x_new"
   ]
  },
  {
   "cell_type": "code",
   "execution_count": 131,
   "metadata": {},
   "outputs": [],
   "source": [
    "for col in list(x_new.columns):\n",
    "    x_new = min_max_scale(col, x_new)"
   ]
  },
  {
   "cell_type": "markdown",
   "metadata": {},
   "source": [
    "### ***Split data into `train` and `test`***"
   ]
  },
  {
   "cell_type": "code",
   "execution_count": 132,
   "metadata": {},
   "outputs": [],
   "source": [
    "x_train, x_test, y_train, y_test = train_test_split(x_new, y, test_size = 0.2, random_state = 0)"
   ]
  },
  {
   "cell_type": "markdown",
   "metadata": {},
   "source": [
    "### ***Classification Models***"
   ]
  },
  {
   "cell_type": "markdown",
   "metadata": {},
   "source": [
    "### 1. Random Forest"
   ]
  },
  {
   "cell_type": "code",
   "execution_count": 133,
   "metadata": {},
   "outputs": [
    {
     "data": {
      "text/plain": [
       "0.4166666666666667"
      ]
     },
     "execution_count": 133,
     "metadata": {},
     "output_type": "execute_result"
    }
   ],
   "source": [
    "from sklearn.ensemble import RandomForestClassifier\n",
    "\n",
    "rfc = RandomForestClassifier(n_estimators = 120)\n",
    "rfc.fit(x_train, y_train)\n",
    "y_pred = rfc.predict(x_test)\n",
    "accuracy_score(y_test, y_pred)"
   ]
  },
  {
   "cell_type": "markdown",
   "metadata": {},
   "source": [
    "- **`K-Fold CV`**"
   ]
  },
  {
   "cell_type": "code",
   "execution_count": 134,
   "metadata": {},
   "outputs": [
    {
     "name": "stdout",
     "output_type": "stream",
     "text": [
      "Final Mean Accuracy:  0.46888297872340434\n",
      "Standard Deviation: 0.04582604507397925\n"
     ]
    }
   ],
   "source": [
    "score1 = cross_val_score(rfc, x_new, y, cv = 5)\n",
    "print(\"Final Mean Accuracy: \", score1.mean())\n",
    "print('Standard Deviation:', score1.std())"
   ]
  },
  {
   "cell_type": "markdown",
   "metadata": {},
   "source": [
    "### 2. Gradient Boosting"
   ]
  },
  {
   "cell_type": "code",
   "execution_count": 135,
   "metadata": {},
   "outputs": [
    {
     "data": {
      "text/plain": [
       "0.5416666666666666"
      ]
     },
     "execution_count": 135,
     "metadata": {},
     "output_type": "execute_result"
    }
   ],
   "source": [
    "from sklearn.ensemble import GradientBoostingClassifier\n",
    "\n",
    "gb = GradientBoostingClassifier()\n",
    "gb.fit(x_train, y_train)\n",
    "y_gb_pred = gb.predict(x_test)\n",
    "accuracy_score(y_test, y_gb_pred)"
   ]
  },
  {
   "cell_type": "markdown",
   "metadata": {},
   "source": [
    "- **`K-Fold CV`**"
   ]
  },
  {
   "cell_type": "code",
   "execution_count": 136,
   "metadata": {},
   "outputs": [
    {
     "name": "stdout",
     "output_type": "stream",
     "text": [
      "Final Mean Accuracy:  0.47716244725738394\n",
      "Standard Deviation: 0.046375667836187545\n"
     ]
    }
   ],
   "source": [
    "score3 = cross_val_score(gb, x_new, y, cv = 3)\n",
    "print(\"Final Mean Accuracy: \", score3.mean())\n",
    "print('Standard Deviation:', score3.std())"
   ]
  },
  {
   "cell_type": "markdown",
   "metadata": {},
   "source": [
    "### 3. xgboost "
   ]
  },
  {
   "cell_type": "code",
   "execution_count": 137,
   "metadata": {},
   "outputs": [
    {
     "data": {
      "text/plain": [
       "0.375"
      ]
     },
     "execution_count": 137,
     "metadata": {},
     "output_type": "execute_result"
    }
   ],
   "source": [
    "import xgboost as xgb\n",
    "xgb = xgb.XGBRFClassifier()\n",
    "xgb.fit(x_train, y_train)\n",
    "y_xgb_pred = xgb.predict(x_test)\n",
    "accuracy_score(y_test, y_xgb_pred)"
   ]
  },
  {
   "cell_type": "markdown",
   "metadata": {},
   "source": [
    "- **`K-Fold CV`**"
   ]
  },
  {
   "cell_type": "code",
   "execution_count": 138,
   "metadata": {},
   "outputs": [
    {
     "name": "stdout",
     "output_type": "stream",
     "text": [
      "Final Mean Accuracy:  0.49377637130801694\n",
      "Standard Deviation: 0.06187718217236623\n"
     ]
    }
   ],
   "source": [
    "score4 = cross_val_score(xgb, x_new, y, cv = 3)\n",
    "print(\"Final Mean Accuracy: \", score4.mean())\n",
    "print('Standard Deviation:', score4.std())"
   ]
  },
  {
   "cell_type": "markdown",
   "metadata": {},
   "source": [
    "### 4. xgboost with parameters"
   ]
  },
  {
   "cell_type": "code",
   "execution_count": 139,
   "metadata": {},
   "outputs": [],
   "source": [
    "## Hyperparameter optimization using RandomizedSearchCV\n",
    "from sklearn.model_selection import RandomizedSearchCV, GridSearchCV\n",
    "import xgboost"
   ]
  },
  {
   "cell_type": "code",
   "execution_count": 140,
   "metadata": {},
   "outputs": [],
   "source": [
    "classifier = xgboost.XGBClassifier()"
   ]
  },
  {
   "cell_type": "code",
   "execution_count": 141,
   "metadata": {},
   "outputs": [],
   "source": [
    "params={\n",
    " \"learning_rate\"    : [0.05, 0.10, 0.15, 0.20, 0.25, 0.30 ] ,\n",
    " \"max_depth\"        : [ 3, 4, 5, 6, 8, 10, 12, 15],\n",
    " \"min_child_weight\" : [ 1, 3, 5, 7 ],\n",
    " \"gamma\"            : [ 0.0, 0.1, 0.2 , 0.3, 0.4 ],\n",
    " \"colsample_bytree\" : [ 0.3, 0.4, 0.5 , 0.7 ]\n",
    "    \n",
    "}"
   ]
  },
  {
   "cell_type": "code",
   "execution_count": 142,
   "metadata": {},
   "outputs": [],
   "source": [
    "rs_cv = RandomizedSearchCV(classifier, param_distributions = params, n_iter = 5, cv = 3, verbose = 3)"
   ]
  },
  {
   "cell_type": "code",
   "execution_count": 143,
   "metadata": {},
   "outputs": [
    {
     "name": "stdout",
     "output_type": "stream",
     "text": [
      "Fitting 3 folds for each of 5 candidates, totalling 15 fits\n",
      "[CV] min_child_weight=5, max_depth=5, learning_rate=0.25, gamma=0.1, colsample_bytree=0.4 \n"
     ]
    },
    {
     "name": "stderr",
     "output_type": "stream",
     "text": [
      "[Parallel(n_jobs=1)]: Using backend SequentialBackend with 1 concurrent workers.\n"
     ]
    },
    {
     "name": "stdout",
     "output_type": "stream",
     "text": [
      "[CV]  min_child_weight=5, max_depth=5, learning_rate=0.25, gamma=0.1, colsample_bytree=0.4, score=0.588, total=   0.2s\n",
      "[CV] min_child_weight=5, max_depth=5, learning_rate=0.25, gamma=0.1, colsample_bytree=0.4 \n"
     ]
    },
    {
     "name": "stderr",
     "output_type": "stream",
     "text": [
      "[Parallel(n_jobs=1)]: Done   1 out of   1 | elapsed:    0.1s remaining:    0.0s\n"
     ]
    },
    {
     "name": "stdout",
     "output_type": "stream",
     "text": [
      "[CV]  min_child_weight=5, max_depth=5, learning_rate=0.25, gamma=0.1, colsample_bytree=0.4, score=0.375, total=   0.3s\n",
      "[CV] min_child_weight=5, max_depth=5, learning_rate=0.25, gamma=0.1, colsample_bytree=0.4 \n"
     ]
    },
    {
     "name": "stderr",
     "output_type": "stream",
     "text": [
      "[Parallel(n_jobs=1)]: Done   2 out of   2 | elapsed:    0.4s remaining:    0.0s\n"
     ]
    },
    {
     "name": "stdout",
     "output_type": "stream",
     "text": [
      "[CV]  min_child_weight=5, max_depth=5, learning_rate=0.25, gamma=0.1, colsample_bytree=0.4, score=0.519, total=   0.2s\n",
      "[CV] min_child_weight=5, max_depth=4, learning_rate=0.15, gamma=0.4, colsample_bytree=0.4 \n",
      "[CV]  min_child_weight=5, max_depth=4, learning_rate=0.15, gamma=0.4, colsample_bytree=0.4, score=0.525, total=   0.3s\n",
      "[CV] min_child_weight=5, max_depth=4, learning_rate=0.15, gamma=0.4, colsample_bytree=0.4 \n",
      "[CV]  min_child_weight=5, max_depth=4, learning_rate=0.15, gamma=0.4, colsample_bytree=0.4, score=0.425, total=   0.2s\n",
      "[CV] min_child_weight=5, max_depth=4, learning_rate=0.15, gamma=0.4, colsample_bytree=0.4 \n",
      "[CV]  min_child_weight=5, max_depth=4, learning_rate=0.15, gamma=0.4, colsample_bytree=0.4, score=0.544, total=   0.3s\n",
      "[CV] min_child_weight=1, max_depth=5, learning_rate=0.15, gamma=0.3, colsample_bytree=0.5 \n",
      "[CV]  min_child_weight=1, max_depth=5, learning_rate=0.15, gamma=0.3, colsample_bytree=0.5, score=0.588, total=   0.4s\n",
      "[CV] min_child_weight=1, max_depth=5, learning_rate=0.15, gamma=0.3, colsample_bytree=0.5 \n",
      "[CV]  min_child_weight=1, max_depth=5, learning_rate=0.15, gamma=0.3, colsample_bytree=0.5, score=0.400, total=   0.4s\n",
      "[CV] min_child_weight=1, max_depth=5, learning_rate=0.15, gamma=0.3, colsample_bytree=0.5 \n",
      "[CV]  min_child_weight=1, max_depth=5, learning_rate=0.15, gamma=0.3, colsample_bytree=0.5, score=0.468, total=   0.6s\n",
      "[CV] min_child_weight=3, max_depth=3, learning_rate=0.25, gamma=0.1, colsample_bytree=0.5 \n",
      "[CV]  min_child_weight=3, max_depth=3, learning_rate=0.25, gamma=0.1, colsample_bytree=0.5, score=0.575, total=   0.2s\n",
      "[CV] min_child_weight=3, max_depth=3, learning_rate=0.25, gamma=0.1, colsample_bytree=0.5 \n",
      "[CV]  min_child_weight=3, max_depth=3, learning_rate=0.25, gamma=0.1, colsample_bytree=0.5, score=0.388, total=   0.2s\n",
      "[CV] min_child_weight=3, max_depth=3, learning_rate=0.25, gamma=0.1, colsample_bytree=0.5 \n",
      "[CV]  min_child_weight=3, max_depth=3, learning_rate=0.25, gamma=0.1, colsample_bytree=0.5, score=0.519, total=   0.4s\n",
      "[CV] min_child_weight=5, max_depth=3, learning_rate=0.05, gamma=0.4, colsample_bytree=0.5 \n",
      "[CV]  min_child_weight=5, max_depth=3, learning_rate=0.05, gamma=0.4, colsample_bytree=0.5, score=0.537, total=   0.3s\n",
      "[CV] min_child_weight=5, max_depth=3, learning_rate=0.05, gamma=0.4, colsample_bytree=0.5 \n",
      "[CV]  min_child_weight=5, max_depth=3, learning_rate=0.05, gamma=0.4, colsample_bytree=0.5, score=0.375, total=   0.3s\n",
      "[CV] min_child_weight=5, max_depth=3, learning_rate=0.05, gamma=0.4, colsample_bytree=0.5 \n",
      "[CV]  min_child_weight=5, max_depth=3, learning_rate=0.05, gamma=0.4, colsample_bytree=0.5, score=0.532, total=   0.3s\n"
     ]
    },
    {
     "name": "stderr",
     "output_type": "stream",
     "text": [
      "[Parallel(n_jobs=1)]: Done  15 out of  15 | elapsed:    4.5s finished\n"
     ]
    },
    {
     "data": {
      "text/plain": [
       "RandomizedSearchCV(cv=3,\n",
       "                   estimator=XGBClassifier(base_score=None, booster=None,\n",
       "                                           colsample_bylevel=None,\n",
       "                                           colsample_bynode=None,\n",
       "                                           colsample_bytree=None, gamma=None,\n",
       "                                           gpu_id=None, importance_type='gain',\n",
       "                                           interaction_constraints=None,\n",
       "                                           learning_rate=None,\n",
       "                                           max_delta_step=None, max_depth=None,\n",
       "                                           min_child_weight=None, missing=nan,\n",
       "                                           monotone_constraints=None,\n",
       "                                           n_estimators=100,...\n",
       "                                           random_state=None, reg_alpha=None,\n",
       "                                           reg_lambda=None,\n",
       "                                           scale_pos_weight=None,\n",
       "                                           subsample=None, tree_method=None,\n",
       "                                           validate_parameters=None,\n",
       "                                           verbosity=None),\n",
       "                   n_iter=5,\n",
       "                   param_distributions={'colsample_bytree': [0.3, 0.4, 0.5,\n",
       "                                                             0.7],\n",
       "                                        'gamma': [0.0, 0.1, 0.2, 0.3, 0.4],\n",
       "                                        'learning_rate': [0.05, 0.1, 0.15, 0.2,\n",
       "                                                          0.25, 0.3],\n",
       "                                        'max_depth': [3, 4, 5, 6, 8, 10, 12,\n",
       "                                                      15],\n",
       "                                        'min_child_weight': [1, 3, 5, 7]},\n",
       "                   verbose=3)"
      ]
     },
     "execution_count": 143,
     "metadata": {},
     "output_type": "execute_result"
    }
   ],
   "source": [
    "rs_cv.fit(x_new, y)"
   ]
  },
  {
   "cell_type": "code",
   "execution_count": 144,
   "metadata": {},
   "outputs": [
    {
     "data": {
      "text/plain": [
       "XGBClassifier(base_score=0.5, booster='gbtree', colsample_bylevel=1,\n",
       "              colsample_bynode=1, colsample_bytree=0.4, gamma=0.4, gpu_id=-1,\n",
       "              importance_type='gain', interaction_constraints='',\n",
       "              learning_rate=0.15, max_delta_step=0, max_depth=4,\n",
       "              min_child_weight=5, missing=nan, monotone_constraints='()',\n",
       "              n_estimators=100, n_jobs=0, num_parallel_tree=1,\n",
       "              objective='multi:softprob', random_state=0, reg_alpha=0,\n",
       "              reg_lambda=1, scale_pos_weight=None, subsample=1,\n",
       "              tree_method='exact', validate_parameters=1, verbosity=None)"
      ]
     },
     "execution_count": 144,
     "metadata": {},
     "output_type": "execute_result"
    }
   ],
   "source": [
    "rs_cv.best_estimator_"
   ]
  },
  {
   "cell_type": "code",
   "execution_count": 145,
   "metadata": {},
   "outputs": [],
   "source": [
    "classifier = xgboost.XGBClassifier(base_score=0.5, booster='gbtree', colsample_bylevel=1,\n",
    "              colsample_bynode=1, colsample_bytree=0.4, gamma=0.3, gpu_id=-1,\n",
    "              importance_type='gain', interaction_constraints='',\n",
    "              learning_rate=0.15, max_delta_step=0, max_depth=4,\n",
    "              min_child_weight=1, missing=None, monotone_constraints='()',\n",
    "              n_estimators=100, n_jobs=0, num_parallel_tree=1,\n",
    "              objective='multi:softprob', random_state=0, reg_alpha=0,\n",
    "              reg_lambda=1, scale_pos_weight=None, subsample=1,\n",
    "              tree_method='exact', validate_parameters=1, verbosity=None)"
   ]
  },
  {
   "cell_type": "markdown",
   "metadata": {},
   "source": [
    "- **`K-Fold CV`**"
   ]
  },
  {
   "cell_type": "code",
   "execution_count": 146,
   "metadata": {},
   "outputs": [
    {
     "name": "stdout",
     "output_type": "stream",
     "text": [
      "Final Mean Accuracy:  0.5062763713080168\n",
      "Standard Deviation: 0.07654656354724079\n"
     ]
    }
   ],
   "source": [
    "score5=cross_val_score(classifier, x_new, y, cv = 3)\n",
    "print(\"Final Mean Accuracy: \", score5.mean())\n",
    "print('Standard Deviation:',score5.std())"
   ]
  },
  {
   "cell_type": "markdown",
   "metadata": {},
   "source": [
    "### 5. Linear Discrimenant Analysis"
   ]
  },
  {
   "cell_type": "code",
   "execution_count": 147,
   "metadata": {},
   "outputs": [
    {
     "data": {
      "text/plain": [
       "0.5208333333333334"
      ]
     },
     "execution_count": 147,
     "metadata": {},
     "output_type": "execute_result"
    }
   ],
   "source": [
    "from sklearn.discriminant_analysis import LinearDiscriminantAnalysis\n",
    "\n",
    "lda = LinearDiscriminantAnalysis()\n",
    "lda.fit(x_train, y_train)\n",
    "y_lda_pred = lda.predict(x_test)\n",
    "accuracy_score(y_test, y_lda_pred)"
   ]
  },
  {
   "cell_type": "markdown",
   "metadata": {},
   "source": [
    "- **`K-Fold CV`**"
   ]
  },
  {
   "cell_type": "code",
   "execution_count": 163,
   "metadata": {},
   "outputs": [
    {
     "name": "stdout",
     "output_type": "stream",
     "text": [
      "Final Mean Accuracy:  0.4392932489451477\n",
      "Standard Deviation: 0.04635838931552577\n"
     ]
    }
   ],
   "source": [
    "score6=cross_val_score(lda, x_new, y, cv = 3)\n",
    "print(\"Final Mean Accuracy: \", score6.mean())\n",
    "print('Standard Deviation:',score6.std())"
   ]
  },
  {
   "cell_type": "markdown",
   "metadata": {},
   "source": [
    "### 6. SVM"
   ]
  },
  {
   "cell_type": "code",
   "execution_count": 149,
   "metadata": {},
   "outputs": [
    {
     "data": {
      "text/plain": [
       "0.3958333333333333"
      ]
     },
     "execution_count": 149,
     "metadata": {},
     "output_type": "execute_result"
    }
   ],
   "source": [
    "from sklearn.svm import SVC\n",
    "\n",
    "sv = SVC()\n",
    "sv.fit(x_train, y_train)\n",
    "y_sv_pred = sv.predict(x_test)\n",
    "accuracy_score(y_test, y_sv_pred)"
   ]
  },
  {
   "cell_type": "markdown",
   "metadata": {},
   "source": [
    "- **`K-Fold CV`**"
   ]
  },
  {
   "cell_type": "code",
   "execution_count": 150,
   "metadata": {},
   "outputs": [
    {
     "name": "stdout",
     "output_type": "stream",
     "text": [
      "Final Mean Accuracy:  0.5230485232067511\n",
      "Standard Deviation: 0.03623529039740984\n"
     ]
    }
   ],
   "source": [
    "score7 = cross_val_score(sv, x_new, y, cv = 3)\n",
    "print(\"Final Mean Accuracy: \", score7.mean())\n",
    "print('Standard Deviation:',score7.std())"
   ]
  },
  {
   "cell_type": "markdown",
   "metadata": {},
   "source": [
    "### 7. Naïve Bayes"
   ]
  },
  {
   "cell_type": "code",
   "execution_count": 151,
   "metadata": {},
   "outputs": [
    {
     "data": {
      "text/plain": [
       "0.4583333333333333"
      ]
     },
     "execution_count": 151,
     "metadata": {},
     "output_type": "execute_result"
    }
   ],
   "source": [
    "from sklearn.naive_bayes import MultinomialNB\n",
    "\n",
    "mnb = MultinomialNB()\n",
    "mnb.fit(x_train, y_train)\n",
    "y_mnb_pred = mnb.predict(x_test)\n",
    "accuracy_score(y_test, y_mnb_pred)"
   ]
  },
  {
   "cell_type": "markdown",
   "metadata": {},
   "source": [
    "- **`K-Fold CV`**"
   ]
  },
  {
   "cell_type": "code",
   "execution_count": 152,
   "metadata": {},
   "outputs": [
    {
     "name": "stdout",
     "output_type": "stream",
     "text": [
      "Final Mean Accuracy:  0.4979430379746836\n",
      "Standard Deviation: 0.0767758955331312\n"
     ]
    }
   ],
   "source": [
    "score8 = cross_val_score(mnb, x_new, y, cv = 3)\n",
    "print(\"Final Mean Accuracy: \", score8.mean())\n",
    "print('Standard Deviation:',score8.std())"
   ]
  },
  {
   "cell_type": "markdown",
   "metadata": {},
   "source": [
    "## **`Models Using PCA`**"
   ]
  },
  {
   "cell_type": "code",
   "execution_count": 153,
   "metadata": {},
   "outputs": [],
   "source": [
    "from sklearn.decomposition import PCA\n",
    "\n",
    "pca = PCA(n_components = 10)\n",
    "pca.fit(x_new)\n",
    "pca_data = pca.transform(x_new)"
   ]
  },
  {
   "cell_type": "markdown",
   "metadata": {},
   "source": [
    "##### ***Split new data into train and test***\n",
    "- Independent (pca_data (x)) \n",
    "- Dependent data (y) "
   ]
  },
  {
   "cell_type": "code",
   "execution_count": 154,
   "metadata": {},
   "outputs": [],
   "source": [
    "x2_train, x2_test, y2_train, y2_test = train_test_split(pca_data, y, test_size = 0.2, random_state = 0)"
   ]
  },
  {
   "cell_type": "markdown",
   "metadata": {},
   "source": [
    "### ***Classification Models using pca data***\n",
    "### ***`K-Fold CV`***"
   ]
  },
  {
   "cell_type": "markdown",
   "metadata": {},
   "source": [
    "### 1. Random Forest"
   ]
  },
  {
   "cell_type": "code",
   "execution_count": 155,
   "metadata": {},
   "outputs": [
    {
     "name": "stdout",
     "output_type": "stream",
     "text": [
      "Final Mean Accuracy:  0.5187763713080169\n",
      "Standard Deviation: 0.03185854843195702\n"
     ]
    }
   ],
   "source": [
    "rfc = RandomForestClassifier(n_estimators = 120)\n",
    "\n",
    "score = cross_val_score(rfc, pca_data, y, cv = 3)\n",
    "print(\"Final Mean Accuracy: \", score.mean())\n",
    "print('Standard Deviation:', score.std())"
   ]
  },
  {
   "cell_type": "markdown",
   "metadata": {},
   "source": [
    "### 2. Logistic Regression"
   ]
  },
  {
   "cell_type": "code",
   "execution_count": 156,
   "metadata": {},
   "outputs": [
    {
     "name": "stdout",
     "output_type": "stream",
     "text": [
      "Final Mean Accuracy:  0.5483649789029537\n",
      "Standard Deviation: 0.07003667337553547\n"
     ]
    }
   ],
   "source": [
    "logit = LogisticRegression()\n",
    "\n",
    "score = cross_val_score(logit, pca_data, y, cv = 3)\n",
    "print(\"Final Mean Accuracy: \", score.mean())\n",
    "print('Standard Deviation:', score.std())"
   ]
  },
  {
   "cell_type": "markdown",
   "metadata": {},
   "source": [
    "### 3. Gradient Boosting"
   ]
  },
  {
   "cell_type": "code",
   "execution_count": 157,
   "metadata": {},
   "outputs": [
    {
     "name": "stdout",
     "output_type": "stream",
     "text": [
      "Final Mean Accuracy:  0.5226265822784811\n",
      "Standard Deviation: 0.06700085316342967\n"
     ]
    }
   ],
   "source": [
    "gb = GradientBoostingClassifier()\n",
    "\n",
    "score = cross_val_score(gb, pca_data, y, cv = 3)\n",
    "print(\"Final Mean Accuracy: \", score.mean())\n",
    "print('Standard Deviation:', score.std())"
   ]
  },
  {
   "cell_type": "markdown",
   "metadata": {},
   "source": [
    "### 4. xgboost "
   ]
  },
  {
   "cell_type": "code",
   "execution_count": 158,
   "metadata": {},
   "outputs": [
    {
     "name": "stdout",
     "output_type": "stream",
     "text": [
      "Final Mean Accuracy:  0.5313818565400844\n",
      "Standard Deviation: 0.025516199539919588\n"
     ]
    }
   ],
   "source": [
    "import xgboost as xgb\n",
    "xgb = xgb.XGBRFClassifier()\n",
    "\n",
    "score = cross_val_score(xgb, pca_data, y, cv = 3)\n",
    "print(\"Final Mean Accuracy: \", score.mean())\n",
    "print('Standard Deviation:', score.std())"
   ]
  },
  {
   "cell_type": "markdown",
   "metadata": {},
   "source": [
    "### 5. xgboost with patameters"
   ]
  },
  {
   "cell_type": "code",
   "execution_count": 159,
   "metadata": {},
   "outputs": [
    {
     "name": "stdout",
     "output_type": "stream",
     "text": [
      "Final Mean Accuracy:  0.4685654008438818\n",
      "Standard Deviation: 0.02234893284401963\n"
     ]
    }
   ],
   "source": [
    "score = cross_val_score(classifier, pca_data, y, cv = 3)\n",
    "print(\"Final Mean Accuracy: \", score.mean())\n",
    "print('Standard Deviation:', score.std())"
   ]
  },
  {
   "cell_type": "markdown",
   "metadata": {},
   "source": [
    "### 6. Linear Discrimenant Analysis"
   ]
  },
  {
   "cell_type": "code",
   "execution_count": 160,
   "metadata": {},
   "outputs": [
    {
     "name": "stdout",
     "output_type": "stream",
     "text": [
      "Final Mean Accuracy:  0.535759493670886\n",
      "Standard Deviation: 0.0607138761595621\n"
     ]
    }
   ],
   "source": [
    "lda = LinearDiscriminantAnalysis()\n",
    "\n",
    "score = cross_val_score(lda, pca_data, y, cv = 3)\n",
    "print(\"Final Mean Accuracy: \", score.mean())\n",
    "print('Standard Deviation:', score.std())"
   ]
  },
  {
   "cell_type": "markdown",
   "metadata": {},
   "source": [
    "### 7. SVM"
   ]
  },
  {
   "cell_type": "code",
   "execution_count": 161,
   "metadata": {},
   "outputs": [
    {
     "name": "stdout",
     "output_type": "stream",
     "text": [
      "Final Mean Accuracy:  0.569198312236287\n",
      "Standard Deviation: 0.04902873700301278\n"
     ]
    }
   ],
   "source": [
    "from sklearn.svm import SVC\n",
    "\n",
    "sv = SVC()\n",
    "score = cross_val_score(sv, pca_data, y, cv = 3)\n",
    "print(\"Final Mean Accuracy: \", score.mean())\n",
    "print('Standard Deviation:',score.std())"
   ]
  },
  {
   "cell_type": "markdown",
   "metadata": {},
   "source": [
    "### ***Algorithm that gives max Accuracy:-*** \n",
    "- **Without PCA:-** SVM\n",
    "            - Mean Accuracy:  52.30 %\n",
    "            - Standard Deviation: 0.036235\n",
    "    \n",
    "- **With PCA:-** SVM\n",
    "           - Mean Accuracy:- 56.91 %\n",
    "           - Standard Deviation:- 0.0490287"
   ]
  },
  {
   "cell_type": "markdown",
   "metadata": {},
   "source": [
    "# **----------------------------------------------------------------------------------**"
   ]
  },
  {
   "cell_type": "code",
   "execution_count": null,
   "metadata": {},
   "outputs": [],
   "source": []
  }
 ],
 "metadata": {
  "kernelspec": {
   "display_name": "Python 3",
   "language": "python",
   "name": "python3"
  },
  "language_info": {
   "codemirror_mode": {
    "name": "ipython",
    "version": 3
   },
   "file_extension": ".py",
   "mimetype": "text/x-python",
   "name": "python",
   "nbconvert_exporter": "python",
   "pygments_lexer": "ipython3",
   "version": "3.8.1"
  }
 },
 "nbformat": 4,
 "nbformat_minor": 4
}
